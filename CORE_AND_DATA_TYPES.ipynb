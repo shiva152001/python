{
  "nbformat": 4,
  "nbformat_minor": 0,
  "metadata": {
    "colab": {
      "provenance": []
    },
    "kernelspec": {
      "name": "python3",
      "display_name": "Python 3"
    },
    "language_info": {
      "name": "python"
    }
  },
  "cells": [
    {
      "cell_type": "markdown",
      "source": [
        "  \n",
        "  ## ***CORE DATA TYPES***\n",
        "\n",
        "---\n",
        "\n",
        "\n",
        "\n"
      ],
      "metadata": {
        "id": "7Y0F2_XbmFHY"
      }
    },
    {
      "cell_type": "markdown",
      "source": [
        "# **LIST**\n",
        "# two types of list\n",
        "1.   index of list\n",
        "2.   slicing of List\n",
        "\n"
      ],
      "metadata": {
        "id": "ffNK56DU4l2k"
      }
    },
    {
      "cell_type": "code",
      "source": [
        "#index list\n",
        "#store in anytpye of data in list\n",
        "anytype =[\"shiva\",104,12.24,\"have a dinner\"]\n",
        "         #   0     1    2        3\n",
        " #index have two types positive and negitive\n",
        " #positive index starts from \"0\"\n",
        " #nagitive index starts from \"-1\"\n",
        "print(anytype[0])\n",
        "print(anytype[1])\n",
        "print(anytype[2])\n",
        "print(anytype[3])\n",
        "#this way use this code like adding in your variable and also square bracket and instide of taking positive number."
      ],
      "metadata": {
        "colab": {
          "base_uri": "https://localhost:8080/"
        },
        "id": "9_gPGbbN5eNU",
        "outputId": "3b3dae56-e7f2-4727-e7c8-95d5746fae1d"
      },
      "execution_count": 2,
      "outputs": [
        {
          "output_type": "stream",
          "name": "stdout",
          "text": [
            "shiva\n",
            "104\n",
            "12.24\n",
            "have a dinner\n"
          ]
        }
      ]
    },
    {
      "cell_type": "code",
      "source": [
        "#examples of this positive index with numbers\n",
        "results=[35,42,54,68,98,76,30]\n",
        "#        0   1  2  3  4  5  6\n",
        "print(results[6])\n",
        "print(results[5])\n",
        "print(results[4])\n",
        "print(results[3])\n",
        "print(results[2])\n",
        "print(results[1])\n",
        "print(results[0])"
      ],
      "metadata": {
        "colab": {
          "base_uri": "https://localhost:8080/"
        },
        "id": "Z0OOw2-F7xSY",
        "outputId": "6a0a462d-ec87-41cf-cdc4-eb808d89e2dc"
      },
      "execution_count": 3,
      "outputs": [
        {
          "output_type": "stream",
          "name": "stdout",
          "text": [
            "30\n",
            "76\n",
            "98\n",
            "68\n",
            "54\n",
            "42\n",
            "35\n"
          ]
        }
      ]
    },
    {
      "cell_type": "code",
      "source": [
        "#example  of positive index with  alfabets\n",
        "_7=[\"shiva\",\"varun\",\"somu\",\"venkat\",\"ranjit\",\"pavan\",\"jeswanth\"]\n",
        "#      0       1      2       3       4         5        6\n",
        "print(_7[0])\n",
        "print(_7[1])\n",
        "print(_7[2])\n",
        "print(_7[3])\n",
        "print(_7[4])\n",
        "print(_7[5])\n",
        "print(_7[6])\n",
        "print(_7)"
      ],
      "metadata": {
        "colab": {
          "base_uri": "https://localhost:8080/"
        },
        "id": "iAS37tS98own",
        "outputId": "7a9b76b6-e095-4daf-c1a0-f2cfd5f1992b"
      },
      "execution_count": 6,
      "outputs": [
        {
          "output_type": "stream",
          "name": "stdout",
          "text": [
            "shiva\n",
            "varun\n",
            "somu\n",
            "venkat\n",
            "ranjit\n",
            "pavan\n",
            "jeswanth\n",
            "['shiva', 'varun', 'somu', 'venkat', 'ranjit', 'pavan', 'jeswanth']\n"
          ]
        }
      ]
    },
    {
      "cell_type": "code",
      "source": [
        "#example of positive index\n",
        "#positive is starting with 0 \"0\"\n",
        "_multipule=[\"one\",\"two\",\"three\",\"four\", \"five\"]\n",
        "#             0     1     2        3      4\n",
        "print(_multipule[4])\n",
        "print(_multipule[3])\n",
        "print(_multipule[2])\n",
        "print(_multipule[1])\n",
        "print(_multipule[0])\n",
        "print(_multipule)"
      ],
      "metadata": {
        "colab": {
          "base_uri": "https://localhost:8080/"
        },
        "id": "GWtcq2mx93L2",
        "outputId": "a0322d44-66ca-4c32-b0a6-be402de26c63"
      },
      "execution_count": 10,
      "outputs": [
        {
          "output_type": "stream",
          "name": "stdout",
          "text": [
            "five\n",
            "four\n",
            "three\n",
            "two\n",
            "one\n",
            "['one', 'two', 'three', 'four', 'five']\n"
          ]
        }
      ]
    },
    {
      "cell_type": "code",
      "source": [
        "#example of positive index\n",
        "x=[1,2,3,4,5,6,7]\n",
        "print(x[0])\n",
        "print(x[1])\n",
        "print(x[2])\n",
        "print(x[3])"
      ],
      "metadata": {
        "colab": {
          "base_uri": "https://localhost:8080/"
        },
        "id": "b-aSQT3yAK-_",
        "outputId": "2d2b6843-7255-46f0-de77-f7e6f6802f5f"
      },
      "execution_count": 11,
      "outputs": [
        {
          "output_type": "stream",
          "name": "stdout",
          "text": [
            "1\n",
            "2\n",
            "3\n",
            "4\n"
          ]
        }
      ]
    },
    {
      "cell_type": "markdown",
      "source": [
        "slicing list\n"
      ],
      "metadata": {
        "id": "QeE_-CJCJea9"
      }
    },
    {
      "cell_type": "code",
      "source": [
        "#in list both are same index and slicing\n",
        "#but index  is a starting to ending and start with 0\n",
        "#but slicing is a ending to starting and it's start with -1\n",
        "p=[\"Copilot\",\"Microsoft\", \"Editor\", \"templates\"]\n",
        "#     -4        -3           -2            -1\n",
        "print(p[-1])#using \"-\" ending to starting\n",
        "print(p[-2])\n",
        "print(p[-3])\n",
        "print(p[-4])\n"
      ],
      "metadata": {
        "colab": {
          "base_uri": "https://localhost:8080/"
        },
        "id": "Tf71_tN0JlXr",
        "outputId": "1e89ac25-70bf-4f8a-e168-67e272fd2394"
      },
      "execution_count": 14,
      "outputs": [
        {
          "output_type": "stream",
          "name": "stdout",
          "text": [
            "templates\n",
            "Editor\n",
            "Microsoft\n",
            "Copilot\n"
          ]
        }
      ]
    },
    {
      "cell_type": "code",
      "source": [
        "x=[\"synonyms\", \"similar\", \"words\", \"antonyms\"]\n",
        "print(x[-1])\n",
        "print(x[-2])\n",
        "print(x[-3])\n",
        "print(x[-4])\n"
      ],
      "metadata": {
        "colab": {
          "base_uri": "https://localhost:8080/"
        },
        "id": "XqaLOpIbOaDi",
        "outputId": "cd0ee5d2-31c4-4115-94a1-55d84c995c40"
      },
      "execution_count": 15,
      "outputs": [
        {
          "output_type": "stream",
          "name": "stdout",
          "text": [
            "antonyms\n",
            "words\n",
            "similar\n",
            "synonyms\n"
          ]
        }
      ]
    },
    {
      "cell_type": "code",
      "source": [
        "#error\n",
        "s=[1,2,3,4,5,6]\n",
        "print(s-1)\n",
        "print(s[-2])\n",
        "print(s[-3])"
      ],
      "metadata": {
        "colab": {
          "base_uri": "https://localhost:8080/",
          "height": 219
        },
        "id": "oaCg6RCvO8Ud",
        "outputId": "d3b59c5d-87b3-4f5a-833f-3c76bd86fd8f"
      },
      "execution_count": 16,
      "outputs": [
        {
          "output_type": "error",
          "ename": "TypeError",
          "evalue": "unsupported operand type(s) for -: 'list' and 'int'",
          "traceback": [
            "\u001b[0;31m---------------------------------------------------------------------------\u001b[0m",
            "\u001b[0;31mTypeError\u001b[0m                                 Traceback (most recent call last)",
            "\u001b[0;32m<ipython-input-16-0b114e26ffc0>\u001b[0m in \u001b[0;36m<cell line: 3>\u001b[0;34m()\u001b[0m\n\u001b[1;32m      1\u001b[0m \u001b[0;31m#error\u001b[0m\u001b[0;34m\u001b[0m\u001b[0;34m\u001b[0m\u001b[0m\n\u001b[1;32m      2\u001b[0m \u001b[0ms\u001b[0m\u001b[0;34m=\u001b[0m\u001b[0;34m[\u001b[0m\u001b[0;36m1\u001b[0m\u001b[0;34m,\u001b[0m\u001b[0;36m2\u001b[0m\u001b[0;34m,\u001b[0m\u001b[0;36m3\u001b[0m\u001b[0;34m,\u001b[0m\u001b[0;36m4\u001b[0m\u001b[0;34m,\u001b[0m\u001b[0;36m5\u001b[0m\u001b[0;34m,\u001b[0m\u001b[0;36m6\u001b[0m\u001b[0;34m]\u001b[0m\u001b[0;34m\u001b[0m\u001b[0;34m\u001b[0m\u001b[0m\n\u001b[0;32m----> 3\u001b[0;31m \u001b[0mprint\u001b[0m\u001b[0;34m(\u001b[0m\u001b[0ms\u001b[0m\u001b[0;34m-\u001b[0m\u001b[0;36m1\u001b[0m\u001b[0;34m)\u001b[0m\u001b[0;34m\u001b[0m\u001b[0;34m\u001b[0m\u001b[0m\n\u001b[0m\u001b[1;32m      4\u001b[0m \u001b[0mprint\u001b[0m\u001b[0;34m(\u001b[0m\u001b[0ms\u001b[0m\u001b[0;34m[\u001b[0m\u001b[0;34m-\u001b[0m\u001b[0;36m2\u001b[0m\u001b[0;34m]\u001b[0m\u001b[0;34m)\u001b[0m\u001b[0;34m\u001b[0m\u001b[0;34m\u001b[0m\u001b[0m\n\u001b[1;32m      5\u001b[0m \u001b[0mprint\u001b[0m\u001b[0;34m(\u001b[0m\u001b[0ms\u001b[0m\u001b[0;34m[\u001b[0m\u001b[0;34m-\u001b[0m\u001b[0;36m3\u001b[0m\u001b[0;34m]\u001b[0m\u001b[0;34m)\u001b[0m\u001b[0;34m\u001b[0m\u001b[0;34m\u001b[0m\u001b[0m\n",
            "\u001b[0;31mTypeError\u001b[0m: unsupported operand type(s) for -: 'list' and 'int'"
          ]
        }
      ]
    },
    {
      "cell_type": "markdown",
      "source": [
        "## **list oparetions**"
      ],
      "metadata": {
        "id": "sz_egF-FPbE-"
      }
    },
    {
      "cell_type": "markdown",
      "source": [
        "## list contain two type oparetions\n",
        "\n",
        "\n",
        "1.   concantenation\n",
        "2.   repatation\n",
        "\n"
      ],
      "metadata": {
        "id": "L6OqUQd8P1Go"
      }
    },
    {
      "cell_type": "code",
      "source": [
        "#example of concantenation\n",
        "u=[\"list\",\"two\",\"three\", \"four\",\"five\"]\n",
        "x=[\"term\",\"have\",\"gone\",\"why\"]\n",
        "a=u+x\n",
        "print(a)#total all data will come in out put\n",
        "print(u)#having u variable data will come in out put\n",
        "print(x)#having x variable data will come in out put\n"
      ],
      "metadata": {
        "colab": {
          "base_uri": "https://localhost:8080/"
        },
        "id": "HSt-fcCjQWwD",
        "outputId": "9d05653f-10b6-4486-c500-c377a9cd0b7a"
      },
      "execution_count": 18,
      "outputs": [
        {
          "output_type": "stream",
          "name": "stdout",
          "text": [
            "['list', 'two', 'three', 'four', 'five', 'term', 'have', 'gone', 'why']\n",
            "['list', 'two', 'three', 'four', 'five']\n",
            "['term', 'have', 'gone', 'why']\n"
          ]
        }
      ]
    },
    {
      "cell_type": "code",
      "source": [
        "e=[1,2,3,4,5,6,7]\n",
        "r=[2,3,5,6,7,8,9]\n",
        "s=e+r\n",
        "print(s)\n",
        "print(e)\n",
        "print(r)"
      ],
      "metadata": {
        "colab": {
          "base_uri": "https://localhost:8080/"
        },
        "id": "UG-2vq5wRgxX",
        "outputId": "c7acbfbb-170c-42e6-8ce3-7ef5fb0afdae"
      },
      "execution_count": 21,
      "outputs": [
        {
          "output_type": "stream",
          "name": "stdout",
          "text": [
            "[1, 2, 3, 4, 5, 6, 7, 2, 3, 5, 6, 7, 8, 9]\n",
            "[1, 2, 3, 4, 5, 6, 7]\n",
            "[2, 3, 5, 6, 7, 8, 9]\n"
          ]
        }
      ]
    },
    {
      "cell_type": "code",
      "source": [
        "g=[-1,-2,-3,-4,-5]\n",
        "h=[-9,-8,-7,-6,-5]\n",
        "p=g+h\n",
        "print(p)"
      ],
      "metadata": {
        "colab": {
          "base_uri": "https://localhost:8080/"
        },
        "id": "xi_2R-IhSB_Y",
        "outputId": "3efdea8d-54f2-4dde-dc73-1e25162ca3de"
      },
      "execution_count": 22,
      "outputs": [
        {
          "output_type": "stream",
          "name": "stdout",
          "text": [
            "[-1, -2, -3, -4, -5, -9, -8, -7, -6, -5]\n"
          ]
        }
      ]
    },
    {
      "cell_type": "code",
      "source": [
        "#error\n",
        "k=[\"a\",\"s\",\"d\",\"f\",\"g\"]\n",
        "h=[a,s,d,f,g] #aflabets always want double cotations\n",
        "print(k)\n",
        "print(h)"
      ],
      "metadata": {
        "colab": {
          "base_uri": "https://localhost:8080/",
          "height": 219
        },
        "id": "TNJ1D4m1SlPB",
        "outputId": "3c53e7b7-89e0-4251-f805-9cf524d234a4"
      },
      "execution_count": 23,
      "outputs": [
        {
          "output_type": "error",
          "ename": "NameError",
          "evalue": "name 'd' is not defined",
          "traceback": [
            "\u001b[0;31m---------------------------------------------------------------------------\u001b[0m",
            "\u001b[0;31mNameError\u001b[0m                                 Traceback (most recent call last)",
            "\u001b[0;32m<ipython-input-23-faa11daa12a0>\u001b[0m in \u001b[0;36m<cell line: 3>\u001b[0;34m()\u001b[0m\n\u001b[1;32m      1\u001b[0m \u001b[0;31m#error\u001b[0m\u001b[0;34m\u001b[0m\u001b[0;34m\u001b[0m\u001b[0m\n\u001b[1;32m      2\u001b[0m \u001b[0mk\u001b[0m\u001b[0;34m=\u001b[0m\u001b[0;34m[\u001b[0m\u001b[0;34m\"a\"\u001b[0m\u001b[0;34m,\u001b[0m\u001b[0;34m\"s\"\u001b[0m\u001b[0;34m,\u001b[0m\u001b[0;34m\"d\"\u001b[0m\u001b[0;34m,\u001b[0m\u001b[0;34m\"f\"\u001b[0m\u001b[0;34m,\u001b[0m\u001b[0;34m\"g\"\u001b[0m\u001b[0;34m]\u001b[0m\u001b[0;34m\u001b[0m\u001b[0;34m\u001b[0m\u001b[0m\n\u001b[0;32m----> 3\u001b[0;31m \u001b[0mh\u001b[0m\u001b[0;34m=\u001b[0m\u001b[0;34m[\u001b[0m\u001b[0ma\u001b[0m\u001b[0;34m,\u001b[0m\u001b[0ms\u001b[0m\u001b[0;34m,\u001b[0m\u001b[0md\u001b[0m\u001b[0;34m,\u001b[0m\u001b[0mf\u001b[0m\u001b[0;34m,\u001b[0m\u001b[0mg\u001b[0m\u001b[0;34m]\u001b[0m\u001b[0;34m\u001b[0m\u001b[0;34m\u001b[0m\u001b[0m\n\u001b[0m\u001b[1;32m      4\u001b[0m \u001b[0mprint\u001b[0m\u001b[0;34m(\u001b[0m\u001b[0mk\u001b[0m\u001b[0;34m)\u001b[0m\u001b[0;34m\u001b[0m\u001b[0;34m\u001b[0m\u001b[0m\n\u001b[1;32m      5\u001b[0m \u001b[0mprint\u001b[0m\u001b[0;34m(\u001b[0m\u001b[0mh\u001b[0m\u001b[0;34m)\u001b[0m\u001b[0;34m\u001b[0m\u001b[0;34m\u001b[0m\u001b[0m\n",
            "\u001b[0;31mNameError\u001b[0m: name 'd' is not defined"
          ]
        }
      ]
    },
    {
      "cell_type": "code",
      "source": [
        "#example of saparetion\n",
        "d=[\"w\"\"e\"\"r\"\"t\"\"g\"] #u can saparate with coma  u dont put coma output meaning will change\n",
        "print(d)"
      ],
      "metadata": {
        "colab": {
          "base_uri": "https://localhost:8080/"
        },
        "id": "80xCsM7hTB70",
        "outputId": "f562d8fd-f8cf-42d2-960e-2604ebf74cd9"
      },
      "execution_count": 24,
      "outputs": [
        {
          "output_type": "stream",
          "name": "stdout",
          "text": [
            "['wertg']\n"
          ]
        }
      ]
    },
    {
      "cell_type": "markdown",
      "source": [
        "# **Repatation**"
      ],
      "metadata": {
        "id": "KbbDnxlzT-ZY"
      }
    },
    {
      "cell_type": "code",
      "source": [
        "q=[1,2,3,4,5,6,7,8,9]\n",
        "w=q*2\n",
        "e=q*10\n",
        "print(w)#it repeats 2 times\n",
        "print(e)#it repeat 10 times\n",
        "print(q)#it is normal veriableadding to print"
      ],
      "metadata": {
        "colab": {
          "base_uri": "https://localhost:8080/"
        },
        "id": "l5Pwf7rwUHma",
        "outputId": "a379b243-08b9-41b7-8ec4-55860732769a"
      },
      "execution_count": 26,
      "outputs": [
        {
          "output_type": "stream",
          "name": "stdout",
          "text": [
            "[1, 2, 3, 4, 5, 6, 7, 8, 9, 1, 2, 3, 4, 5, 6, 7, 8, 9]\n",
            "[1, 2, 3, 4, 5, 6, 7, 8, 9, 1, 2, 3, 4, 5, 6, 7, 8, 9, 1, 2, 3, 4, 5, 6, 7, 8, 9, 1, 2, 3, 4, 5, 6, 7, 8, 9, 1, 2, 3, 4, 5, 6, 7, 8, 9, 1, 2, 3, 4, 5, 6, 7, 8, 9, 1, 2, 3, 4, 5, 6, 7, 8, 9, 1, 2, 3, 4, 5, 6, 7, 8, 9, 1, 2, 3, 4, 5, 6, 7, 8, 9, 1, 2, 3, 4, 5, 6, 7, 8, 9]\n",
            "[1, 2, 3, 4, 5, 6, 7, 8, 9]\n"
          ]
        }
      ]
    },
    {
      "cell_type": "code",
      "source": [
        "w=[\"list\",\"two\",\"three\", \"four\",\"five\"]\n",
        "e=w*5\n",
        "print(e)# it repeats 5times"
      ],
      "metadata": {
        "colab": {
          "base_uri": "https://localhost:8080/"
        },
        "id": "Msg__UlsY1C4",
        "outputId": "3ee94781-346c-4718-89c8-ee00e8ab0509"
      },
      "execution_count": 27,
      "outputs": [
        {
          "output_type": "stream",
          "name": "stdout",
          "text": [
            "['list', 'two', 'three', 'four', 'five', 'list', 'two', 'three', 'four', 'five', 'list', 'two', 'three', 'four', 'five', 'list', 'two', 'three', 'four', 'five', 'list', 'two', 'three', 'four', 'five']\n"
          ]
        }
      ]
    },
    {
      "cell_type": "code",
      "source": [
        "d=[\"Copilot\",\"Microsoft\", \"Editor\", \"templates\"]\n",
        "a=d*3\n",
        "print(a)"
      ],
      "metadata": {
        "colab": {
          "base_uri": "https://localhost:8080/"
        },
        "id": "1fhN1f0wZQ-E",
        "outputId": "254b2405-4a94-4fec-bfc7-15b3c141e2f1"
      },
      "execution_count": 28,
      "outputs": [
        {
          "output_type": "stream",
          "name": "stdout",
          "text": [
            "['Copilot', 'Microsoft', 'Editor', 'templates', 'Copilot', 'Microsoft', 'Editor', 'templates', 'Copilot', 'Microsoft', 'Editor', 'templates']\n"
          ]
        }
      ]
    },
    {
      "cell_type": "code",
      "source": [
        "#error normal concatenation what they have errors same error it will come\n",
        "s= [can saparate  coma  u dont]\n",
        "a=s*2\n",
        "print(a)\n",
        "#coma error"
      ],
      "metadata": {
        "colab": {
          "base_uri": "https://localhost:8080/",
          "height": 110
        },
        "id": "1yjrje1TZgX5",
        "outputId": "4ee77615-f961-4991-dac8-02f266a0424c"
      },
      "execution_count": 29,
      "outputs": [
        {
          "output_type": "error",
          "ename": "SyntaxError",
          "evalue": "invalid syntax. Perhaps you forgot a comma? (<ipython-input-29-967e60a868b3>, line 2)",
          "traceback": [
            "\u001b[0;36m  File \u001b[0;32m\"<ipython-input-29-967e60a868b3>\"\u001b[0;36m, line \u001b[0;32m2\u001b[0m\n\u001b[0;31m    s= [can saparate  coma  u dont]\u001b[0m\n\u001b[0m        ^\u001b[0m\n\u001b[0;31mSyntaxError\u001b[0m\u001b[0;31m:\u001b[0m invalid syntax. Perhaps you forgot a comma?\n"
          ]
        }
      ]
    },
    {
      "cell_type": "code",
      "source": [
        "g=[\"a\",\"s\",\"d\",\"f\",\"g\"]\n",
        "a=g*7\n",
        "print(a)"
      ],
      "metadata": {
        "colab": {
          "base_uri": "https://localhost:8080/"
        },
        "id": "eKpUbMRiaAEA",
        "outputId": "02686def-a890-47fa-a246-dcf1c696762d"
      },
      "execution_count": 30,
      "outputs": [
        {
          "output_type": "stream",
          "name": "stdout",
          "text": [
            "['a', 's', 'd', 'f', 'g', 'a', 's', 'd', 'f', 'g', 'a', 's', 'd', 'f', 'g', 'a', 's', 'd', 'f', 'g', 'a', 's', 'd', 'f', 'g', 'a', 's', 'd', 'f', 'g', 'a', 's', 'd', 'f', 'g']\n"
          ]
        }
      ]
    },
    {
      "cell_type": "code",
      "source": [],
      "metadata": {
        "id": "7HprEqksaRxu"
      },
      "execution_count": null,
      "outputs": []
    }
  ]
}
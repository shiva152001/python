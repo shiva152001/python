{
  "nbformat": 4,
  "nbformat_minor": 0,
  "metadata": {
    "colab": {
      "provenance": []
    },
    "kernelspec": {
      "name": "python3",
      "display_name": "Python 3"
    },
    "language_info": {
      "name": "python"
    }
  },
  "cells": [
    {
      "cell_type": "markdown",
      "source": [
        "  \n",
        "  ## ***CORE DATA TYPES***\n",
        "\n",
        "---\n",
        "\n",
        "\n",
        "\n"
      ],
      "metadata": {
        "id": "7Y0F2_XbmFHY"
      }
    },
    {
      "cell_type": "markdown",
      "source": [
        "# **LIST**\n",
        "# two types of list\n",
        "1.   index of list\n",
        "2.   slicing of List\n",
        "\n"
      ],
      "metadata": {
        "id": "ffNK56DU4l2k"
      }
    },
    {
      "cell_type": "code",
      "source": [
        "#index list\n",
        "#store in anytpye of data in list\n",
        "anytype =[\"shiva\",104,12.24,\"have a dinner\"]\n",
        "         #   0     1    2        3\n",
        " #index have two types positive and negitive\n",
        " #positive index starts from \"0\"\n",
        " #nagitive index starts from \"-1\"\n",
        "print(anytype[0])\n",
        "print(anytype[1])\n",
        "print(anytype[2])\n",
        "print(anytype[3])\n",
        "#this way use this code like adding in your variable and also square bracket and instide of taking positive number."
      ],
      "metadata": {
        "colab": {
          "base_uri": "https://localhost:8080/"
        },
        "id": "9_gPGbbN5eNU",
        "outputId": "3b3dae56-e7f2-4727-e7c8-95d5746fae1d"
      },
      "execution_count": null,
      "outputs": [
        {
          "output_type": "stream",
          "name": "stdout",
          "text": [
            "shiva\n",
            "104\n",
            "12.24\n",
            "have a dinner\n"
          ]
        }
      ]
    },
    {
      "cell_type": "code",
      "source": [
        "#examples of this positive index with numbers\n",
        "results=[35,42,54,68,98,76,30]\n",
        "#        0   1  2  3  4  5  6\n",
        "print(results[6])\n",
        "print(results[5])\n",
        "print(results[4])\n",
        "print(results[3])\n",
        "print(results[2])\n",
        "print(results[1])\n",
        "print(results[0])"
      ],
      "metadata": {
        "colab": {
          "base_uri": "https://localhost:8080/"
        },
        "id": "Z0OOw2-F7xSY",
        "outputId": "6a0a462d-ec87-41cf-cdc4-eb808d89e2dc"
      },
      "execution_count": null,
      "outputs": [
        {
          "output_type": "stream",
          "name": "stdout",
          "text": [
            "30\n",
            "76\n",
            "98\n",
            "68\n",
            "54\n",
            "42\n",
            "35\n"
          ]
        }
      ]
    },
    {
      "cell_type": "code",
      "source": [
        "#example  of positive index with  alfabets\n",
        "_7=[\"shiva\",\"varun\",\"somu\",\"venkat\",\"ranjit\",\"pavan\",\"jeswanth\"]\n",
        "#      0       1      2       3       4         5        6\n",
        "print(_7[0])\n",
        "print(_7[1])\n",
        "print(_7[2])\n",
        "print(_7[3])\n",
        "print(_7[4])\n",
        "print(_7[5])\n",
        "print(_7[6])\n",
        "print(_7)"
      ],
      "metadata": {
        "colab": {
          "base_uri": "https://localhost:8080/"
        },
        "id": "iAS37tS98own",
        "outputId": "7a9b76b6-e095-4daf-c1a0-f2cfd5f1992b"
      },
      "execution_count": null,
      "outputs": [
        {
          "output_type": "stream",
          "name": "stdout",
          "text": [
            "shiva\n",
            "varun\n",
            "somu\n",
            "venkat\n",
            "ranjit\n",
            "pavan\n",
            "jeswanth\n",
            "['shiva', 'varun', 'somu', 'venkat', 'ranjit', 'pavan', 'jeswanth']\n"
          ]
        }
      ]
    },
    {
      "cell_type": "code",
      "source": [
        "#example of positive index\n",
        "#positive is starting with 0 \"0\"\n",
        "_multipule=[\"one\",\"two\",\"three\",\"four\", \"five\"]\n",
        "#             0     1     2        3      4\n",
        "print(_multipule[4])\n",
        "print(_multipule[3])\n",
        "print(_multipule[2])\n",
        "print(_multipule[1])\n",
        "print(_multipule[0])\n",
        "print(_multipule)"
      ],
      "metadata": {
        "colab": {
          "base_uri": "https://localhost:8080/"
        },
        "id": "GWtcq2mx93L2",
        "outputId": "a0322d44-66ca-4c32-b0a6-be402de26c63"
      },
      "execution_count": null,
      "outputs": [
        {
          "output_type": "stream",
          "name": "stdout",
          "text": [
            "five\n",
            "four\n",
            "three\n",
            "two\n",
            "one\n",
            "['one', 'two', 'three', 'four', 'five']\n"
          ]
        }
      ]
    },
    {
      "cell_type": "code",
      "source": [
        "#example of positive index\n",
        "x=[1,2,3,4,5,6,7]\n",
        "print(x[0])\n",
        "print(x[1])\n",
        "print(x[2])\n",
        "print(x[3])"
      ],
      "metadata": {
        "colab": {
          "base_uri": "https://localhost:8080/"
        },
        "id": "b-aSQT3yAK-_",
        "outputId": "2d2b6843-7255-46f0-de77-f7e6f6802f5f"
      },
      "execution_count": null,
      "outputs": [
        {
          "output_type": "stream",
          "name": "stdout",
          "text": [
            "1\n",
            "2\n",
            "3\n",
            "4\n"
          ]
        }
      ]
    },
    {
      "cell_type": "markdown",
      "source": [
        "slicing list\n"
      ],
      "metadata": {
        "id": "QeE_-CJCJea9"
      }
    },
    {
      "cell_type": "code",
      "source": [
        "#in list both are same index and slicing\n",
        "#but index  is a starting to ending and start with 0\n",
        "#but slicing is a ending to starting and it's start with -1\n",
        "p=[\"Copilot\",\"Microsoft\", \"Editor\", \"templates\"]\n",
        "#     -4        -3           -2            -1\n",
        "print(p[-1])#using \"-\" ending to starting\n",
        "print(p[-2])\n",
        "print(p[-3])\n",
        "print(p[-4])\n"
      ],
      "metadata": {
        "colab": {
          "base_uri": "https://localhost:8080/"
        },
        "id": "Tf71_tN0JlXr",
        "outputId": "1e89ac25-70bf-4f8a-e168-67e272fd2394"
      },
      "execution_count": null,
      "outputs": [
        {
          "output_type": "stream",
          "name": "stdout",
          "text": [
            "templates\n",
            "Editor\n",
            "Microsoft\n",
            "Copilot\n"
          ]
        }
      ]
    },
    {
      "cell_type": "code",
      "source": [
        "x=[\"synonyms\", \"similar\", \"words\", \"antonyms\"]\n",
        "print(x[-1])\n",
        "print(x[-2])\n",
        "print(x[-3])\n",
        "print(x[-4])\n"
      ],
      "metadata": {
        "colab": {
          "base_uri": "https://localhost:8080/"
        },
        "id": "XqaLOpIbOaDi",
        "outputId": "cd0ee5d2-31c4-4115-94a1-55d84c995c40"
      },
      "execution_count": null,
      "outputs": [
        {
          "output_type": "stream",
          "name": "stdout",
          "text": [
            "antonyms\n",
            "words\n",
            "similar\n",
            "synonyms\n"
          ]
        }
      ]
    },
    {
      "cell_type": "code",
      "source": [
        "#error\n",
        "s=[1,2,3,4,5,6]\n",
        "print(s-1)\n",
        "print(s[-2])\n",
        "print(s[-3])"
      ],
      "metadata": {
        "colab": {
          "base_uri": "https://localhost:8080/",
          "height": 219
        },
        "id": "oaCg6RCvO8Ud",
        "outputId": "d3b59c5d-87b3-4f5a-833f-3c76bd86fd8f"
      },
      "execution_count": null,
      "outputs": [
        {
          "output_type": "error",
          "ename": "TypeError",
          "evalue": "unsupported operand type(s) for -: 'list' and 'int'",
          "traceback": [
            "\u001b[0;31m---------------------------------------------------------------------------\u001b[0m",
            "\u001b[0;31mTypeError\u001b[0m                                 Traceback (most recent call last)",
            "\u001b[0;32m<ipython-input-16-0b114e26ffc0>\u001b[0m in \u001b[0;36m<cell line: 3>\u001b[0;34m()\u001b[0m\n\u001b[1;32m      1\u001b[0m \u001b[0;31m#error\u001b[0m\u001b[0;34m\u001b[0m\u001b[0;34m\u001b[0m\u001b[0m\n\u001b[1;32m      2\u001b[0m \u001b[0ms\u001b[0m\u001b[0;34m=\u001b[0m\u001b[0;34m[\u001b[0m\u001b[0;36m1\u001b[0m\u001b[0;34m,\u001b[0m\u001b[0;36m2\u001b[0m\u001b[0;34m,\u001b[0m\u001b[0;36m3\u001b[0m\u001b[0;34m,\u001b[0m\u001b[0;36m4\u001b[0m\u001b[0;34m,\u001b[0m\u001b[0;36m5\u001b[0m\u001b[0;34m,\u001b[0m\u001b[0;36m6\u001b[0m\u001b[0;34m]\u001b[0m\u001b[0;34m\u001b[0m\u001b[0;34m\u001b[0m\u001b[0m\n\u001b[0;32m----> 3\u001b[0;31m \u001b[0mprint\u001b[0m\u001b[0;34m(\u001b[0m\u001b[0ms\u001b[0m\u001b[0;34m-\u001b[0m\u001b[0;36m1\u001b[0m\u001b[0;34m)\u001b[0m\u001b[0;34m\u001b[0m\u001b[0;34m\u001b[0m\u001b[0m\n\u001b[0m\u001b[1;32m      4\u001b[0m \u001b[0mprint\u001b[0m\u001b[0;34m(\u001b[0m\u001b[0ms\u001b[0m\u001b[0;34m[\u001b[0m\u001b[0;34m-\u001b[0m\u001b[0;36m2\u001b[0m\u001b[0;34m]\u001b[0m\u001b[0;34m)\u001b[0m\u001b[0;34m\u001b[0m\u001b[0;34m\u001b[0m\u001b[0m\n\u001b[1;32m      5\u001b[0m \u001b[0mprint\u001b[0m\u001b[0;34m(\u001b[0m\u001b[0ms\u001b[0m\u001b[0;34m[\u001b[0m\u001b[0;34m-\u001b[0m\u001b[0;36m3\u001b[0m\u001b[0;34m]\u001b[0m\u001b[0;34m)\u001b[0m\u001b[0;34m\u001b[0m\u001b[0;34m\u001b[0m\u001b[0m\n",
            "\u001b[0;31mTypeError\u001b[0m: unsupported operand type(s) for -: 'list' and 'int'"
          ]
        }
      ]
    },
    {
      "cell_type": "markdown",
      "source": [
        "## **list oparetions**"
      ],
      "metadata": {
        "id": "sz_egF-FPbE-"
      }
    },
    {
      "cell_type": "markdown",
      "source": [
        "## list contain two type oparetions\n",
        "\n",
        "\n",
        "1.   concantenation\n",
        "2.   repatation\n",
        "\n"
      ],
      "metadata": {
        "id": "L6OqUQd8P1Go"
      }
    },
    {
      "cell_type": "code",
      "source": [
        "#example of concantenation\n",
        "u=[\"list\",\"two\",\"three\", \"four\",\"five\"]\n",
        "x=[\"term\",\"have\",\"gone\",\"why\"]\n",
        "a=u+x\n",
        "print(a)#total all data will come in out put\n",
        "print(u)#having u variable data will come in out put\n",
        "print(x)#having x variable data will come in out put\n"
      ],
      "metadata": {
        "colab": {
          "base_uri": "https://localhost:8080/"
        },
        "id": "HSt-fcCjQWwD",
        "outputId": "9d05653f-10b6-4486-c500-c377a9cd0b7a"
      },
      "execution_count": null,
      "outputs": [
        {
          "output_type": "stream",
          "name": "stdout",
          "text": [
            "['list', 'two', 'three', 'four', 'five', 'term', 'have', 'gone', 'why']\n",
            "['list', 'two', 'three', 'four', 'five']\n",
            "['term', 'have', 'gone', 'why']\n"
          ]
        }
      ]
    },
    {
      "cell_type": "code",
      "source": [
        "e=[1,2,3,4,5,6,7]\n",
        "r=[2,3,5,6,7,8,9]\n",
        "s=e+r\n",
        "print(s)\n",
        "print(e)\n",
        "print(r)"
      ],
      "metadata": {
        "colab": {
          "base_uri": "https://localhost:8080/"
        },
        "id": "UG-2vq5wRgxX",
        "outputId": "c7acbfbb-170c-42e6-8ce3-7ef5fb0afdae"
      },
      "execution_count": null,
      "outputs": [
        {
          "output_type": "stream",
          "name": "stdout",
          "text": [
            "[1, 2, 3, 4, 5, 6, 7, 2, 3, 5, 6, 7, 8, 9]\n",
            "[1, 2, 3, 4, 5, 6, 7]\n",
            "[2, 3, 5, 6, 7, 8, 9]\n"
          ]
        }
      ]
    },
    {
      "cell_type": "code",
      "source": [
        "g=[-1,-2,-3,-4,-5]\n",
        "h=[-9,-8,-7,-6,-5]\n",
        "p=g+h\n",
        "print(p)"
      ],
      "metadata": {
        "colab": {
          "base_uri": "https://localhost:8080/"
        },
        "id": "xi_2R-IhSB_Y",
        "outputId": "3efdea8d-54f2-4dde-dc73-1e25162ca3de"
      },
      "execution_count": null,
      "outputs": [
        {
          "output_type": "stream",
          "name": "stdout",
          "text": [
            "[-1, -2, -3, -4, -5, -9, -8, -7, -6, -5]\n"
          ]
        }
      ]
    },
    {
      "cell_type": "code",
      "source": [
        "#error\n",
        "k=[\"a\",\"s\",\"d\",\"f\",\"g\"]\n",
        "h=[a,s,d,f,g] #aflabets always want double cotations\n",
        "print(k)\n",
        "print(h)"
      ],
      "metadata": {
        "colab": {
          "base_uri": "https://localhost:8080/",
          "height": 219
        },
        "id": "TNJ1D4m1SlPB",
        "outputId": "3c53e7b7-89e0-4251-f805-9cf524d234a4"
      },
      "execution_count": null,
      "outputs": [
        {
          "output_type": "error",
          "ename": "NameError",
          "evalue": "name 'd' is not defined",
          "traceback": [
            "\u001b[0;31m---------------------------------------------------------------------------\u001b[0m",
            "\u001b[0;31mNameError\u001b[0m                                 Traceback (most recent call last)",
            "\u001b[0;32m<ipython-input-23-faa11daa12a0>\u001b[0m in \u001b[0;36m<cell line: 3>\u001b[0;34m()\u001b[0m\n\u001b[1;32m      1\u001b[0m \u001b[0;31m#error\u001b[0m\u001b[0;34m\u001b[0m\u001b[0;34m\u001b[0m\u001b[0m\n\u001b[1;32m      2\u001b[0m \u001b[0mk\u001b[0m\u001b[0;34m=\u001b[0m\u001b[0;34m[\u001b[0m\u001b[0;34m\"a\"\u001b[0m\u001b[0;34m,\u001b[0m\u001b[0;34m\"s\"\u001b[0m\u001b[0;34m,\u001b[0m\u001b[0;34m\"d\"\u001b[0m\u001b[0;34m,\u001b[0m\u001b[0;34m\"f\"\u001b[0m\u001b[0;34m,\u001b[0m\u001b[0;34m\"g\"\u001b[0m\u001b[0;34m]\u001b[0m\u001b[0;34m\u001b[0m\u001b[0;34m\u001b[0m\u001b[0m\n\u001b[0;32m----> 3\u001b[0;31m \u001b[0mh\u001b[0m\u001b[0;34m=\u001b[0m\u001b[0;34m[\u001b[0m\u001b[0ma\u001b[0m\u001b[0;34m,\u001b[0m\u001b[0ms\u001b[0m\u001b[0;34m,\u001b[0m\u001b[0md\u001b[0m\u001b[0;34m,\u001b[0m\u001b[0mf\u001b[0m\u001b[0;34m,\u001b[0m\u001b[0mg\u001b[0m\u001b[0;34m]\u001b[0m\u001b[0;34m\u001b[0m\u001b[0;34m\u001b[0m\u001b[0m\n\u001b[0m\u001b[1;32m      4\u001b[0m \u001b[0mprint\u001b[0m\u001b[0;34m(\u001b[0m\u001b[0mk\u001b[0m\u001b[0;34m)\u001b[0m\u001b[0;34m\u001b[0m\u001b[0;34m\u001b[0m\u001b[0m\n\u001b[1;32m      5\u001b[0m \u001b[0mprint\u001b[0m\u001b[0;34m(\u001b[0m\u001b[0mh\u001b[0m\u001b[0;34m)\u001b[0m\u001b[0;34m\u001b[0m\u001b[0;34m\u001b[0m\u001b[0m\n",
            "\u001b[0;31mNameError\u001b[0m: name 'd' is not defined"
          ]
        }
      ]
    },
    {
      "cell_type": "code",
      "source": [
        "#example of saparetion\n",
        "d=[\"w\"\"e\"\"r\"\"t\"\"g\"] #u can saparate with coma  u dont put coma output meaning will change\n",
        "print(d)"
      ],
      "metadata": {
        "colab": {
          "base_uri": "https://localhost:8080/"
        },
        "id": "80xCsM7hTB70",
        "outputId": "f562d8fd-f8cf-42d2-960e-2604ebf74cd9"
      },
      "execution_count": null,
      "outputs": [
        {
          "output_type": "stream",
          "name": "stdout",
          "text": [
            "['wertg']\n"
          ]
        }
      ]
    },
    {
      "cell_type": "markdown",
      "source": [
        "# **Repatation**"
      ],
      "metadata": {
        "id": "KbbDnxlzT-ZY"
      }
    },
    {
      "cell_type": "code",
      "source": [
        "q=[1,2,3,4,5,6,7,8,9]\n",
        "w=q*2\n",
        "e=q*10\n",
        "print(w)#it repeats 2 times\n",
        "print(e)#it repeat 10 times\n",
        "print(q)#it is normal veriableadding to print"
      ],
      "metadata": {
        "colab": {
          "base_uri": "https://localhost:8080/"
        },
        "id": "l5Pwf7rwUHma",
        "outputId": "a379b243-08b9-41b7-8ec4-55860732769a"
      },
      "execution_count": null,
      "outputs": [
        {
          "output_type": "stream",
          "name": "stdout",
          "text": [
            "[1, 2, 3, 4, 5, 6, 7, 8, 9, 1, 2, 3, 4, 5, 6, 7, 8, 9]\n",
            "[1, 2, 3, 4, 5, 6, 7, 8, 9, 1, 2, 3, 4, 5, 6, 7, 8, 9, 1, 2, 3, 4, 5, 6, 7, 8, 9, 1, 2, 3, 4, 5, 6, 7, 8, 9, 1, 2, 3, 4, 5, 6, 7, 8, 9, 1, 2, 3, 4, 5, 6, 7, 8, 9, 1, 2, 3, 4, 5, 6, 7, 8, 9, 1, 2, 3, 4, 5, 6, 7, 8, 9, 1, 2, 3, 4, 5, 6, 7, 8, 9, 1, 2, 3, 4, 5, 6, 7, 8, 9]\n",
            "[1, 2, 3, 4, 5, 6, 7, 8, 9]\n"
          ]
        }
      ]
    },
    {
      "cell_type": "code",
      "source": [
        "w=[\"list\",\"two\",\"three\", \"four\",\"five\"]\n",
        "e=w*5\n",
        "print(e)# it repeats 5times"
      ],
      "metadata": {
        "colab": {
          "base_uri": "https://localhost:8080/"
        },
        "id": "Msg__UlsY1C4",
        "outputId": "3ee94781-346c-4718-89c8-ee00e8ab0509"
      },
      "execution_count": null,
      "outputs": [
        {
          "output_type": "stream",
          "name": "stdout",
          "text": [
            "['list', 'two', 'three', 'four', 'five', 'list', 'two', 'three', 'four', 'five', 'list', 'two', 'three', 'four', 'five', 'list', 'two', 'three', 'four', 'five', 'list', 'two', 'three', 'four', 'five']\n"
          ]
        }
      ]
    },
    {
      "cell_type": "code",
      "source": [
        "d=[\"Copilot\",\"Microsoft\", \"Editor\", \"templates\"]\n",
        "a=d*3\n",
        "print(a)"
      ],
      "metadata": {
        "colab": {
          "base_uri": "https://localhost:8080/"
        },
        "id": "1fhN1f0wZQ-E",
        "outputId": "254b2405-4a94-4fec-bfc7-15b3c141e2f1"
      },
      "execution_count": null,
      "outputs": [
        {
          "output_type": "stream",
          "name": "stdout",
          "text": [
            "['Copilot', 'Microsoft', 'Editor', 'templates', 'Copilot', 'Microsoft', 'Editor', 'templates', 'Copilot', 'Microsoft', 'Editor', 'templates']\n"
          ]
        }
      ]
    },
    {
      "cell_type": "code",
      "source": [
        "#error normal concatenation what they have errors same error it will come\n",
        "s= [can saparate  coma  u dont]\n",
        "a=s*2\n",
        "print(a)\n",
        "#coma error"
      ],
      "metadata": {
        "colab": {
          "base_uri": "https://localhost:8080/",
          "height": 110
        },
        "id": "1yjrje1TZgX5",
        "outputId": "4ee77615-f961-4991-dac8-02f266a0424c"
      },
      "execution_count": null,
      "outputs": [
        {
          "output_type": "error",
          "ename": "SyntaxError",
          "evalue": "invalid syntax. Perhaps you forgot a comma? (<ipython-input-29-967e60a868b3>, line 2)",
          "traceback": [
            "\u001b[0;36m  File \u001b[0;32m\"<ipython-input-29-967e60a868b3>\"\u001b[0;36m, line \u001b[0;32m2\u001b[0m\n\u001b[0;31m    s= [can saparate  coma  u dont]\u001b[0m\n\u001b[0m        ^\u001b[0m\n\u001b[0;31mSyntaxError\u001b[0m\u001b[0;31m:\u001b[0m invalid syntax. Perhaps you forgot a comma?\n"
          ]
        }
      ]
    },
    {
      "cell_type": "code",
      "source": [
        "g=[\"a\",\"s\",\"d\",\"f\",\"g\"]\n",
        "a=g*7\n",
        "print(a)"
      ],
      "metadata": {
        "colab": {
          "base_uri": "https://localhost:8080/"
        },
        "id": "eKpUbMRiaAEA",
        "outputId": "02686def-a890-47fa-a246-dcf1c696762d"
      },
      "execution_count": null,
      "outputs": [
        {
          "output_type": "stream",
          "name": "stdout",
          "text": [
            "['a', 's', 'd', 'f', 'g', 'a', 's', 'd', 'f', 'g', 'a', 's', 'd', 'f', 'g', 'a', 's', 'd', 'f', 'g', 'a', 's', 'd', 'f', 'g', 'a', 's', 'd', 'f', 'g', 'a', 's', 'd', 'f', 'g']\n"
          ]
        }
      ]
    },
    {
      "cell_type": "code",
      "source": [
        "d=[9,8,7,6,5,]\n",
        "e=d*2\n",
        "print(e)"
      ],
      "metadata": {
        "id": "7HprEqksaRxu",
        "colab": {
          "base_uri": "https://localhost:8080/"
        },
        "outputId": "615f1d8f-f467-4c67-d666-d17ce06f7dcb"
      },
      "execution_count": 1,
      "outputs": [
        {
          "output_type": "stream",
          "name": "stdout",
          "text": [
            "[9, 8, 7, 6, 5, 9, 8, 7, 6, 5]\n"
          ]
        }
      ]
    },
    {
      "cell_type": "markdown",
      "source": [
        "# change list items"
      ],
      "metadata": {
        "id": "HhxMSMG5weQs"
      }
    },
    {
      "cell_type": "markdown",
      "source": [
        "# *>to change the value of specific item refer to the index number*"
      ],
      "metadata": {
        "id": "RkGFGqFfweUA"
      }
    },
    {
      "cell_type": "code",
      "source": [
        "#in index example\n",
        "languges=[\"python\",\"c\",\"c++\",\"java\",\"java script\"]\n",
        "#adding to the 2nd line variable and square brackets in the brakets index value\n",
        "languges[3]=\"hacking\"\n",
        "languges[0]=\"data analyst\"\n",
        "print(languges)\n"
      ],
      "metadata": {
        "colab": {
          "base_uri": "https://localhost:8080/"
        },
        "id": "gr8FTDWrw0at",
        "outputId": "d2666890-131f-443d-e343-7ad075fec17b"
      },
      "execution_count": 5,
      "outputs": [
        {
          "output_type": "stream",
          "name": "stdout",
          "text": [
            "['data analyst', 'c', 'c++', 'hacking', 'java script']\n"
          ]
        }
      ]
    },
    {
      "cell_type": "code",
      "source": [
        "#example of this change list items\n",
        "fruits=[\"apple\",\"grapes\",\"banana\",\"carroct\",\"orange\",\"brinjal\"]\n",
        "#          0        1        2        3         4        5\n",
        "fruits[3]=\"cherry\"\n",
        "fruits[5]=\"pine apple\"\n",
        "print(fruits)\n"
      ],
      "metadata": {
        "colab": {
          "base_uri": "https://localhost:8080/"
        },
        "id": "Is1WTnZeyL29",
        "outputId": "3b637426-d9fa-4ecb-bf87-e4b0e261cb37"
      },
      "execution_count": 7,
      "outputs": [
        {
          "output_type": "stream",
          "name": "stdout",
          "text": [
            "['apple', 'grapes', 'banana', 'cherry', 'orange', 'pine apple']\n"
          ]
        }
      ]
    },
    {
      "cell_type": "code",
      "source": [
        "#example of this change list items{like paragraph}\n",
        "words=[\"prepositions\", \"pronouns\",\" conjunctions\",  \"contractions\",\"verbs\", \"nouns\", \"adjectives\",\"adverbs\"]\n",
        "#            0             1            2                 3           4        5           6          7\n",
        "words[4]=\"happy\"\n",
        "words[1]=\"beautiful\"\n",
        "words[6]=\"funny\"\n",
        "words[0]=\"append\"\n",
        "print(words)"
      ],
      "metadata": {
        "colab": {
          "base_uri": "https://localhost:8080/"
        },
        "id": "sKOu6Ylm0IgY",
        "outputId": "c0073a06-5f6a-4900-c803-3155edae1985"
      },
      "execution_count": 9,
      "outputs": [
        {
          "output_type": "stream",
          "name": "stdout",
          "text": [
            "['append', 'beautiful', ' conjunctions', 'contractions', 'happy', 'nouns', 'funny', 'adverbs']\n"
          ]
        }
      ]
    },
    {
      "cell_type": "code",
      "source": [
        "numbers=[261,268,263,269, 369, 266,267 ]\n",
        "#         0    1   2   3   4    5   6\n",
        "numbers[1]=262\n",
        "numbers[3]=264\n",
        "numbers[4]=265\n",
        "print(numbers)"
      ],
      "metadata": {
        "colab": {
          "base_uri": "https://localhost:8080/"
        },
        "id": "5Ljjnhyw2aQr",
        "outputId": "70167663-9dd7-44a3-80fc-a2a84a31b777"
      },
      "execution_count": 16,
      "outputs": [
        {
          "output_type": "stream",
          "name": "stdout",
          "text": [
            "[261, 262, 263, 264, 265, 266, 267]\n"
          ]
        }
      ]
    },
    {
      "cell_type": "markdown",
      "source": [
        "change list in slicing\n",
        "\n",
        "---\n",
        "\n"
      ],
      "metadata": {
        "id": "v9BoKeOL37V8"
      }
    },
    {
      "cell_type": "code",
      "source": [
        "#in  slicing example\n",
        "languges=[\"python\",\"c\",\"c++\",\"java\",\"java script\"]\n",
        "#adding to the 2nd line variable and square brackets in the brakets index value\n",
        "languges[-3]=\"hacking\"\n",
        "languges[-1]=\"data analyst\"\n",
        "print(languges)\n"
      ],
      "metadata": {
        "colab": {
          "base_uri": "https://localhost:8080/"
        },
        "id": "1ofXbsSS4EFB",
        "outputId": "1879a5f4-5475-46bc-f923-67f750f657a2"
      },
      "execution_count": 11,
      "outputs": [
        {
          "output_type": "stream",
          "name": "stdout",
          "text": [
            "['python', 'c', 'hacking', 'java', 'data analyst']\n"
          ]
        }
      ]
    },
    {
      "cell_type": "code",
      "source": [
        "#example of this change list items\n",
        "fruits=[\"apple\",\"grapes\",\"banana\",\"carroct\",\"orange\",\"brinjal\"]\n",
        "#        -6      -5       -4         -3         -2      -1\n",
        "fruits[-3]=\"cherry\"\n",
        "fruits[-1]=\"pine apple\"\n",
        "print(fruits)\n"
      ],
      "metadata": {
        "colab": {
          "base_uri": "https://localhost:8080/"
        },
        "id": "5_T-DxnL4Z0B",
        "outputId": "f23ac4a5-2036-4c75-8aa2-741a0386b70f"
      },
      "execution_count": 13,
      "outputs": [
        {
          "output_type": "stream",
          "name": "stdout",
          "text": [
            "['apple', 'grapes', 'banana', 'cherry', 'orange', 'pine apple']\n"
          ]
        }
      ]
    },
    {
      "cell_type": "code",
      "source": [
        "#example of this change list items{like paragraph}\n",
        "words=[\"prepositions\", \"pronouns\",\" conjunctions\",  \"contractions\",\"verbs\", \"nouns\", \"adjectives\",\"adverbs\"]\n",
        "#             -8           -7            -6               -5          -4       -3        -2          -1\n",
        "words[4]=\"happy\"\n",
        "words[1]=\"beautiful\"\n",
        "words[6]=\"funny\"\n",
        "words[0]=\"append\"\n",
        "print(words)"
      ],
      "metadata": {
        "colab": {
          "base_uri": "https://localhost:8080/"
        },
        "id": "geNzwxHp40kg",
        "outputId": "37b05e76-a1c4-42d0-f073-238f2dd07705"
      },
      "execution_count": 14,
      "outputs": [
        {
          "output_type": "stream",
          "name": "stdout",
          "text": [
            "['append', 'beautiful', ' conjunctions', 'contractions', 'happy', 'nouns', 'funny', 'adverbs']\n"
          ]
        }
      ]
    },
    {
      "cell_type": "code",
      "source": [
        "numbers=[261,268,263,269, 369, 266,267 ]\n",
        "#         -7  -6  -5  -4   -3  -2   -1\n",
        "numbers[-6]=262\n",
        "numbers[-4]=264\n",
        "numbers[-3]=265\n",
        "print(numbers)"
      ],
      "metadata": {
        "colab": {
          "base_uri": "https://localhost:8080/"
        },
        "id": "4UZjHEFy5N-5",
        "outputId": "32189d8f-88d5-450d-9759-8e93b3011bde"
      },
      "execution_count": 15,
      "outputs": [
        {
          "output_type": "stream",
          "name": "stdout",
          "text": [
            "[261, 262, 263, 264, 265, 266, 267]\n"
          ]
        }
      ]
    },
    {
      "cell_type": "code",
      "source": [
        "_m=[\"four\",\"two\",\"five\",\"one\", \"three\"]\n",
        "#      -5    -4   -3       -2      -1\n",
        "_m[-5]=\"one\"\n",
        "_m[-3]=\"three\"\n",
        "_m[-2]=\"four\"\n",
        "_m[-1]=\"five\"\n",
        "print(_m)"
      ],
      "metadata": {
        "colab": {
          "base_uri": "https://localhost:8080/"
        },
        "id": "uafaDiNd5gzc",
        "outputId": "e95cceba-7e56-4e0c-bc38-5773ebfcf3e4"
      },
      "execution_count": 19,
      "outputs": [
        {
          "output_type": "stream",
          "name": "stdout",
          "text": [
            "['one', 'two', 'three', 'four', 'five']\n"
          ]
        }
      ]
    },
    {
      "cell_type": "markdown",
      "source": [
        "# list methods\n",
        "\n",
        "---\n",
        "\n",
        "\n",
        "\n",
        "---\n",
        "\n"
      ],
      "metadata": {
        "id": "cjDUtZ_W7AiF"
      }
    },
    {
      "cell_type": "markdown",
      "source": [
        " types of lists\n",
        "\n",
        "\n",
        "1.  append()\n",
        "2.  extend()\n",
        "3.  insert()\n",
        "4.remove()\n",
        "5. pop()\n",
        "6. index()\n",
        "7. count()\n",
        "8. sort()\n",
        "9. reverse()\n",
        "\n",
        "\n",
        "\n"
      ],
      "metadata": {
        "id": "4hOH10VW7Lc-"
      }
    },
    {
      "cell_type": "markdown",
      "source": [
        "# **Append()**\n",
        "\n",
        "---\n",
        "\n"
      ],
      "metadata": {
        "id": "FxxIaCmX7_8F"
      }
    },
    {
      "cell_type": "code",
      "source": [
        "#append()\n",
        "#>adds an element to the end of the list\n",
        "fruits=[\"apple\",\"grapes\",\"banana\",\"orange\",]\n",
        "fruits.append(\"cherry\")\n",
        "print(fruits)"
      ],
      "metadata": {
        "colab": {
          "base_uri": "https://localhost:8080/"
        },
        "id": "dBzof0ZD8F3P",
        "outputId": "4cf9ec86-8eef-4b99-cdb1-a7529a7eea8f"
      },
      "execution_count": 21,
      "outputs": [
        {
          "output_type": "stream",
          "name": "stdout",
          "text": [
            "['apple', 'grapes', 'banana', 'orange', 'cherry']\n"
          ]
        }
      ]
    },
    {
      "cell_type": "code",
      "source": [
        "games=[\"free fire\",\"bgmi\",\"car gaming\"]\n",
        "games.append(\"subway surf\")\n",
        "print(games)"
      ],
      "metadata": {
        "colab": {
          "base_uri": "https://localhost:8080/"
        },
        "id": "kOwWz9No9Ux_",
        "outputId": "9ac556a1-46d0-487b-e58a-b0df476a91cb"
      },
      "execution_count": 23,
      "outputs": [
        {
          "output_type": "stream",
          "name": "stdout",
          "text": [
            "['free fire', 'bgmi', 'car gaming', 'subway surf']\n"
          ]
        }
      ]
    },
    {
      "cell_type": "code",
      "source": [
        "numbers=[2.3,2.4,2.4,2.6,2.7]\n",
        "numbers[2]=2.5\n",
        "numbers.append(2.8)\n",
        "print(numbers)"
      ],
      "metadata": {
        "colab": {
          "base_uri": "https://localhost:8080/"
        },
        "id": "2j_jKqEp9s3i",
        "outputId": "d3bebcee-c345-4c65-f695-d769d69d338b"
      },
      "execution_count": 33,
      "outputs": [
        {
          "output_type": "stream",
          "name": "stdout",
          "text": [
            "[2.3, 2.4, 2.5, 2.6, 2.7, 2.8]\n"
          ]
        }
      ]
    },
    {
      "cell_type": "code",
      "source": [
        "ab=[\"eyes\",\"nose\",\"mouth\",\"ears\"]\n",
        "ab.append(\"tounge\")\n",
        "ab[1]=\"cheek\"\n",
        "ab[-1]=\"head\"\n",
        "print(ab)\n",
        "#in this code we using the three type of lists\n",
        " #index, slincing,append"
      ],
      "metadata": {
        "colab": {
          "base_uri": "https://localhost:8080/"
        },
        "id": "xPjwwl8x-Qis",
        "outputId": "065be090-1c67-47e1-978f-417e3b1130bf"
      },
      "execution_count": 35,
      "outputs": [
        {
          "output_type": "stream",
          "name": "stdout",
          "text": [
            "['eyes', 'cheek', 'mouth', 'ears', 'head']\n"
          ]
        }
      ]
    },
    {
      "cell_type": "code",
      "source": [
        "x=[\"synonyms\", \"similar\", \"words\", \"antonyms\"]\n",
        "x[0]=\"three\"\n",
        "x[-2]=\"two\"\n",
        "x.append(\"hundred\")\n",
        "print(x)"
      ],
      "metadata": {
        "colab": {
          "base_uri": "https://localhost:8080/"
        },
        "id": "2w1YML-OAHFx",
        "outputId": "c0656633-e859-4c4a-e762-6ce3261f49ec"
      },
      "execution_count": 38,
      "outputs": [
        {
          "output_type": "stream",
          "name": "stdout",
          "text": [
            "['three', 'similar', 'two', 'antonyms', 'hundred']\n"
          ]
        }
      ]
    },
    {
      "cell_type": "markdown",
      "source": [
        "# **extand():**"
      ],
      "metadata": {
        "id": "BYkvarFjBfbo"
      }
    },
    {
      "cell_type": "code",
      "source": [
        "#extend()\n",
        "#> extend the some more words means adding  words\n",
        "fruits=[\"apple\",\"grapes\",\"banana\",\"orange\",]\n",
        "fruits2=(\"cherry\",\"pine apple\", \"watermelon\")\n",
        "fruits.extend(fruits2)\n",
        "print(fruits)"
      ],
      "metadata": {
        "colab": {
          "base_uri": "https://localhost:8080/"
        },
        "id": "69TSMm6PBns2",
        "outputId": "9a6f06b6-cfd6-4404-865d-a9f00def8345"
      },
      "execution_count": 43,
      "outputs": [
        {
          "output_type": "stream",
          "name": "stdout",
          "text": [
            "['apple', 'grapes', 'banana', 'orange', 'cherry', 'pine apple', 'watermelon']\n"
          ]
        }
      ]
    },
    {
      "cell_type": "code",
      "source": [
        "games=[\"free fire\",\"bgmi\",\"car gaming\"]\n",
        "game=[\"subway surf\"]\n",
        "games.extend(game)\n",
        "print(games)"
      ],
      "metadata": {
        "colab": {
          "base_uri": "https://localhost:8080/"
        },
        "id": "4rGxQ8YqCiWD",
        "outputId": "a0a296e5-b7ee-4f0b-ef28-cefebc43870e"
      },
      "execution_count": 45,
      "outputs": [
        {
          "output_type": "stream",
          "name": "stdout",
          "text": [
            "['free fire', 'bgmi', 'car gaming', 'subway surf']\n"
          ]
        }
      ]
    },
    {
      "cell_type": "code",
      "source": [
        "numbers=[2.3,2.4,2.4,2.6,2.7]\n",
        "numbers[2]=2.5\n",
        "number=[2.8]\n",
        "numbers.extend(number)\n",
        "print(numbers)"
      ],
      "metadata": {
        "colab": {
          "base_uri": "https://localhost:8080/"
        },
        "id": "TvARlZu1DfZZ",
        "outputId": "5b5bdd54-5951-431a-8dd5-5df9ebb87cca"
      },
      "execution_count": 46,
      "outputs": [
        {
          "output_type": "stream",
          "name": "stdout",
          "text": [
            "[2.3, 2.4, 2.5, 2.6, 2.7, 2.8]\n"
          ]
        }
      ]
    },
    {
      "cell_type": "code",
      "source": [
        "ab=[\"eyes\",\"nose\",\"mouth\",\"ears\"]\n",
        "abc=[\"tounge\"]\n",
        "ab[1]=\"cheek\"\n",
        "ab[-1]=\"head\"\n",
        "ab.extend(abc)\n",
        "print(ab)\n",
        "#in this code we using the three type of lists\n",
        " #index, slincing,extend"
      ],
      "metadata": {
        "colab": {
          "base_uri": "https://localhost:8080/"
        },
        "id": "LRVHO55LD7ye",
        "outputId": "b770d1e6-a299-42ce-9bbd-9b05e1348065"
      },
      "execution_count": 47,
      "outputs": [
        {
          "output_type": "stream",
          "name": "stdout",
          "text": [
            "['eyes', 'cheek', 'mouth', 'head', 'tounge']\n"
          ]
        }
      ]
    },
    {
      "cell_type": "code",
      "source": [
        "x=[\"synonyms\", \"similar\", \"words\", \"antonyms\"]\n",
        "x[0]=\"three\"\n",
        "x[-2]=\"two\"\n",
        "xx=[\"hundred\"]\n",
        "x.extend(xx)\n",
        "print(x)"
      ],
      "metadata": {
        "colab": {
          "base_uri": "https://localhost:8080/"
        },
        "id": "AapOlGasEPIq",
        "outputId": "da631b6f-dc0c-49b9-91f0-b12eb4594ebf"
      },
      "execution_count": 48,
      "outputs": [
        {
          "output_type": "stream",
          "name": "stdout",
          "text": [
            "['three', 'similar', 'two', 'antonyms', 'hundred']\n"
          ]
        }
      ]
    },
    {
      "cell_type": "markdown",
      "source": [
        "## **insert():**"
      ],
      "metadata": {
        "id": "L-HZUtq1Ek4Q"
      }
    },
    {
      "cell_type": "code",
      "source": [
        "#insert an element at a specific position\n",
        "words=[\"shiva\",\"bharth\",\"jeswanth\",\"pavan\"]\n",
        "words.insert(1,\"rohit\")\n",
        "print(words)"
      ],
      "metadata": {
        "colab": {
          "base_uri": "https://localhost:8080/"
        },
        "id": "IJotV2UHExdo",
        "outputId": "40bf2132-b4fe-4218-c71e-a267e202aa9d"
      },
      "execution_count": 58,
      "outputs": [
        {
          "output_type": "stream",
          "name": "stdout",
          "text": [
            "['shiva', 'rohit', 'bharth', 'jeswanth', 'pavan']\n"
          ]
        }
      ]
    },
    {
      "cell_type": "code",
      "source": [
        "fruits=[\"apple\",\"grapes\",\"banana\",\"orange\",]\n",
        "fruits2=(\"cherry\",\"pine apple\", \"watermelon\")\n",
        "fruits.extend(fruits2)\n",
        "fruits.insert(-1,\"cancer\")\n",
        "print(fruits)\n",
        "#in this code we using the 2types of lists extand, insert"
      ],
      "metadata": {
        "colab": {
          "base_uri": "https://localhost:8080/"
        },
        "id": "XPY-PYg_Ffnb",
        "outputId": "ab72a0ff-06d9-4a6b-8a29-d0fce92b5ad5"
      },
      "execution_count": 59,
      "outputs": [
        {
          "output_type": "stream",
          "name": "stdout",
          "text": [
            "['apple', 'grapes', 'banana', 'orange', 'cherry', 'pine apple', 'cancer', 'watermelon']\n"
          ]
        }
      ]
    },
    {
      "cell_type": "code",
      "source": [
        "numbers=[2.3,2.4,2.4,2.6,2.7]\n",
        "numbers[2]=2.5\n",
        "number=[2.9]\n",
        "numbers.extend(number)\n",
        "numbers.insert(5,2.8)\n",
        "print(numbers)\n",
        "#now we using the three types lists extand, insert ,append"
      ],
      "metadata": {
        "colab": {
          "base_uri": "https://localhost:8080/"
        },
        "id": "Q-1wNcjHGtJG",
        "outputId": "2b3c9e24-9dfe-4ed6-c021-6304e366413a"
      },
      "execution_count": 60,
      "outputs": [
        {
          "output_type": "stream",
          "name": "stdout",
          "text": [
            "[2.3, 2.4, 2.5, 2.6, 2.7, 2.8, 2.9]\n"
          ]
        }
      ]
    },
    {
      "cell_type": "code",
      "source": [
        "ab=[\"eyes\",\"nose\",\"mouth\",\"ears\"]\n",
        "abc=[\"tounge\"]\n",
        "ab[1]=\"cheek\"\n",
        "ab[-1]=\"head\"\n",
        "ab.extend(abc)\n",
        "ab.insert(4,\"body\")\n",
        "print(ab)\n",
        "#in this code we using the three type of lists\n",
        " #index, slincing,extend,insert"
      ],
      "metadata": {
        "colab": {
          "base_uri": "https://localhost:8080/"
        },
        "id": "25H88xUMLDyP",
        "outputId": "2a107b0f-dcf6-4450-dbea-e51d724b571d"
      },
      "execution_count": 61,
      "outputs": [
        {
          "output_type": "stream",
          "name": "stdout",
          "text": [
            "['eyes', 'cheek', 'mouth', 'head', 'body', 'tounge']\n"
          ]
        }
      ]
    },
    {
      "cell_type": "code",
      "source": [
        "x=[\"synonyms\", \"similar\", \"words\", \"antonyms\"]\n",
        "x[0]=\"three\"\n",
        "x[-2]=\"two\"\n",
        "xx=[\"hundred\"]\n",
        "x.extend(xx)\n",
        "x.insert(-3,\"teks\")\n",
        "print(x)"
      ],
      "metadata": {
        "colab": {
          "base_uri": "https://localhost:8080/"
        },
        "id": "2LxGoWW3LoAh",
        "outputId": "0144b3e6-ab2f-4680-9d0f-44a82075b957"
      },
      "execution_count": 62,
      "outputs": [
        {
          "output_type": "stream",
          "name": "stdout",
          "text": [
            "['three', 'similar', 'teks', 'two', 'antonyms', 'hundred']\n"
          ]
        }
      ]
    },
    {
      "cell_type": "markdown",
      "source": [
        "## **Remove():**\n",
        "\n",
        "---\n",
        "\n",
        "\n",
        "\n",
        "---\n",
        "\n"
      ],
      "metadata": {
        "id": "MhOQv8-CL8VL"
      }
    },
    {
      "cell_type": "code",
      "source": [
        "#remove the first occurence of value\n",
        "shiva=[\"h\",\"a\",\"p\",\"p\",\"y\"]\n",
        "numbers=[7,0,9,5,0,5]\n",
        "words=[\"dinner\",\"break fast\",\"lunch\",\"food\"]\n",
        "subjects=[\"english\",\"social\",\"science\",\"maths\"]\n",
        "_x=[\"a\",\"b\",\"c\",\"d\",\"e\"]\n",
        "\n",
        "shiva.remove(\"p\")\n",
        "numbers.remove(5)\n",
        "words.remove(\"food\")\n",
        "subjects.remove(\"english\")\n",
        "_x.remove(\"c\")\n",
        "print(shiva)\n",
        "print(numbers)\n",
        "print(words)\n",
        "print(subjects)\n",
        "print(_x)"
      ],
      "metadata": {
        "colab": {
          "base_uri": "https://localhost:8080/"
        },
        "id": "Z7i65-tPMEc-",
        "outputId": "c8e9c19b-c277-4d33-dc5b-2af02fdfd248"
      },
      "execution_count": 64,
      "outputs": [
        {
          "output_type": "stream",
          "name": "stdout",
          "text": [
            "['h', 'a', 'p', 'y']\n",
            "[7, 0, 9, 0, 5]\n",
            "['dinner', 'break fast', 'lunch']\n",
            "['social', 'science', 'maths']\n",
            "['a', 'b', 'd', 'e']\n"
          ]
        }
      ]
    },
    {
      "cell_type": "markdown",
      "source": [
        "# **pop**\n",
        "\n",
        "---\n",
        "\n",
        "\n",
        "\n",
        "---\n",
        "\n"
      ],
      "metadata": {
        "id": "RRefkD4BTDUZ"
      }
    },
    {
      "cell_type": "code",
      "source": [
        "invite=[\"shiva\",\"bharth\",\"jeswanth\",\"pavan\"]\n",
        "#        0         1        2         3\n",
        "#        -4        -3       -2       -1\n",
        "fruits=[\"apple\",\"grapes\",\"banana\",\"orange\"]\n",
        "#        0         1        2         3\n",
        "#        -4        -3       -2       -1\n",
        "numbers=[2.3,2.4,2.4,2.6,2.7]\n",
        "#         0   1   2   3   4\n",
        "#         -5  -4  -3  -2  -1\n",
        "ab=[\"eyes\",\"nose\",\"mouth\",\"ears\"]\n",
        "#      0     1       2      3\n",
        "#     -4    -3      -2     -1\n",
        "xx=[\"synonyms\", \"similar\", \"words\", \"antonyms\"]\n",
        "#        0         1        2         3\n",
        "#        -4        -3       -2       -1\n",
        "shiva=[\"h\",\"a\",\"p\",\"p\",\"y\"]\n",
        "#       0   1   2   3   4\n",
        "#      -5  -4  -3  -2  -1\n",
        "number=[7,0,9,5,0,5]\n",
        "#       0 1 2 3 4 5\n",
        "#      -6-5-4-3-2-1\n",
        "words=[\"dinner\",\"break fast\",\"lunch\",\"food\"]\n",
        "#        0         1        2         3\n",
        "#        -4        -3       -2       -1\n",
        "subjects=[\"english\",\"social\",\"science\",\"maths\"]\n",
        "#            0         1        2         3\n",
        "#           -4        -3       -2       -1\n",
        "_x=[\"a\",\"b\",\"c\",\"d\",\"e\"]\n",
        "#    0   1   2   3   4\n",
        "#   -5  -4  -3  -2  -1\n",
        "x=invite.pop(2)\n",
        "d=fruits.pop(3)\n",
        "f=numbers.pop(4)\n",
        "l=ab.pop(3)\n",
        "k=xx.pop(1)\n",
        "j=shiva.pop(0)\n",
        "g=number.pop(4)\n",
        "h=words.pop(0)\n",
        "s=subjects.pop(2)\n",
        "z=_x.pop(1)\n",
        "\n",
        "\n",
        "\n",
        "print(invite)\n",
        "print(fruits)\n",
        "print(numbers)\n",
        "print(ab)\n",
        "print(x)\n",
        "print(shiva)\n",
        "print(number)\n",
        "print(words)\n",
        "print(subjects)\n",
        "print(_x)\n",
        "\n"
      ],
      "metadata": {
        "colab": {
          "base_uri": "https://localhost:8080/"
        },
        "id": "lmxz66iGTIKE",
        "outputId": "c1d1eb7e-4581-489e-d705-f0f0ee871558"
      },
      "execution_count": 69,
      "outputs": [
        {
          "output_type": "stream",
          "name": "stdout",
          "text": [
            "['shiva', 'bharth', 'pavan']\n",
            "['apple', 'grapes', 'banana']\n",
            "[2.3, 2.4, 2.4, 2.6]\n",
            "['eyes', 'nose', 'mouth']\n",
            "jeswanth\n",
            "['a', 'p', 'p', 'y']\n",
            "[7, 0, 9, 5, 5]\n",
            "['break fast', 'lunch', 'food']\n",
            "['english', 'social', 'maths']\n",
            "['a', 'c', 'd', 'e']\n"
          ]
        }
      ]
    },
    {
      "cell_type": "code",
      "source": [
        "invite=[\"shiva\",\"bharth\",\"jeswanth\",\"pavan\"]\n",
        "#        0         1        2         3\n",
        "#        -4        -3       -2       -1\n",
        "fruits=[\"apple\",\"grapes\",\"banana\",\"orange\"]\n",
        "#        0         1        2         3\n",
        "#        -4        -3       -2       -1\n",
        "numbers=[2.3,2.4,2.4,2.6,2.7]\n",
        "#         0   1   2   3   4\n",
        "#         -5  -4  -3  -2  -1\n",
        "ab=[\"eyes\",\"nose\",\"mouth\",\"ears\"]\n",
        "#      0     1       2      3\n",
        "#     -4    -3      -2     -1\n",
        "xx=[\"synonyms\", \"similar\", \"words\", \"antonyms\"]\n",
        "#        0         1        2         3\n",
        "#        -4        -3       -2       -1\n",
        "shiva=[\"h\",\"a\",\"p\",\"p\",\"y\"]\n",
        "#       0   1   2   3   4\n",
        "#      -5  -4  -3  -2  -1\n",
        "number=[7,0,9,5,0,5]\n",
        "#       0 1 2 3 4 5\n",
        "#      -6-5-4-3-2-1\n",
        "words=[\"dinner\",\"break fast\",\"lunch\",\"food\"]\n",
        "#        0         1        2         3\n",
        "#        -4        -3       -2       -1\n",
        "subjects=[\"english\",\"social\",\"science\",\"maths\"]\n",
        "#            0         1        2         3\n",
        "#           -4        -3       -2       -1\n",
        "_x=[\"a\",\"b\",\"c\",\"d\",\"e\"]\n",
        "#    0   1   2   3   4\n",
        "#   -5  -4  -3  -2  -1\n",
        "\n",
        "x=invite.pop(-1)\n",
        "d=fruits.pop(-2)\n",
        "f=numbers.pop(-3)\n",
        "l=ab.pop(-4)\n",
        "k=xx.pop(-1)\n",
        "j=shiva.pop(-2)\n",
        "g=number.pop(-3)\n",
        "h=words.pop(-4)\n",
        "s=subjects.pop(-2)\n",
        "z=_x.pop(-3)\n",
        "\n",
        "print(invite)\n",
        "print(fruits)\n",
        "print(numbers)\n",
        "print(ab)\n",
        "print(x)\n",
        "print(shiva)\n",
        "print(number)\n",
        "print(words)\n",
        "print(subjects)\n",
        "print(_x)"
      ],
      "metadata": {
        "colab": {
          "base_uri": "https://localhost:8080/"
        },
        "id": "wBQK0uSIYEYC",
        "outputId": "ce2fd254-5172-4ab4-d53f-cd8182446391"
      },
      "execution_count": 70,
      "outputs": [
        {
          "output_type": "stream",
          "name": "stdout",
          "text": [
            "['shiva', 'bharth', 'jeswanth']\n",
            "['apple', 'grapes', 'orange']\n",
            "[2.3, 2.4, 2.6, 2.7]\n",
            "['nose', 'mouth', 'ears']\n",
            "pavan\n",
            "['h', 'a', 'p', 'y']\n",
            "[7, 0, 9, 0, 5]\n",
            "['break fast', 'lunch', 'food']\n",
            "['english', 'social', 'maths']\n",
            "['a', 'b', 'd', 'e']\n"
          ]
        }
      ]
    },
    {
      "cell_type": "markdown",
      "source": [
        "## **index():**"
      ],
      "metadata": {
        "id": "0Op0Hf61YxTP"
      }
    },
    {
      "cell_type": "code",
      "source": [
        "#refers the index of the first occurence of value\n",
        "invite=[\"shiva\",\"bharth\",\"jeswanth\",\"pavan\"]\n",
        "#        0         1        2         3\n",
        "#        -4        -3       -2       -1\n",
        "fruits=[\"apple\",\"grapes\",\"banana\",\"orange\"]\n",
        "#        0         1        2         3\n",
        "#        -4        -3       -2       -1\n",
        "numbers=[2.3,2.4,2.4,2.6,2.7]\n",
        "#         0   1   2   3   4\n",
        "#         -5  -4  -3  -2  -1\n",
        "ab=[\"eyes\",\"nose\",\"mouth\",\"ears\"]\n",
        "#      0     1       2      3\n",
        "#     -4    -3      -2     -1\n",
        "xx=[\"synonyms\", \"similar\", \"words\", \"antonyms\"]\n",
        "#        0         1        2         3\n",
        "#        -4        -3       -2       -1\n",
        "shiva=[\"h\",\"a\",\"p\",\"p\",\"y\"]\n",
        "#       0   1   2   3   4\n",
        "#      -5  -4  -3  -2  -1\n",
        "number=[7,0,9,5,0,5]\n",
        "#       0 1 2 3 4 5\n",
        "#      -6-5-4-3-2-1\n",
        "words=[\"dinner\",\"break fast\",\"lunch\",\"food\"]\n",
        "#        0         1        2         3\n",
        "#        -4        -3       -2       -1\n",
        "subjects=[\"english\",\"social\",\"science\",\"maths\"]\n",
        "#            0         1        2         3\n",
        "#           -4        -3       -2       -1\n",
        "_x=[\"a\",\"b\",\"c\",\"d\",\"e\"]\n",
        "#    0   1   2   3   4\n",
        "#   -5  -4  -3  -2  -1\n",
        "\n",
        "x=invite.index(\"bharth\")\n",
        "d=fruits.index(\"banana\")\n",
        "f=numbers.index(2.4)\n",
        "l=ab.index(\"mouth\")\n",
        "k=xx.index(\"similar\")\n",
        "j=shiva.index(\"a\")\n",
        "g=number.index(9)\n",
        "h=words.index(\"break fast\")\n",
        "s=subjects.index(\"english\")\n",
        "z=_x.index(\"c\")\n",
        "\n",
        "print(x)\n",
        "print(d)\n",
        "print(f)\n",
        "print(l)\n",
        "print(k)\n",
        "print(j)\n",
        "print(g)\n",
        "print(h)\n",
        "print(s)\n",
        "print(z)\n"
      ],
      "metadata": {
        "colab": {
          "base_uri": "https://localhost:8080/"
        },
        "id": "fYMxzqWvY00h",
        "outputId": "d91995b2-ce73-4621-9cef-127059a47cb7"
      },
      "execution_count": 73,
      "outputs": [
        {
          "output_type": "stream",
          "name": "stdout",
          "text": [
            "1\n",
            "2\n",
            "1\n",
            "2\n",
            "1\n",
            "1\n",
            "2\n",
            "1\n",
            "0\n",
            "2\n"
          ]
        }
      ]
    },
    {
      "cell_type": "markdown",
      "source": [
        "# **count():**"
      ],
      "metadata": {
        "id": "JmkjztfobU4m"
      }
    },
    {
      "cell_type": "code",
      "source": [
        "#returns the number of occurences of the value\n",
        "_a=[1,2,3,4,5,6,1,1,1,1,2,2,3,3,4,4,5,6]\n",
        "fruits=[\"banana\",\"apple\",\"banana\",\"orange\",\"banana\",\"pine apple\"]\n",
        "sweet=[\"gulab jamun\",\"gulab jamun\",\"gulab jamun\",\"gulab jamun\",\"gulab jamun\",\"gulab jamun\",\"gulab jamun\",\"gulab jamun\",\"gulab jamun\",]\n",
        "hot=[\"mixture\",\"mixture\",\"mixture\",\"mixture\",\"mixture\",\"mixture\",\"mixture\",\"mixture\",\"mixture\",\"mixture\",\"mixture\",\"mixture\",\"mixture\",\"mixture\",\"mixture\",\"mixture\",\"mixture\",]\n",
        "food=[\"rice\",\"puri\",\"rice\",\"vada\",\"rice\",\"cake\",\"rice\",\"rice\"]\n",
        "numbers=[2,2,2,2,2,2,2,2,2,2,2,2,2,2,2,2,2,2,2,2,2,2,2,2,2,2,2,2,2,2,2,2,2,2,2,2,2,2,2,2,2,2,2,2,2,2,2,2,2]\n",
        "\n",
        "x=_a.count(1)\n",
        "y=fruits.count(\"banana\")\n",
        "z=sweet.count(\"gulab jamun\")\n",
        "s=hot.count(\"mixture\")\n",
        "d=food.count(\"rice\")\n",
        "f=numbers.count(2)\n",
        "\n",
        "print(x)\n",
        "print(y)\n",
        "print(z)\n",
        "print(s)\n",
        "print(d)\n",
        "print(f)"
      ],
      "metadata": {
        "colab": {
          "base_uri": "https://localhost:8080/"
        },
        "id": "_-1gPzlHbfVz",
        "outputId": "e9477ff1-d9f4-4c5e-b428-faab2262e1e5"
      },
      "execution_count": 74,
      "outputs": [
        {
          "output_type": "stream",
          "name": "stdout",
          "text": [
            "5\n",
            "3\n",
            "9\n",
            "17\n",
            "5\n",
            "49\n"
          ]
        }
      ]
    },
    {
      "cell_type": "markdown",
      "source": [
        "# **sort():**"
      ],
      "metadata": {
        "id": "aSugg_VtgCnb"
      }
    },
    {
      "cell_type": "code",
      "source": [
        "#sort the list in ascending order\n",
        "names=[\"apple\",\"Apple\",\"Ball\",\"ball\",\"cat\",\"Cat\",\"dog\",\"Dog\"]\n",
        "numbers=[5,4,6,2,7,8,9,1,3,5,4,6,7,8,9,2]\n",
        "alfabets=[\"K\",\"e\",\"D\",\"R\",\"P\",\"F\",\"d\",\"w\",\"q\"]\n",
        "num=[4,3,5,6,5,4,3,6,37,8,9,1,1,1,3,3,3,4,4,4,5,6,7,8,9,0,0,0,0,0]\n",
        "_a=[\"s\",\"d\",\"e\",\"r\",\"t\",\"w\",\"h\",\"S\",\"A\",\"W\",\"Y\",\"Q\",\"O\"]\n",
        "\n",
        "names.sort()\n",
        "numbers.sort()\n",
        "alfabets.sort()\n",
        "num.sort()\n",
        "_a.sort()\n",
        "\n",
        "print(names)\n",
        "print(numbers)\n",
        "print(alfabets)\n",
        "print(num)\n",
        "print(_a)"
      ],
      "metadata": {
        "colab": {
          "base_uri": "https://localhost:8080/"
        },
        "id": "mimCoSzHgIpU",
        "outputId": "6f42ffa8-7b6c-4c0b-b920-41f5713b6361"
      },
      "execution_count": 76,
      "outputs": [
        {
          "output_type": "stream",
          "name": "stdout",
          "text": [
            "['Apple', 'Ball', 'Cat', 'Dog', 'apple', 'ball', 'cat', 'dog']\n",
            "[1, 2, 2, 3, 4, 4, 5, 5, 6, 6, 7, 7, 8, 8, 9, 9]\n",
            "['D', 'F', 'K', 'P', 'R', 'd', 'e', 'q', 'w']\n",
            "[0, 0, 0, 0, 0, 1, 1, 1, 3, 3, 3, 3, 3, 4, 4, 4, 4, 4, 5, 5, 5, 6, 6, 6, 7, 8, 8, 9, 9, 37]\n",
            "['A', 'O', 'Q', 'S', 'W', 'Y', 'd', 'e', 'h', 'r', 's', 't', 'w']\n"
          ]
        }
      ]
    },
    {
      "cell_type": "markdown",
      "source": [
        "# **reverse():**\n",
        "\n",
        "---\n",
        "\n",
        "\n",
        "\n",
        "---\n",
        "\n"
      ],
      "metadata": {
        "id": "6vs7S9SJii4W"
      }
    },
    {
      "cell_type": "code",
      "source": [
        "#reverse in the list  order\n",
        "names=[\"apple\",\"Apple\",\"Ball\",\"ball\",\"cat\",\"Cat\",\"dog\",\"Dog\"]\n",
        "numbers=[5,4,6,2,7,8,9,1,3,5,4,6,7,8,9,2]\n",
        "alfabets=[\"K\",\"e\",\"D\",\"R\",\"P\",\"F\",\"d\",\"w\",\"q\"]\n",
        "num=[4,3,5,6,5,4,3,6,37,8,9,1,1,1,3,3,3,4,4,4,5,6,7,8,9,0,0,0,0,0]\n",
        "_a=[\"s\",\"d\",\"e\",\"r\",\"t\",\"w\",\"h\",\"S\",\"A\",\"W\",\"Y\",\"Q\",\"O\"]\n",
        "\n",
        "names.reverse()\n",
        "numbers.reverse()\n",
        "alfabets.reverse()\n",
        "num.reverse()\n",
        "_a.reverse()\n",
        "\n",
        "print(names)\n",
        "print(numbers)\n",
        "print(alfabets)\n",
        "print(num)\n",
        "print(_a)"
      ],
      "metadata": {
        "colab": {
          "base_uri": "https://localhost:8080/"
        },
        "id": "4LsZuHFairVM",
        "outputId": "df3a7500-00a4-421f-bdc9-aa1f1d8af3d3"
      },
      "execution_count": 77,
      "outputs": [
        {
          "output_type": "stream",
          "name": "stdout",
          "text": [
            "['Dog', 'dog', 'Cat', 'cat', 'ball', 'Ball', 'Apple', 'apple']\n",
            "[2, 9, 8, 7, 6, 4, 5, 3, 1, 9, 8, 7, 2, 6, 4, 5]\n",
            "['q', 'w', 'd', 'F', 'P', 'R', 'D', 'e', 'K']\n",
            "[0, 0, 0, 0, 0, 9, 8, 7, 6, 5, 4, 4, 4, 3, 3, 3, 1, 1, 1, 9, 8, 37, 6, 3, 4, 5, 6, 5, 3, 4]\n",
            "['O', 'Q', 'Y', 'W', 'A', 'S', 'h', 'w', 't', 'r', 'e', 'd', 's']\n"
          ]
        }
      ]
    }
  ]
}
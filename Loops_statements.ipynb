{
  "nbformat": 4,
  "nbformat_minor": 0,
  "metadata": {
    "colab": {
      "provenance": []
    },
    "kernelspec": {
      "name": "python3",
      "display_name": "Python 3"
    },
    "language_info": {
      "name": "python"
    }
  },
  "cells": [
    {
      "cell_type": "markdown",
      "source": [
        "# **Loops statments**\n",
        "-->Have two loops in this statments\n",
        "\n",
        "\n",
        "1.   while loop\n",
        "2.   for loop\n",
        "\n",
        "1.python while loop is used to run a block code untile a certain condition\n",
        "\n",
        "\n"
      ],
      "metadata": {
        "id": "SAkoJG02FfH-"
      }
    },
    {
      "cell_type": "code",
      "source": [
        "#while loops\n",
        "a=0\n",
        "while a<=10:\n",
        "  print(a)\n",
        "  a=a+2\n"
      ],
      "metadata": {
        "colab": {
          "base_uri": "https://localhost:8080/"
        },
        "id": "nQysPDAvGa2C",
        "outputId": "f52bb4d9-8696-4745-ea83-195e66d354f7"
      },
      "execution_count": 6,
      "outputs": [
        {
          "output_type": "stream",
          "name": "stdout",
          "text": [
            "0\n",
            "2\n",
            "4\n",
            "6\n",
            "8\n",
            "10\n"
          ]
        }
      ]
    },
    {
      "cell_type": "code",
      "source": [
        "#for loops\n",
        "q=\"shiva\",\"prasad\",\"venky\",\"rohit\",\"pavan\"\n",
        "for X in q:\n",
        "  print(X)"
      ],
      "metadata": {
        "colab": {
          "base_uri": "https://localhost:8080/"
        },
        "id": "RBHaSwqCHkmc",
        "outputId": "aeec2f42-2a3c-411b-df8b-0fe5b3a0a6d7"
      },
      "execution_count": 1,
      "outputs": [
        {
          "output_type": "stream",
          "name": "stdout",
          "text": [
            "shiva\n",
            "prasad\n",
            "venky\n",
            "rohit\n",
            "pavan\n"
          ]
        }
      ]
    }
  ]
}
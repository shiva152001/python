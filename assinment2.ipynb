{
  "nbformat": 4,
  "nbformat_minor": 0,
  "metadata": {
    "colab": {
      "provenance": []
    },
    "kernelspec": {
      "name": "python3",
      "display_name": "Python 3"
    },
    "language_info": {
      "name": "python"
    }
  },
  "cells": [
    {
      "cell_type": "code",
      "execution_count": null,
      "metadata": {
        "colab": {
          "base_uri": "https://localhost:8080/"
        },
        "id": "T1-_32zPBl6S",
        "outputId": "96b11b73-2787-4be0-e8e5-1bf1271a2762"
      },
      "outputs": [
        {
          "output_type": "stream",
          "name": "stdout",
          "text": [
            "      Election       \n",
            "enter your age :0\n",
            "your  are not eligible for vote \n"
          ]
        }
      ],
      "source": [
        "a=\"      Election       \"\n",
        "print(a)\n",
        "vote = int(input(\"enter your age :\"))\n",
        "if vote >=18 :\n",
        "    print(\"you are  eligible for vote\")  #voting\n",
        "else :\n",
        "    print(\"your  are not eligible for vote \")"
      ]
    },
    {
      "cell_type": "code",
      "source": [
        "abc= input(\"enter the vowels:\")\n",
        "vowels = \"aeiouAEIOU\"             #vowels\n",
        "for a in abc:\n",
        " if a in vowels:\n",
        "  print(a)\n"
      ],
      "metadata": {
        "colab": {
          "base_uri": "https://localhost:8080/"
        },
        "id": "xUn4VJH0gnZn",
        "outputId": "d58f20ab-3889-4268-ff69-66352dae9dcc"
      },
      "execution_count": null,
      "outputs": [
        {
          "output_type": "stream",
          "name": "stdout",
          "text": [
            "enter the vowels:shiva prasad\n",
            "i\n",
            "a\n",
            "a\n",
            "a\n"
          ]
        }
      ]
    },
    {
      "cell_type": "code",
      "source": [
        "abc= input(\"enter the cosonents:\")\n",
        "vowles = \"aeiouAEIOU\"\n",
        "for a in abc:                        #consonents\n",
        " if a not in vowels:\n",
        "  print(a)"
      ],
      "metadata": {
        "colab": {
          "base_uri": "https://localhost:8080/"
        },
        "id": "bdfcUrRxjPa6",
        "outputId": "15bf8b5c-6dce-4fd3-e3fc-c41f477ca52e"
      },
      "execution_count": null,
      "outputs": [
        {
          "output_type": "stream",
          "name": "stdout",
          "text": [
            "enter the cosonents:shiva prasad\n",
            "s\n",
            "h\n",
            "v\n",
            " \n",
            "p\n",
            "r\n",
            "s\n",
            "d\n"
          ]
        }
      ]
    },
    {
      "cell_type": "code",
      "source": [
        "x=int(input(\"enter 1st number :\"))\n",
        "y=int(input(\"enter 2nd number :\"))\n",
        "z=int(input(\"enter 3rd number :\"))                 #biggest number\n",
        "if(x>y and x>z):\n",
        "  print(x)\n",
        "elif(y>x and y>x):\n",
        "  print(y)\n",
        "else:\n",
        "  print(z)"
      ],
      "metadata": {
        "colab": {
          "base_uri": "https://localhost:8080/"
        },
        "id": "8rYuf48Y7xbu",
        "outputId": "8f6b9aab-9d1c-4e39-c937-2152cbe86f74"
      },
      "execution_count": null,
      "outputs": [
        {
          "output_type": "stream",
          "name": "stdout",
          "text": [
            "enter 1st number :234\n",
            "enter 2nd number :235\n",
            "enter 3rd number :34\n",
            "235\n"
          ]
        }
      ]
    },
    {
      "cell_type": "code",
      "source": [
        "numbers=input(\"enter any sentence :\")\n",
        "p=numbers.count(\"d\")                      #character occurance\n",
        "print(p)"
      ],
      "metadata": {
        "colab": {
          "base_uri": "https://localhost:8080/"
        },
        "id": "V5UFk8I89wp2",
        "outputId": "29f2b869-3277-4514-8d55-e678246672f3"
      },
      "execution_count": null,
      "outputs": [
        {
          "output_type": "stream",
          "name": "stdout",
          "text": [
            "enter any sentence :ddddddddddddddddddddddddddddddddddddddddddddddddddddd\n",
            "53\n"
          ]
        }
      ]
    },
    {
      "cell_type": "code",
      "source": [
        "number=int(input(\"enter the prime number :\"))\n",
        "if number>1:\n",
        "  for i in range(2,(number//2)+1):\n",
        "    if(number% i)==0:\n",
        "      print(\"number is not prime :\", number)\n",
        "      break\n",
        "    else:\n",
        "      print(\"number is prime :\", number)\n",
        "else:\n",
        "  print(\"number is not prime :\", number)"
      ],
      "metadata": {
        "colab": {
          "base_uri": "https://localhost:8080/"
        },
        "id": "fLZT_fhOHHqN",
        "outputId": "aa84d60c-d2cf-4d96-ec3e-b137f425a86a"
      },
      "execution_count": null,
      "outputs": [
        {
          "output_type": "stream",
          "name": "stdout",
          "text": [
            "enter the prime number :5\n",
            "number is prime : 5\n"
          ]
        }
      ]
    },
    {
      "cell_type": "code",
      "source": [
        "#fibanacci series\n",
        "\n",
        "number=int(input(\"enter your number :\"))\n",
        "r1=0\n",
        "r2=1\n",
        "for i in range(2,number):\n",
        "  r3=r1+r2\n",
        "  r1=r2\n",
        "  r2=r3\n",
        "  print(r3)\n",
        "\n",
        "\n",
        "\n"
      ],
      "metadata": {
        "colab": {
          "base_uri": "https://localhost:8080/"
        },
        "id": "hgFapY7pAXls",
        "outputId": "01b8b221-7259-47a5-8c29-66cea8f93988"
      },
      "execution_count": null,
      "outputs": [
        {
          "output_type": "stream",
          "name": "stdout",
          "text": [
            "enter your number :10\n",
            "1\n",
            "2\n",
            "3\n",
            "5\n",
            "8\n",
            "13\n",
            "21\n",
            "34\n"
          ]
        }
      ]
    },
    {
      "cell_type": "code",
      "source": [
        "numbers= [14, 8, 9, 16, 3, 11, 5]#list\n",
        "big= max(numbers)#max()\n",
        "print(big)"
      ],
      "metadata": {
        "colab": {
          "base_uri": "https://localhost:8080/"
        },
        "id": "usbCwxhyHAZp",
        "outputId": "2f8bd8d7-97f2-4c80-cc73-399decfd8b8a"
      },
      "execution_count": null,
      "outputs": [
        {
          "output_type": "stream",
          "name": "stdout",
          "text": [
            "16\n"
          ]
        }
      ]
    },
    {
      "cell_type": "code",
      "source": [
        "numbers= [14, 8, 9, 16, 3, 11, 5]#list\n",
        "small= min(numbers)#min()\n",
        "print(small)"
      ],
      "metadata": {
        "colab": {
          "base_uri": "https://localhost:8080/"
        },
        "id": "rMvRugSoJu3D",
        "outputId": "874698d3-3427-4f46-8088-89d9ef17a573"
      },
      "execution_count": null,
      "outputs": [
        {
          "output_type": "stream",
          "name": "stdout",
          "text": [
            "3\n"
          ]
        }
      ]
    },
    {
      "cell_type": "code",
      "source": [
        "import statistics\n",
        "numbers= [1, 3, 5, 8, 9, 11]#list\n",
        "print(statistics.median(numbers))#median()\n",
        "\n"
      ],
      "metadata": {
        "colab": {
          "base_uri": "https://localhost:8080/"
        },
        "id": "zVWSYG7ZKILg",
        "outputId": "eb3d66d5-fb8a-45a6-82bf-d3a60372db39"
      },
      "execution_count": null,
      "outputs": [
        {
          "output_type": "stream",
          "name": "stdout",
          "text": [
            "6.5\n"
          ]
        }
      ]
    },
    {
      "cell_type": "code",
      "source": [
        "passage=['But', 'some', 'attributes', 'go', 'unnoticed', 'in', 'most', 'users', 'experience']\n",
        "p1=\" \".join(passage)                                                                      #Convert list to string\n",
        "print(f\"list is:{p1}\")"
      ],
      "metadata": {
        "colab": {
          "base_uri": "https://localhost:8080/"
        },
        "id": "TaaHlg7UXfTm",
        "outputId": "c2fb3679-e45d-44f2-8efc-a732166d930f"
      },
      "execution_count": 4,
      "outputs": [
        {
          "output_type": "stream",
          "name": "stdout",
          "text": [
            "list is:But some attributes go unnoticed in most users experience\n"
          ]
        }
      ]
    },
    {
      "cell_type": "code",
      "source": [
        "_12=\"But some attributes go unnoticed in most users experience\"                                #Remove whitespaces in a string\n",
        "print(_12.replace(\"But\",\"\"))"
      ],
      "metadata": {
        "colab": {
          "base_uri": "https://localhost:8080/"
        },
        "id": "N_tP_vt3YU9P",
        "outputId": "052e8b4d-6dc2-4fbe-95d4-2400f67d299d"
      },
      "execution_count": 5,
      "outputs": [
        {
          "output_type": "stream",
          "name": "stdout",
          "text": [
            " some attributes go unnoticed in most users experience\n"
          ]
        }
      ]
    },
    {
      "cell_type": "code",
      "source": [
        "def string(X):\n",
        "    return X[::-1]                                                     #Reverse string\n",
        "output=input(\"Enter a data:\")\n",
        "print(\"Reversed data:\",string(output))"
      ],
      "metadata": {
        "colab": {
          "base_uri": "https://localhost:8080/"
        },
        "id": "rAQRZ04TYYzC",
        "outputId": "c5b2d456-8750-45c6-a5e6-776288457ab9"
      },
      "execution_count": 9,
      "outputs": [
        {
          "output_type": "stream",
          "name": "stdout",
          "text": [
            "Enter a data:70950\n",
            "Reversed data: 05907\n"
          ]
        }
      ]
    }
  ]
}
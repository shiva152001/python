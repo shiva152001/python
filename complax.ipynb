{
  "nbformat": 4,
  "nbformat_minor": 0,
  "metadata": {
    "colab": {
      "provenance": []
    },
    "kernelspec": {
      "name": "python3",
      "display_name": "Python 3"
    },
    "language_info": {
      "name": "python"
    }
  },
  "cells": [
    {
      "cell_type": "code",
      "execution_count": null,
      "metadata": {
        "colab": {
          "base_uri": "https://localhost:8080/"
        },
        "id": "voboFiiajssw",
        "outputId": "b88ae52a-7cac-4e2c-92d8-f4164c1fa514"
      },
      "outputs": [
        {
          "output_type": "stream",
          "name": "stdout",
          "text": [
            "<class 'int'>\n",
            "<class 'float'>\n",
            "<class 'complex'>\n"
          ]
        }
      ],
      "source": [
        "#complex ->9g real number +imaginary number is equal to complex.\n",
        "a=1\n",
        "b=2.8\n",
        "c=3j\n",
        "print(type(a))\n",
        "print(type(b))\n",
        "print(type(c))\n",
        "#we dont use any thing of alfabets \"j\"is the complex imaginay word."
      ]
    },
    {
      "cell_type": "code",
      "source": [
        "r=108\n",
        "o=34.8\n",
        "i=98j\n",
        "print(type(r))\n",
        "print(type(o))\n",
        "print(type(i))\n",
        "#type is identify the what is the int, what is float, and what is complex.\n",
        "#and most impotant is j is imaginary word.\n"
      ],
      "metadata": {
        "colab": {
          "base_uri": "https://localhost:8080/"
        },
        "id": "z898eOpanN_J",
        "outputId": "cd32f46d-d948-4e8d-f05d-fae8fa65c2f5"
      },
      "execution_count": null,
      "outputs": [
        {
          "output_type": "stream",
          "name": "stdout",
          "text": [
            "<class 'int'>\n",
            "<class 'float'>\n",
            "<class 'complex'>\n"
          ]
        }
      ]
    },
    {
      "cell_type": "code",
      "source": [
        "#we have int convert to the float.\n",
        "# and float convert into int and both of this convert in to complax.\n",
        "h=100 #int\n",
        "k=20.8#folat\n",
        "l=45j #complex\n",
        "#convert from float\n",
        "x=float(h)\n",
        "#convart from int to float\n",
        "y=int(k)\n",
        "#convert from int to complex\n",
        "z=complex(h)\n",
        "#convert from float to complex\n",
        "q=complex(k)\n",
        "\n",
        "print(x)\n",
        "print(y)\n",
        "print(z)\n",
        "print(q)\n",
        "\n",
        "print(type(x))\n",
        "print(type(y))\n",
        "print(type(z))\n",
        "print(type(q))"
      ],
      "metadata": {
        "colab": {
          "base_uri": "https://localhost:8080/"
        },
        "id": "NRKsoMI1wEFN",
        "outputId": "66b4c0c9-3105-47bd-8166-8ecb46e41afe"
      },
      "execution_count": null,
      "outputs": [
        {
          "output_type": "stream",
          "name": "stdout",
          "text": [
            "100.0\n",
            "20\n",
            "(100+0j)\n",
            "(20.8+0j)\n",
            "<class 'float'>\n",
            "<class 'int'>\n",
            "<class 'complex'>\n",
            "<class 'complex'>\n"
          ]
        }
      ]
    },
    {
      "cell_type": "code",
      "source": [
        "#the int  can convart in to complex.\n",
        "#this is example\n",
        "a=1000 #int\n",
        "c=1000j\n",
        "#int convart into complex\n",
        "b=complex(a)\n",
        "print(b)\n",
        "print(type(b))\n",
        "#type is a class, class is using what is that \"b\" here b is a complex."
      ],
      "metadata": {
        "id": "2AOEU2sbzDsK",
        "colab": {
          "base_uri": "https://localhost:8080/"
        },
        "outputId": "e888be71-cbae-4e15-865e-88fb86ca9376"
      },
      "execution_count": 1,
      "outputs": [
        {
          "output_type": "stream",
          "name": "stdout",
          "text": [
            "(1000+0j)\n",
            "<class 'complex'>\n"
          ]
        }
      ]
    },
    {
      "cell_type": "code",
      "source": [
        "#the float convart in  to complex\n",
        "#this is the example\n",
        "t=2000.4\n",
        "o=2000j\n",
        "#float convart into complex\n",
        "p=complex(t)\n",
        "print(t)\n",
        "print(type(t))"
      ],
      "metadata": {
        "colab": {
          "base_uri": "https://localhost:8080/"
        },
        "id": "3rlsSf-jLQ7y",
        "outputId": "b9ecd002-23cf-401d-921f-0b7e0135f7ec"
      },
      "execution_count": 2,
      "outputs": [
        {
          "output_type": "stream",
          "name": "stdout",
          "text": [
            "2000.4\n",
            "<class 'float'>\n"
          ]
        }
      ]
    },
    {
      "cell_type": "code",
      "source": [
        "#but the both have convart into complex but complax can't convert into int and float\n",
        "#this is example\n",
        "r=2\n",
        "a=3.0\n",
        "t=4j\n",
        "#complex convert into float and int\n",
        "c=int(t)\n",
        "d=float(t)\n",
        "print(c)\n",
        "print(d)\n",
        "print(type(c))\n",
        "print(type(d))"
      ],
      "metadata": {
        "colab": {
          "base_uri": "https://localhost:8080/",
          "height": 219
        },
        "id": "lAGeLdhuMb72",
        "outputId": "31e9dda4-899c-43f4-d163-f2cca52b5c3d"
      },
      "execution_count": 3,
      "outputs": [
        {
          "output_type": "error",
          "ename": "TypeError",
          "evalue": "int() argument must be a string, a bytes-like object or a real number, not 'complex'",
          "traceback": [
            "\u001b[0;31m---------------------------------------------------------------------------\u001b[0m",
            "\u001b[0;31mTypeError\u001b[0m                                 Traceback (most recent call last)",
            "\u001b[0;32m<ipython-input-3-e8a5f60d0dd6>\u001b[0m in \u001b[0;36m<cell line: 7>\u001b[0;34m()\u001b[0m\n\u001b[1;32m      5\u001b[0m \u001b[0mt\u001b[0m\u001b[0;34m=\u001b[0m\u001b[0;36m4j\u001b[0m\u001b[0;34m\u001b[0m\u001b[0;34m\u001b[0m\u001b[0m\n\u001b[1;32m      6\u001b[0m \u001b[0;31m#complex convert into float and int\u001b[0m\u001b[0;34m\u001b[0m\u001b[0;34m\u001b[0m\u001b[0m\n\u001b[0;32m----> 7\u001b[0;31m \u001b[0mc\u001b[0m\u001b[0;34m=\u001b[0m\u001b[0mint\u001b[0m\u001b[0;34m(\u001b[0m\u001b[0mt\u001b[0m\u001b[0;34m)\u001b[0m\u001b[0;34m\u001b[0m\u001b[0;34m\u001b[0m\u001b[0m\n\u001b[0m\u001b[1;32m      8\u001b[0m \u001b[0md\u001b[0m\u001b[0;34m=\u001b[0m\u001b[0mfloat\u001b[0m\u001b[0;34m(\u001b[0m\u001b[0mt\u001b[0m\u001b[0;34m)\u001b[0m\u001b[0;34m\u001b[0m\u001b[0;34m\u001b[0m\u001b[0m\n\u001b[1;32m      9\u001b[0m \u001b[0mprint\u001b[0m\u001b[0;34m(\u001b[0m\u001b[0mc\u001b[0m\u001b[0;34m)\u001b[0m\u001b[0;34m\u001b[0m\u001b[0;34m\u001b[0m\u001b[0m\n",
            "\u001b[0;31mTypeError\u001b[0m: int() argument must be a string, a bytes-like object or a real number, not 'complex'"
          ]
        }
      ]
    },
    {
      "cell_type": "code",
      "source": [],
      "metadata": {
        "id": "jNO_rcP2OCVB"
      },
      "execution_count": null,
      "outputs": []
    }
  ]
}
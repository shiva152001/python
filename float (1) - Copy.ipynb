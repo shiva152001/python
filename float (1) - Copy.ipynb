{
  "nbformat": 4,
  "nbformat_minor": 0,
  "metadata": {
    "colab": {
      "provenance": []
    },
    "kernelspec": {
      "name": "python3",
      "display_name": "Python 3"
    },
    "language_info": {
      "name": "python"
    }
  },
  "cells": [
    {
      "cell_type": "code",
      "execution_count": 10,
      "metadata": {
        "colab": {
          "base_uri": "https://localhost:8080/"
        },
        "id": "Jxz9t2leFVHV",
        "outputId": "5249aa96-b07b-4a65-f0e0-055760a2632d"
      },
      "outputs": [
        {
          "output_type": "stream",
          "name": "stdout",
          "text": [
            "529.5\n"
          ]
        }
      ],
      "source": [
        "#float\n",
        "e=468.35\n",
        "b=42.85\n",
        "d=18.30\n",
        "#addition\n",
        "w=e+b+d\n",
        "print(w)\n",
        "#folat means using point numaric numbers is called float."
      ]
    },
    {
      "cell_type": "code",
      "source": [
        "#folat\n",
        "u=138.3\n",
        "v=142.5\n",
        "#/division\n",
        "k=u/v\n",
        "print(k)\n",
        "#folat means using point numaric numbers is called float."
      ],
      "metadata": {
        "colab": {
          "base_uri": "https://localhost:8080/"
        },
        "id": "p4t1oxvwKFxc",
        "outputId": "c982812e-d7ab-49c9-f30d-b23125649fa1"
      },
      "execution_count": 12,
      "outputs": [
        {
          "output_type": "stream",
          "name": "stdout",
          "text": [
            "0.9705263157894738\n"
          ]
        }
      ]
    },
    {
      "cell_type": "code",
      "source": [
        "#float\n",
        "h=1893.23\n",
        "n=647.56\n",
        "#subtraction\n",
        "p=h-n\n",
        "print(p)\n",
        "#folat means using point numaric numbers is called float."
      ],
      "metadata": {
        "colab": {
          "base_uri": "https://localhost:8080/"
        },
        "id": "awvnDM2dLa7y",
        "outputId": "ff8442f3-4e3f-4b3b-e8a3-313f09f1199f"
      },
      "execution_count": 8,
      "outputs": [
        {
          "output_type": "stream",
          "name": "stdout",
          "text": [
            "1245.67\n"
          ]
        }
      ]
    },
    {
      "cell_type": "code",
      "source": [
        "#float\n",
        "q=108.35\n",
        "i=108.85\n",
        "#multiplcation\n",
        "y=q*i\n",
        "print(y)\n",
        "#folat means using point numaric numbers is called float."
      ],
      "metadata": {
        "colab": {
          "base_uri": "https://localhost:8080/"
        },
        "id": "Z2pt9D_bLzcR",
        "outputId": "1f1e529c-552d-44ee-acc9-f29eacb63584"
      },
      "execution_count": 7,
      "outputs": [
        {
          "output_type": "stream",
          "name": "stdout",
          "text": [
            "11793.8975\n"
          ]
        }
      ]
    },
    {
      "cell_type": "code",
      "source": [
        "#float\n",
        "e=63.95\n",
        "w=95.23\n",
        "#addition\n",
        "l=e+w\n",
        "print(l)\n",
        "#subtraction\n",
        "l=e-w\n",
        "print(l)\n",
        "#multiplcation\n",
        "l=e*w\n",
        "print(l)\n",
        "#divission\n",
        "l=e/w\n",
        "print(l)\n",
        "#folat means using point numaric numbers is called float.\n"
      ],
      "metadata": {
        "colab": {
          "base_uri": "https://localhost:8080/"
        },
        "id": "bu6BXXNeM-po",
        "outputId": "10b24dd0-e864-46bd-c616-849d849e311d"
      },
      "execution_count": 6,
      "outputs": [
        {
          "output_type": "stream",
          "name": "stdout",
          "text": [
            "159.18\n",
            "-31.28\n",
            "6089.958500000001\n",
            "0.6715320802268193\n"
          ]
        }
      ]
    }
  ]
}
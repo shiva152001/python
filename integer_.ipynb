{
  "nbformat": 4,
  "nbformat_minor": 0,
  "metadata": {
    "colab": {
      "provenance": []
    },
    "kernelspec": {
      "name": "python3",
      "display_name": "Python 3"
    },
    "language_info": {
      "name": "python"
    }
  },
  "cells": [
    {
      "cell_type": "code",
      "execution_count": 1,
      "metadata": {
        "colab": {
          "base_uri": "https://localhost:8080/"
        },
        "id": "G7TgWL1We67W",
        "outputId": "00b1656a-4340-4d0d-d84b-62576f974e84"
      },
      "outputs": [
        {
          "output_type": "stream",
          "name": "stdout",
          "text": [
            "610\n"
          ]
        }
      ],
      "source": [
        "#integer\n",
        "a=468\n",
        "b=42\n",
        "c=100\n",
        "#addition\n",
        "d=a+b+c\n",
        "print(d)"
      ]
    },
    {
      "cell_type": "code",
      "source": [
        "#integer\n",
        "k=108\n",
        "j=102\n",
        "#/division\n",
        "l=k/j\n",
        "print(l)"
      ],
      "metadata": {
        "colab": {
          "base_uri": "https://localhost:8080/"
        },
        "id": "6iy1d6SXgHBh",
        "outputId": "8700b7c6-c837-4e00-c0c7-701b71afa054"
      },
      "execution_count": 2,
      "outputs": [
        {
          "output_type": "stream",
          "name": "stdout",
          "text": [
            "1.0588235294117647\n"
          ]
        }
      ]
    },
    {
      "cell_type": "code",
      "source": [
        "#integer\n",
        "m=12823\n",
        "n=2345\n",
        "#subtraction\n",
        "o=m-n\n",
        "print(o)"
      ],
      "metadata": {
        "colab": {
          "base_uri": "https://localhost:8080/"
        },
        "id": "dZrYZzK3g6Vs",
        "outputId": "973af09d-1709-483c-abb7-25876f4f2533"
      },
      "execution_count": 3,
      "outputs": [
        {
          "output_type": "stream",
          "name": "stdout",
          "text": [
            "10478\n"
          ]
        }
      ]
    },
    {
      "cell_type": "code",
      "source": [
        "#integer\n",
        "s=108\n",
        "i=108\n",
        "#multiplcation\n",
        "v=s*i\n",
        "print(v)"
      ],
      "metadata": {
        "colab": {
          "base_uri": "https://localhost:8080/"
        },
        "id": "LvXrlu54hY6o",
        "outputId": "c78bf5ba-7e3c-43fd-fdc2-3b375d0741aa"
      },
      "execution_count": 4,
      "outputs": [
        {
          "output_type": "stream",
          "name": "stdout",
          "text": [
            "11664\n"
          ]
        }
      ]
    },
    {
      "cell_type": "code",
      "source": [
        "#integer\n",
        "q=130\n",
        "w=89\n",
        "#addition\n",
        "e=q+w\n",
        "print(e)\n",
        "#subtraction\n",
        "e=q-w\n",
        "print(e)\n",
        "#multiplcation\n",
        "e=q*w\n",
        "print(e)\n",
        "#divission\n",
        "e=q/w\n",
        "print(e)\n",
        "\n"
      ],
      "metadata": {
        "colab": {
          "base_uri": "https://localhost:8080/"
        },
        "id": "iFfHh179h3IV",
        "outputId": "4c42054f-0b4a-4ced-e643-13074a765cfa"
      },
      "execution_count": 6,
      "outputs": [
        {
          "output_type": "stream",
          "name": "stdout",
          "text": [
            "219\n",
            "41\n",
            "11570\n",
            "1.4606741573033708\n"
          ]
        }
      ]
    }
  ]
}
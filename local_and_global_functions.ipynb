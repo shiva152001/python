{
  "nbformat": 4,
  "nbformat_minor": 0,
  "metadata": {
    "colab": {
      "provenance": []
    },
    "kernelspec": {
      "name": "python3",
      "display_name": "Python 3"
    },
    "language_info": {
      "name": "python"
    }
  },
  "cells": [
    {
      "cell_type": "code",
      "execution_count": 8,
      "metadata": {
        "colab": {
          "base_uri": "https://localhost:8080/"
        },
        "id": "2AcKsSlynsxR",
        "outputId": "a8d68bf9-dabc-4c8a-bb6a-c344d46271e2"
      },
      "outputs": [
        {
          "output_type": "stream",
          "name": "stdout",
          "text": [
            "Accessing inside a fun local:10\n"
          ]
        }
      ],
      "source": [
        "#Local\n",
        "def x():\n",
        "    a=10  #local variable\n",
        "\n",
        "    print(f\"Accessing inside a fun local:{a}\")\n",
        "\n",
        "x()\n"
      ]
    },
    {
      "cell_type": "code",
      "source": [
        "#Global\n",
        "\n",
        "x=10   #global variable\n",
        "def example():\n",
        "    print(f\"Accessing outside a fun global:{x}\")\n",
        "\n",
        "\n",
        "example()"
      ],
      "metadata": {
        "colab": {
          "base_uri": "https://localhost:8080/"
        },
        "id": "zBdqG32no_c2",
        "outputId": "19cb8a1c-4b76-4e99-e5b6-2b0786dcf510"
      },
      "execution_count": 7,
      "outputs": [
        {
          "output_type": "stream",
          "name": "stdout",
          "text": [
            "Accessing outside a fun global:10\n"
          ]
        }
      ]
    }
  ]
}
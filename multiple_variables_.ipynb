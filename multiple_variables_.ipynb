{
  "nbformat": 4,
  "nbformat_minor": 0,
  "metadata": {
    "colab": {
      "provenance": []
    },
    "kernelspec": {
      "name": "python3",
      "display_name": "Python 3"
    },
    "language_info": {
      "name": "python"
    }
  },
  "cells": [
    {
      "cell_type": "code",
      "source": [],
      "metadata": {
        "id": "MzAGTfm9XlHp"
      },
      "execution_count": null,
      "outputs": []
    },
    {
      "cell_type": "code",
      "execution_count": null,
      "metadata": {
        "colab": {
          "base_uri": "https://localhost:8080/"
        },
        "id": "6aA2cYoxPELC",
        "outputId": "274ed2b5-2f4f-4c6f-dec1-ccf80f0bc9d9"
      },
      "outputs": [
        {
          "output_type": "stream",
          "name": "stdout",
          "text": [
            "shiva\n",
            "pavan\n",
            "hemanth\n"
          ]
        }
      ],
      "source": [
        "#multiple variables are start with \",\"\n",
        "a,b,c= \"shiva\",\"pavan\",\"hemanth\"\n",
        "print(a)\n",
        "print(b)\n",
        "print(c)"
      ]
    },
    {
      "cell_type": "code",
      "source": [
        "which, what,where=\"iphone\",\"using\",\"in home\"\n",
        "print(which)\n",
        "print(what)\n",
        "print(where)\n",
        "#using three variables and three values it is applicable in multipule variables"
      ],
      "metadata": {
        "id": "CrM2sfIlX28Q",
        "colab": {
          "base_uri": "https://localhost:8080/"
        },
        "outputId": "4177188f-c698-436b-fe3f-f59b417b474c"
      },
      "execution_count": 2,
      "outputs": [
        {
          "output_type": "stream",
          "name": "stdout",
          "text": [
            "iphone\n",
            "using\n",
            "in home\n"
          ]
        }
      ]
    },
    {
      "cell_type": "code",
      "source": [
        "#one more example of this multiple variables.\n",
        "hi,hlo,hallo,good=\"hi\",\"hlo\",\"hallo\",\"good\"\n",
        "print(hi)\n",
        "print(hlo)\n",
        "print(hallo)\n",
        "print(good)\n",
        "#we use multiple in variables see in 1st line i use 4 variables it is also valid multiple variable."
      ],
      "metadata": {
        "colab": {
          "base_uri": "https://localhost:8080/"
        },
        "id": "IlTTOR_gPDDo",
        "outputId": "796b349e-9cb0-4e91-b349-797d8427727a"
      },
      "execution_count": 3,
      "outputs": [
        {
          "output_type": "stream",
          "name": "stdout",
          "text": [
            "hi\n",
            "hlo\n",
            "hallo\n",
            "good\n"
          ]
        }
      ]
    },
    {
      "cell_type": "markdown",
      "source": [],
      "metadata": {
        "id": "-n5f102lR9TA"
      }
    },
    {
      "cell_type": "code",
      "source": [
        "k,y,z,l=\"using three variables and three values it is applicable in multipule variables\",\"one more example of this multiple variables.\",\"we use multiple in variables see in 1st\",\" line i use 4 variables it is also valid multiple variable.\"\n",
        "print(k)\n",
        "print(y)\n",
        "print(z)\n",
        "print(l)\n",
        "#variable can store the more than values."
      ],
      "metadata": {
        "colab": {
          "base_uri": "https://localhost:8080/"
        },
        "id": "Rt8gV42iRVIM",
        "outputId": "41509465-76cb-40fd-a867-0d7ddbd2bcfc"
      },
      "execution_count": 4,
      "outputs": [
        {
          "output_type": "stream",
          "name": "stdout",
          "text": [
            "using three variables and three values it is applicable in multipule variables\n",
            "one more example of this multiple variables.\n",
            "we use multiple in variables see in 1st\n",
            " line i use 4 variables it is also valid multiple variable.\n"
          ]
        }
      ]
    },
    {
      "cell_type": "code",
      "source": [
        "#in this multiple the most of the important is \",\" cama is the most important in the multiple variables.\n",
        "#and 2nd when variables how much u gave the values also equal to give in the multiple variables.\n",
        "q,w,e,r,t,y,u=\"queen\",\"word\",\"earth\",\"right\",\"thought\",\"young\",\"umbralla\"\n",
        "print(q)\n",
        "print(w)\n",
        "print(e)\n",
        "print(r)\n",
        "print(t)\n",
        "print(y)\n",
        "print(u)\n",
        "#\",\"cama is the most important in the multiple variables."
      ],
      "metadata": {
        "colab": {
          "base_uri": "https://localhost:8080/"
        },
        "id": "tIuzQhi8SYSz",
        "outputId": "dc782e9b-81e1-4ad8-e0d6-4829052d1499"
      },
      "execution_count": 5,
      "outputs": [
        {
          "output_type": "stream",
          "name": "stdout",
          "text": [
            "queen\n",
            "word\n",
            "earth\n",
            "right\n",
            "thought\n",
            "young\n",
            "umbralla\n"
          ]
        }
      ]
    }
  ]
}
{
  "nbformat": 4,
  "nbformat_minor": 0,
  "metadata": {
    "colab": {
      "provenance": []
    },
    "kernelspec": {
      "name": "python3",
      "display_name": "Python 3"
    },
    "language_info": {
      "name": "python"
    }
  },
  "cells": [
    {
      "cell_type": "code",
      "execution_count": 2,
      "metadata": {
        "colab": {
          "base_uri": "https://localhost:8080/"
        },
        "id": "w33W_JXdVJq3",
        "outputId": "4356328f-7502-4775-aa6a-2f9e4f352288"
      },
      "outputs": [
        {
          "output_type": "stream",
          "name": "stdout",
          "text": [
            "100\n",
            "100\n",
            "100\n"
          ]
        }
      ],
      "source": [
        "#multiple variables gives and value give one value\n",
        "a=b=c=100\n",
        "print(a)\n",
        "print(b)\n",
        "print(c)"
      ]
    },
    {
      "cell_type": "code",
      "source": [
        "#in multiple varibles, variables to give each variable have one\"=\"mandotry\n",
        "p=o=i=n=t=\"point of intrest net time\"\n",
        "print(p)\n",
        "print(o)\n",
        "print(i)\n",
        "print(n)\n",
        "print(t)"
      ],
      "metadata": {
        "colab": {
          "base_uri": "https://localhost:8080/"
        },
        "id": "xomW5uOLWcH-",
        "outputId": "8799c103-196e-4e50-b212-0118843abad2"
      },
      "execution_count": 4,
      "outputs": [
        {
          "output_type": "stream",
          "name": "stdout",
          "text": [
            "point of intrest net time\n",
            "point of intrest net time\n",
            "point of intrest net time\n",
            "point of intrest net time\n",
            "point of intrest net time\n"
          ]
        }
      ]
    },
    {
      "cell_type": "code",
      "source": [
        "#each variable have one \"=\"mandotary\n",
        "_q=_w=_e=\"it is more than\"\n",
        "print(_q)\n",
        "print(_w)\n",
        "print(_e)\n",
        "#see in this code undersocre added ,it is also valid to the multi variables"
      ],
      "metadata": {
        "colab": {
          "base_uri": "https://localhost:8080/"
        },
        "id": "eh83h6koXtcJ",
        "outputId": "e2795d57-d9a9-42a6-ac3d-da7547758ff5"
      },
      "execution_count": 5,
      "outputs": [
        {
          "output_type": "stream",
          "name": "stdout",
          "text": [
            "it is more than\n",
            "it is more than\n",
            "it is more than\n"
          ]
        }
      ]
    },
    {
      "cell_type": "code",
      "source": [
        "#multi variables create a more variables and one value\n",
        "shiva123=varun143=hemanth108=\"those members are friends\"\n",
        "print(shiva123)\n",
        "print(varun143)\n",
        "print(hemanth108)"
      ],
      "metadata": {
        "colab": {
          "base_uri": "https://localhost:8080/"
        },
        "id": "cymes4bRYlya",
        "outputId": "e16e5680-6f44-44e7-e81d-7fb5c0c7a4f3"
      },
      "execution_count": 6,
      "outputs": [
        {
          "output_type": "stream",
          "name": "stdout",
          "text": [
            "those members are friends\n",
            "those members are friends\n",
            "those members are friends\n"
          ]
        }
      ]
    },
    {
      "cell_type": "code",
      "source": [
        "#this is the simple example of the multiple variables.\n",
        "_1=_2=_3=12345\n",
        "print(_1)\n",
        "print(_2)\n",
        "print(_3)"
      ],
      "metadata": {
        "colab": {
          "base_uri": "https://localhost:8080/"
        },
        "id": "1bMBknlMZquh",
        "outputId": "657334b8-98b9-44ce-9f0e-8331cadcf475"
      },
      "execution_count": 7,
      "outputs": [
        {
          "output_type": "stream",
          "name": "stdout",
          "text": [
            "12345\n",
            "12345\n",
            "12345\n"
          ]
        }
      ]
    }
  ]
}
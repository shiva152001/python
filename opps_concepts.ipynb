{
  "nbformat": 4,
  "nbformat_minor": 0,
  "metadata": {
    "colab": {
      "provenance": []
    },
    "kernelspec": {
      "name": "python3",
      "display_name": "Python 3"
    },
    "language_info": {
      "name": "python"
    }
  },
  "cells": [
    {
      "cell_type": "code",
      "execution_count": 9,
      "metadata": {
        "colab": {
          "base_uri": "https://localhost:8080/"
        },
        "id": "N4cumnm6t6_i",
        "outputId": "3c312045-afd5-4bb7-fe1b-e122c53dfba5"
      },
      "outputs": [
        {
          "output_type": "stream",
          "name": "stdout",
          "text": [
            "venket is 50 years old. gender is male\n"
          ]
        }
      ],
      "source": [
        "#Class Creation\n",
        "class humans:\n",
        "    name = \"\"\n",
        "    age = 0\n",
        "    gender=\"\"\n",
        "\n",
        "#Object Creation\n",
        "human = humans()\n",
        "human.name = \"venket\"\n",
        "human.age = 50\n",
        "human.gender=\"male\"\n",
        "\n",
        "# access attributes\n",
        "print(f\"{human.name} is {human.age} years old. gender is {human.gender}\")"
      ]
    },
    {
      "cell_type": "code",
      "source": [
        "#Inheritance\n",
        "\n",
        "# base class\n",
        "class Human:\n",
        "\n",
        "    def pavan(self):\n",
        "        print( \"I am a pavan.\")\n",
        "\n",
        "    def jeswenth(self):\n",
        "        print(\"I am a jeswenth.\")\n",
        "\n",
        "# derived class\n",
        "class prasad(Human):\n",
        "\n",
        "    def speak(self):\n",
        "        print(\"I can speak.\")\n",
        "\n",
        "\n",
        "human1 = prasad()\n",
        "human1.pavan()\n",
        "human1.speak()\n",
        "human1.jeswenth()\n",
        "human1.speak();"
      ],
      "metadata": {
        "colab": {
          "base_uri": "https://localhost:8080/"
        },
        "id": "LOsVDA-tuDGE",
        "outputId": "4c070fab-05c9-46b8-86c7-6de05468d716"
      },
      "execution_count": 11,
      "outputs": [
        {
          "output_type": "stream",
          "name": "stdout",
          "text": [
            "I am a pavan.\n",
            "I can speak.\n",
            "I am a jeswenth.\n",
            "I can speak.\n"
          ]
        }
      ]
    },
    {
      "cell_type": "code",
      "source": [
        "class human:\n",
        "\n",
        "    def Human(self):\n",
        "        print(\"There are many types of peoples.\")\n",
        "\n",
        "    def Human1(self):\n",
        "        print(\"Most of the people are middle class but some people are rich.\")\n",
        "\n",
        "class pavan(human):\n",
        "\n",
        "    def Human1(self):\n",
        "        print(\"most of the people in middle class.\")\n",
        "\n",
        "class jeswanth(human):\n",
        "\n",
        "    def Human1(self):\n",
        "        print(\"some people are rich.\")\n",
        "\n",
        "obj_h1 = human()\n",
        "obj_h2 = pavan()\n",
        "obj_h3 = jeswanth()\n",
        "\n",
        "obj_h1.Human()\n",
        "obj_h1.Human1()\n",
        "obj_h2.Human()\n",
        "obj_h2.Human1()\n",
        "obj_h3.Human()\n",
        "obj_h3.Human1()"
      ],
      "metadata": {
        "colab": {
          "base_uri": "https://localhost:8080/"
        },
        "id": "hmQEWscfuHSd",
        "outputId": "4489fe21-206c-4a10-b895-62fffd7c72d8"
      },
      "execution_count": 13,
      "outputs": [
        {
          "output_type": "stream",
          "name": "stdout",
          "text": [
            "There are many types of peoples.\n",
            "Most of the people are middle class but some people are rich.\n",
            "There are many types of peoples.\n",
            "most of the people in middle class.\n",
            "There are many types of peoples.\n",
            "some people are rich.\n"
          ]
        }
      ]
    },
    {
      "cell_type": "code",
      "source": [
        "#Encapsulation\n",
        "\n",
        "class xyz:\n",
        "    def __init__(self):\n",
        "        self.__a = \"Hi\"   #private\n",
        "        self._c = \"Hello, i  am shiva\"   #protected\n",
        "class names(xyz):\n",
        "    def D1(self):\n",
        "      xyz.__init__(self)\n",
        "      print(self.__a)\n",
        "\n",
        "\n",
        "\n",
        "# Driver code\n",
        "int1 = xyz()\n",
        "print(int1._c)"
      ],
      "metadata": {
        "colab": {
          "base_uri": "https://localhost:8080/"
        },
        "id": "4KRsnWDpuLEs",
        "outputId": "fec75165-421c-4a29-86b2-357cfa99a0fe"
      },
      "execution_count": 27,
      "outputs": [
        {
          "output_type": "stream",
          "name": "stdout",
          "text": [
            "Hello, i  am shiva\n"
          ]
        }
      ]
    }
  ]
}
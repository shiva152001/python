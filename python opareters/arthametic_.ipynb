{
  "nbformat": 4,
  "nbformat_minor": 0,
  "metadata": {
    "colab": {
      "provenance": []
    },
    "kernelspec": {
      "name": "python3",
      "display_name": "Python 3"
    },
    "language_info": {
      "name": "python"
    }
  },
  "cells": [
    {
      "cell_type": "code",
      "execution_count": 3,
      "metadata": {
        "colab": {
          "base_uri": "https://localhost:8080/"
        },
        "id": "aorLu_eW-Rkk",
        "outputId": "c156cd5b-d267-42eb-c9e9-0b4341c435ef"
      },
      "outputs": [
        {
          "output_type": "stream",
          "name": "stdout",
          "text": [
            "46\n"
          ]
        }
      ],
      "source": [
        "q=12\n",
        "w=34\n",
        "#addition\n",
        "e=q+w\n",
        "print(e)"
      ]
    },
    {
      "cell_type": "code",
      "source": [
        "r=90\n",
        "t=32\n",
        "#sub\n",
        "y=r-t\n",
        "print(y)"
      ],
      "metadata": {
        "colab": {
          "base_uri": "https://localhost:8080/"
        },
        "id": "njSRKHku-53W",
        "outputId": "eddaf6f6-91df-4005-e52d-732b2661e3ed"
      },
      "execution_count": 4,
      "outputs": [
        {
          "output_type": "stream",
          "name": "stdout",
          "text": [
            "58\n"
          ]
        }
      ]
    },
    {
      "cell_type": "code",
      "source": [
        "u=98\n",
        "i=56\n",
        "#multipication(hestric)\n",
        "o=u*i\n",
        "print(o)"
      ],
      "metadata": {
        "colab": {
          "base_uri": "https://localhost:8080/"
        },
        "id": "98VWs3F6_Uh4",
        "outputId": "a0b60dd1-3b71-4c4d-94bd-9be877cf9ef0"
      },
      "execution_count": 6,
      "outputs": [
        {
          "output_type": "stream",
          "name": "stdout",
          "text": [
            "5488\n"
          ]
        }
      ]
    },
    {
      "cell_type": "code",
      "source": [
        "p=54\n",
        "a=23\n",
        "#divison\n",
        "s=p/a\n",
        "print(s)"
      ],
      "metadata": {
        "colab": {
          "base_uri": "https://localhost:8080/"
        },
        "id": "NXjivPdg_wk8",
        "outputId": "eb9d8c49-d05b-4e96-fbe9-09bbc535a91f"
      },
      "execution_count": 7,
      "outputs": [
        {
          "output_type": "stream",
          "name": "stdout",
          "text": [
            "2.347826086956522\n"
          ]
        }
      ]
    },
    {
      "cell_type": "code",
      "source": [
        "from os import fchdir\n",
        "d=34\n",
        "f=28\n",
        "#modules\n",
        "g=d%f\n",
        "print(g)"
      ],
      "metadata": {
        "colab": {
          "base_uri": "https://localhost:8080/"
        },
        "id": "QDGl7KSlAFfK",
        "outputId": "94c2c4d7-d133-46b5-ef7e-b86fb525c3dd"
      },
      "execution_count": 9,
      "outputs": [
        {
          "output_type": "stream",
          "name": "stdout",
          "text": [
            "6\n"
          ]
        }
      ]
    },
    {
      "cell_type": "code",
      "source": [
        "h=34\n",
        "j=43\n",
        "#floor(float)//\n",
        "k=h//j\n",
        "print(k)"
      ],
      "metadata": {
        "colab": {
          "base_uri": "https://localhost:8080/"
        },
        "id": "-OMr5jNlAZxV",
        "outputId": "e224b782-a2d0-456f-a303-972a70a62dab"
      },
      "execution_count": 10,
      "outputs": [
        {
          "output_type": "stream",
          "name": "stdout",
          "text": [
            "0\n"
          ]
        }
      ]
    },
    {
      "cell_type": "code",
      "source": [
        "l=25\n",
        "z=9\n",
        "#expomentation\n",
        "x=l**z\n",
        "print(x)\n"
      ],
      "metadata": {
        "colab": {
          "base_uri": "https://localhost:8080/"
        },
        "id": "NQybdP7YAyKq",
        "outputId": "30c18024-83c0-48d9-8bc6-ab6c199dce35"
      },
      "execution_count": 11,
      "outputs": [
        {
          "output_type": "stream",
          "name": "stdout",
          "text": [
            "3814697265625\n"
          ]
        }
      ]
    }
  ]
}
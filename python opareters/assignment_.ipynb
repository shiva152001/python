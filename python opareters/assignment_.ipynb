{
  "nbformat": 4,
  "nbformat_minor": 0,
  "metadata": {
    "colab": {
      "provenance": []
    },
    "kernelspec": {
      "name": "python3",
      "display_name": "Python 3"
    },
    "language_info": {
      "name": "python"
    }
  },
  "cells": [
    {
      "cell_type": "code",
      "execution_count": 1,
      "metadata": {
        "colab": {
          "base_uri": "https://localhost:8080/"
        },
        "id": "Ru9zd-ErBfFS",
        "outputId": "b6b1280a-f5de-4229-f1fe-34da3a87541d"
      },
      "outputs": [
        {
          "output_type": "stream",
          "name": "stdout",
          "text": [
            "66\n"
          ]
        }
      ],
      "source": [
        "#assignment oparaters are used to assign values to variabls\n",
        "m=23\n",
        "n=43\n",
        "#addition assignment\n",
        "m +=n\n",
        "print(m)"
      ]
    },
    {
      "cell_type": "code",
      "source": [
        "b=34\n",
        "v=54\n",
        "#sub assignment\n",
        "b-=v\n",
        "print(b)"
      ],
      "metadata": {
        "colab": {
          "base_uri": "https://localhost:8080/"
        },
        "id": "v49qfO8VHJBz",
        "outputId": "c10a6dea-6f7a-4766-dc1f-5a697edf193c"
      },
      "execution_count": 2,
      "outputs": [
        {
          "output_type": "stream",
          "name": "stdout",
          "text": [
            "-20\n"
          ]
        }
      ]
    },
    {
      "cell_type": "code",
      "source": [
        "c=98\n",
        "x=74\n",
        "#multiplication(hastric)assignment\n",
        "c*=x\n",
        "print(c)"
      ],
      "metadata": {
        "colab": {
          "base_uri": "https://localhost:8080/"
        },
        "id": "jzCxdsQOHawI",
        "outputId": "eda16c22-7ee7-4141-da2f-c087dcd4b44c"
      },
      "execution_count": 3,
      "outputs": [
        {
          "output_type": "stream",
          "name": "stdout",
          "text": [
            "7252\n"
          ]
        }
      ]
    },
    {
      "cell_type": "code",
      "source": [
        "z=57\n",
        "l=34\n",
        "#division assignment\n",
        "z/=l\n",
        "print(z)"
      ],
      "metadata": {
        "colab": {
          "base_uri": "https://localhost:8080/"
        },
        "id": "qw64JVAfH1Ae",
        "outputId": "3cb4c396-bd92-4ff4-e042-76cce5563986"
      },
      "execution_count": 4,
      "outputs": [
        {
          "output_type": "stream",
          "name": "stdout",
          "text": [
            "1.6764705882352942\n"
          ]
        }
      ]
    },
    {
      "cell_type": "code",
      "source": [
        "k=543\n",
        "j=5\n",
        "#exponantation\n",
        "k**=j\n",
        "print(k)\n"
      ],
      "metadata": {
        "colab": {
          "base_uri": "https://localhost:8080/"
        },
        "id": "HuXdoEhVIEyx",
        "outputId": "67d90e55-90fa-40aa-ac0a-282a39ff76e0"
      },
      "execution_count": 5,
      "outputs": [
        {
          "output_type": "stream",
          "name": "stdout",
          "text": [
            "47206211510943\n"
          ]
        }
      ]
    },
    {
      "cell_type": "code",
      "source": [
        "g=532\n",
        "d=600\n",
        "#modules\n",
        "g%=d\n",
        "print(g)"
      ],
      "metadata": {
        "colab": {
          "base_uri": "https://localhost:8080/"
        },
        "id": "WhJmQOUJIbyZ",
        "outputId": "7b307bbe-c8c3-4849-b283-f8a1cabe4fe7"
      },
      "execution_count": 6,
      "outputs": [
        {
          "output_type": "stream",
          "name": "stdout",
          "text": [
            "532\n"
          ]
        }
      ]
    }
  ]
}
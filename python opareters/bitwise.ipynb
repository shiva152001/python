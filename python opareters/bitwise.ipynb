{
  "nbformat": 4,
  "nbformat_minor": 0,
  "metadata": {
    "colab": {
      "provenance": []
    },
    "kernelspec": {
      "name": "python3",
      "display_name": "Python 3"
    },
    "language_info": {
      "name": "python"
    }
  },
  "cells": [
    {
      "cell_type": "code",
      "execution_count": 6,
      "metadata": {
        "colab": {
          "base_uri": "https://localhost:8080/"
        },
        "id": "7QFWRh048gVo",
        "outputId": "6d257c1d-8a78-43b8-ae53-1a37160087a4"
      },
      "outputs": [
        {
          "output_type": "stream",
          "name": "stdout",
          "text": [
            "0\n"
          ]
        }
      ],
      "source": [
        "#bitwise\n",
        "#3=0011\n",
        "#4=0100\n",
        "#-------\n",
        "#  0000\n",
        "q=3\n",
        "w=4\n",
        "print(q&w)\n",
        "#here & means equal value in banary laguage. but not any one number is also equal and the out is flase(0)\n"
      ]
    },
    {
      "cell_type": "code",
      "source": [
        "#64= 1000000\n",
        "#2=  0000010\n",
        "#56= 0111000\n",
        "#these are binary number for these\n",
        "r=64\n",
        "t=2\n",
        "y=56\n",
        "#r|t\n",
        "#64= 1000000\n",
        "#2=  0000010\n",
        "#------------\n",
        "#66= 1000010\n",
        "#r|y\n",
        "#64= 1000000\n",
        "#56= 0111000\n",
        "#------------\n",
        "#128=1111000\n",
        "#t|y\n",
        "#2=  0000010\n",
        "#56= 0111000\n",
        "#------------\n",
        "#58= 0111010\n",
        "print(r|t,r|y,t|y)\n",
        " #and these is the clear explination of biwise code in this comments have computer code.\n",
        " #in this | (or) is using like equal is 0 is notvalid in or(|) 1 is valid\n",
        "\n"
      ],
      "metadata": {
        "colab": {
          "base_uri": "https://localhost:8080/"
        },
        "id": "PpPCUvaoJBye",
        "outputId": "74b4e010-8d79-4711-f5a1-15cdf623694e"
      },
      "execution_count": 8,
      "outputs": [
        {
          "output_type": "stream",
          "name": "stdout",
          "text": [
            "66 120 58\n"
          ]
        }
      ]
    },
    {
      "cell_type": "code",
      "source": [
        "#^ another bitwise code\n",
        "#in this rule is\n",
        "#true + true =flase,1+1=0\n",
        "#flase + flase = flase 1+1=0\n",
        "#true + flase = true 1+0=1\n",
        "a=8\n",
        "b=34\n",
        "#8= 001001\n",
        "#34=100010\n",
        "#----------\n",
        "#42=101011\n",
        "print(a^b)"
      ],
      "metadata": {
        "colab": {
          "base_uri": "https://localhost:8080/"
        },
        "id": "Wzv_HINOOPvz",
        "outputId": "3e7526d6-8d7e-4d6f-9ca9-ec914ba69e0f"
      },
      "execution_count": 9,
      "outputs": [
        {
          "output_type": "stream",
          "name": "stdout",
          "text": [
            "42\n"
          ]
        }
      ]
    },
    {
      "cell_type": "code",
      "source": [
        "#not oparetion works \"~\"\n",
        "b=23\n",
        "c=32\n",
        "#23=010111\n",
        "#~= 101000\n",
        "#32=100000\n",
        "#~ =011111\n",
        "\n",
        "print(~b)\n",
        "print(~c)\n",
        "#reverse opareating system in the place of 1 is oppsite one is 0\n",
        "#the place of 0 is opppsite one is 1 this is not \"~\" opareter"
      ],
      "metadata": {
        "colab": {
          "base_uri": "https://localhost:8080/"
        },
        "id": "DzepU_2xPZ_V",
        "outputId": "17c0781c-064b-4b8c-99ba-5bddcfbae0ce"
      },
      "execution_count": 12,
      "outputs": [
        {
          "output_type": "stream",
          "name": "stdout",
          "text": [
            "-24\n",
            "-33\n"
          ]
        }
      ]
    },
    {
      "cell_type": "code",
      "source": [
        "#<< left shift opareters\n",
        "a=33\n",
        "d=35\n",
        "#10=001010(000) adding 000 in left shift\n",
        "#35=100011(000) adding 000 in lift shift\n",
        "\n",
        "print(a<<3)\n",
        "print(d<<3)\n",
        "#in print how much digit u carry that much of 0's are added in to lesf shift\n"
      ],
      "metadata": {
        "colab": {
          "base_uri": "https://localhost:8080/"
        },
        "id": "WQ0TTIpQRjdr",
        "outputId": "a44132c7-78de-43bb-f0e4-33fd93674bbf"
      },
      "execution_count": 24,
      "outputs": [
        {
          "output_type": "stream",
          "name": "stdout",
          "text": [
            "264\n",
            "280\n"
          ]
        }
      ]
    },
    {
      "cell_type": "code",
      "source": [
        "#>> right shift opareters\n",
        "g=43\n",
        "h=24\n",
        "#43=101(011) removing in right shift\n",
        "#24=011(000) removing in right shift\n",
        "print(g>>3)\n",
        "print(h>>2)\n",
        "#removing how much of digit we taken  in print to remove in the in 0's are 1's any of them removed."
      ],
      "metadata": {
        "colab": {
          "base_uri": "https://localhost:8080/"
        },
        "id": "BVmWAruKV7Uq",
        "outputId": "06c40d57-4c2a-494c-860b-92d9e212c060"
      },
      "execution_count": 28,
      "outputs": [
        {
          "output_type": "stream",
          "name": "stdout",
          "text": [
            "5\n",
            "6\n"
          ]
        }
      ]
    }
  ]
}
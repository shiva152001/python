{
  "nbformat": 4,
  "nbformat_minor": 0,
  "metadata": {
    "colab": {
      "provenance": []
    },
    "kernelspec": {
      "name": "python3",
      "display_name": "Python 3"
    },
    "language_info": {
      "name": "python"
    }
  },
  "cells": [
    {
      "cell_type": "code",
      "execution_count": 10,
      "metadata": {
        "colab": {
          "base_uri": "https://localhost:8080/"
        },
        "id": "RYm7QjcPJDXG",
        "outputId": "2c66bbdd-aee2-455e-9e5a-54e062e3cbef"
      },
      "outputs": [
        {
          "output_type": "stream",
          "name": "stdout",
          "text": [
            "True\n",
            "False\n",
            "False\n",
            "True\n",
            "True\n",
            "False\n"
          ]
        }
      ],
      "source": [
        "#comparison operetorts compare two values/variables and return aboolean result .True (or) False\n",
        "a=23\n",
        "b=89\n",
        "print(a!=b)#not equal(!)\n",
        "print(a==b)#equal(==)\n",
        "print(a>b)#greater then (>)\n",
        "print(a<b)#less then(<)\n",
        "print(a<=b)#lessthen(<=)\n",
        "print(a>=b)#greaterthen(>=)"
      ]
    },
    {
      "cell_type": "code",
      "source": [
        "h=24\n",
        "d=24\n",
        "print('h!=d=',h!=d)#not equal(!)\n",
        "print('h==d=',h==d)#equal(==)\n",
        "print('h>d=',h>d)#greater then (>)\n",
        "print('h<d=',h<d)#less then(<)\n",
        "print('h<=d=',h<=d)#lessthen(<=)\n",
        "print('h>=d=',h>=d)#greaterthen(>=)"
      ],
      "metadata": {
        "colab": {
          "base_uri": "https://localhost:8080/"
        },
        "id": "wpljjht7QaHI",
        "outputId": "86911066-019e-4886-baf2-45c110e8c8ee"
      },
      "execution_count": 13,
      "outputs": [
        {
          "output_type": "stream",
          "name": "stdout",
          "text": [
            "h!=d= False\n",
            "h==d= True\n",
            "h>d= False\n",
            "h<d= False\n",
            "h<=d= True\n",
            "h>=d= True\n"
          ]
        }
      ]
    },
    {
      "cell_type": "code",
      "source": [
        "u=90\n",
        "i=20\n",
        "print('u==i',u==i)#equal(==)\n",
        "print('u!=i',u!=i)#not equal(!)"
      ],
      "metadata": {
        "colab": {
          "base_uri": "https://localhost:8080/"
        },
        "id": "C1oM8-5idJLH",
        "outputId": "4674c6e2-4186-41ac-90db-4fd1f1b84db2"
      },
      "execution_count": 16,
      "outputs": [
        {
          "output_type": "stream",
          "name": "stdout",
          "text": [
            "u==i False\n",
            "u!=i True\n"
          ]
        }
      ]
    },
    {
      "cell_type": "code",
      "source": [
        "p=20\n",
        "o=20\n",
        "print('p>o=',p>o)#greater then (>)\n",
        "print('p<o=',p<o)#less then(<)\n",
        "print('p==o',p==o)"
      ],
      "metadata": {
        "colab": {
          "base_uri": "https://localhost:8080/"
        },
        "id": "xDy0qnF7dr5h",
        "outputId": "bd491912-64bc-423b-c4b9-579f4eebd76e"
      },
      "execution_count": 19,
      "outputs": [
        {
          "output_type": "stream",
          "name": "stdout",
          "text": [
            "p>o= False\n",
            "p<o= False\n",
            "p==o True\n"
          ]
        }
      ]
    },
    {
      "cell_type": "code",
      "source": [
        "z=43\n",
        "x=35\n",
        "print('z<=x=',z<=x)#lessthen(<=)\n",
        "print('z>=x=',z>=x)#greaterthen(>=)"
      ],
      "metadata": {
        "colab": {
          "base_uri": "https://localhost:8080/"
        },
        "id": "ePE3qVdNeXGo",
        "outputId": "5e6d4e23-b079-45ae-f002-c51e24b653a2"
      },
      "execution_count": 20,
      "outputs": [
        {
          "output_type": "stream",
          "name": "stdout",
          "text": [
            "z<=x= False\n",
            "z>=x= True\n"
          ]
        }
      ]
    }
  ]
}
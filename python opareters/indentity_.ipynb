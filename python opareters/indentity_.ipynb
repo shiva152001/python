{
  "nbformat": 4,
  "nbformat_minor": 0,
  "metadata": {
    "colab": {
      "provenance": []
    },
    "kernelspec": {
      "name": "python3",
      "display_name": "Python 3"
    },
    "language_info": {
      "name": "python"
    }
  },
  "cells": [
    {
      "cell_type": "code",
      "execution_count": 2,
      "metadata": {
        "colab": {
          "base_uri": "https://localhost:8080/"
        },
        "id": "llAQBMufpk9z",
        "outputId": "a7fd1022-93d6-40cf-8024-d7774deb9279"
      },
      "outputs": [
        {
          "output_type": "stream",
          "name": "stdout",
          "text": [
            "True\n",
            "True\n",
            "True\n",
            "True\n",
            "False\n",
            "False\n",
            "False\n",
            "False\n"
          ]
        }
      ],
      "source": [
        "#identity opareters (is not),(is)\n",
        "#it means same are not same in this code\n",
        "#it is same in code it will be true\n",
        "#it will not same  in code it will be false\n",
        "she=\"i am she\"\n",
        "he =\"i am he\"\n",
        "_2=\"its 2\"\n",
        "_1=\"its 1\"\n",
        "#is not opareters\n",
        "print(she is not he)\n",
        "print(he is not she)\n",
        "print(_2 is not _1)\n",
        "print(_1 is not _2)\n",
        "#is opareters\n",
        "print(she is he)\n",
        "print(he is she)\n",
        "print(_2 is _1)\n",
        "print(_1 is _2)"
      ]
    },
    {
      "cell_type": "code",
      "source": [
        "#identity opareters (is not)\n",
        "_2=\"apple is red in colour\"\n",
        "_3=\"apple is red in colour\"\n",
        "#is not opareters\n",
        "print(_2 is not _3)\n",
        "print(_2 is _3)"
      ],
      "metadata": {
        "colab": {
          "base_uri": "https://localhost:8080/"
        },
        "id": "ojC5EFjKrteR",
        "outputId": "4d23c6a3-46ed-4cee-9714-b4549bf6e28a"
      },
      "execution_count": 3,
      "outputs": [
        {
          "output_type": "stream",
          "name": "stdout",
          "text": [
            "True\n",
            "False\n"
          ]
        }
      ]
    },
    {
      "cell_type": "code",
      "source": [
        "#identity opareters is not , is\n",
        "y=563\n",
        "w=234\n",
        "print(y is not w)\n",
        "print(y is w)"
      ],
      "metadata": {
        "colab": {
          "base_uri": "https://localhost:8080/"
        },
        "id": "J_R1r1OMsrsc",
        "outputId": "2b51f6e7-0672-4068-86f5-831dcf31a7b4"
      },
      "execution_count": 6,
      "outputs": [
        {
          "output_type": "stream",
          "name": "stdout",
          "text": [
            "True\n",
            "False\n"
          ]
        }
      ]
    },
    {
      "cell_type": "code",
      "source": [
        "#opareters is ,is not\n",
        "q=20\n",
        "w=20\n",
        "p=90\n",
        "o=90\n",
        "print(q is not w)\n",
        "print(w is not q)\n",
        "print(q is w)\n",
        "print(q is w)\n",
        "\n",
        "print(p is not o)\n",
        "print(p is not o)\n",
        "print(p is  o)\n",
        "print(p is  o)\n"
      ],
      "metadata": {
        "colab": {
          "base_uri": "https://localhost:8080/"
        },
        "id": "b-G1SF8ptbf5",
        "outputId": "ba63523d-fe9a-4d03-c841-b5b72990a7db"
      },
      "execution_count": 8,
      "outputs": [
        {
          "output_type": "stream",
          "name": "stdout",
          "text": [
            "False\n",
            "False\n",
            "True\n",
            "True\n",
            "False\n",
            "False\n",
            "True\n",
            "True\n"
          ]
        }
      ]
    }
  ]
}
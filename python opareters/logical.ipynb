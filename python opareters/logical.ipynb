{
  "nbformat": 4,
  "nbformat_minor": 0,
  "metadata": {
    "colab": {
      "provenance": []
    },
    "kernelspec": {
      "name": "python3",
      "display_name": "Python 3"
    },
    "language_info": {
      "name": "python"
    }
  },
  "cells": [
    {
      "cell_type": "code",
      "execution_count": 30,
      "metadata": {
        "colab": {
          "base_uri": "https://localhost:8080/"
        },
        "id": "sz5k37-kezUI",
        "outputId": "445f2aa1-d274-4df2-8145-0cc049c9bd58"
      },
      "outputs": [
        {
          "output_type": "stream",
          "name": "stdout",
          "text": [
            "True\n",
            "False\n",
            "False\n"
          ]
        }
      ],
      "source": [
        "#logical (and) opareter\n",
        "a=10\n",
        "print(10>5 and 10<20)\n",
        "print(10>15and 10<35)\n",
        "print(10>10 and 10<10)\n",
        "#if (and) opareters is two are true  output also shown in true\n",
        "#one is mistake in the and opareter it will shown false"
      ]
    },
    {
      "cell_type": "code",
      "source": [
        "#logical(or)opareter\n",
        "b=154\n",
        "print(154>164 or 154<174)\n",
        "print(154!=987or 154<765)\n",
        "print(154==6 or 154<564)\n",
        "#in this logical (or) opareter in this two oparaters is true the out put is also true\n",
        "#and the in this two opareters one oparater is worng  it will shown in out put true\n",
        "#two opareters or false in output also shown in false."
      ],
      "metadata": {
        "colab": {
          "base_uri": "https://localhost:8080/"
        },
        "id": "-5z_EKkRhVYu",
        "outputId": "21558fdc-0c29-468e-c6c4-67645661b047"
      },
      "execution_count": 31,
      "outputs": [
        {
          "output_type": "stream",
          "name": "stdout",
          "text": [
            "True\n",
            "True\n",
            "True\n"
          ]
        }
      ]
    },
    {
      "cell_type": "code",
      "source": [
        "#logical(not)\"andopareters\n",
        "d=234\n",
        "print(not(234<236 and 234>23))\n",
        "print(not(234<432 and 243>56))\n",
        "print(not(234>894 and 234<34))\n",
        "#in thios opareter not will apply in this code true functions are false\n",
        "#false functions all are true."
      ],
      "metadata": {
        "colab": {
          "base_uri": "https://localhost:8080/"
        },
        "id": "kBolqCFsjpWE",
        "outputId": "bd042bdc-ba09-4f0b-f0ce-65a1f2e73045"
      },
      "execution_count": 32,
      "outputs": [
        {
          "output_type": "stream",
          "name": "stdout",
          "text": [
            "False\n",
            "False\n",
            "True\n"
          ]
        }
      ]
    },
    {
      "cell_type": "code",
      "source": [
        "#logical (not)\"or\"opareters\n",
        "q=23\n",
        "print(not(23>12 or 23<25))\n",
        "print(not(23<12 or 23>25) )\n",
        "print(not(45>20 or 45<90))"
      ],
      "metadata": {
        "colab": {
          "base_uri": "https://localhost:8080/"
        },
        "id": "_easdCptnjgX",
        "outputId": "4b4fe751-4a77-4aa2-c584-ef71e06d891e"
      },
      "execution_count": 36,
      "outputs": [
        {
          "output_type": "stream",
          "name": "stdout",
          "text": [
            "False\n",
            "True\n",
            "False\n"
          ]
        }
      ]
    },
    {
      "cell_type": "code",
      "source": [
        "#logical (not)\"and\",\"or\" opareters\n",
        "print(not(289<290 and 564>67))\n",
        "print(not(68>7 or 98<100))\n",
        "print(not(56<290 and 56>67))\n",
        "print(not(6>7 or 98<10))"
      ],
      "metadata": {
        "colab": {
          "base_uri": "https://localhost:8080/"
        },
        "id": "0WYCglzfotlk",
        "outputId": "93ba044b-f77d-4d18-bfc1-4d8a82bdb796"
      },
      "execution_count": 38,
      "outputs": [
        {
          "output_type": "stream",
          "name": "stdout",
          "text": [
            "False\n",
            "False\n",
            "True\n",
            "True\n"
          ]
        }
      ]
    }
  ]
}
{
  "nbformat": 4,
  "nbformat_minor": 0,
  "metadata": {
    "colab": {
      "provenance": []
    },
    "kernelspec": {
      "name": "python3",
      "display_name": "Python 3"
    },
    "language_info": {
      "name": "python"
    }
  },
  "cells": [
    {
      "cell_type": "code",
      "execution_count": 26,
      "metadata": {
        "colab": {
          "base_uri": "https://localhost:8080/"
        },
        "id": "SW_sZjxlupRM",
        "outputId": "24b6a9ea-1042-4432-e403-d85afd1f4625"
      },
      "outputs": [
        {
          "output_type": "stream",
          "name": "stdout",
          "text": [
            "False\n",
            "True\n",
            "False\n",
            "True\n",
            "True\n",
            "False\n",
            "9 9 7 0 5 True\n"
          ]
        }
      ],
      "source": [
        "#membership opareters\n",
        "#in,not in\n",
        "m=\"mango\"\n",
        "_3=[9,9,7,0,5,3]\n",
        "print('m'  not in m)\n",
        "print('o' in m)\n",
        "print('k' in m)\n",
        "print('p'not in m)\n",
        "print(9 in _3)\n",
        "print(9 not in _3)\n",
        "print(9,9,7,0,5,3 in _3)"
      ]
    },
    {
      "cell_type": "code",
      "source": [
        "#not in\n",
        "_1=9,0,2,4,5,6\n",
        "_2=3,4,5,6,7,8\n",
        "_3=4,5,6,7,8,9\n",
        "print(9 not in _1)\n",
        "print(9 in _1)\n",
        "print(5 not in _2)\n",
        "print(5 in  _2)\n",
        "print(7 not in _3)\n",
        "print(7 in _3)"
      ],
      "metadata": {
        "colab": {
          "base_uri": "https://localhost:8080/"
        },
        "id": "vrpatnrSz9CY",
        "outputId": "6f15047b-af5c-48b4-b1aa-9d24e709bee4"
      },
      "execution_count": 28,
      "outputs": [
        {
          "output_type": "stream",
          "name": "stdout",
          "text": [
            "False\n",
            "True\n",
            "False\n",
            "True\n",
            "False\n",
            "True\n"
          ]
        }
      ]
    },
    {
      "cell_type": "code",
      "source": [
        "#in(alabets)\n",
        "a=\"SHIVA\"\n",
        "b=\"PAVAN\"\n",
        "print('SHIVA' in a)\n",
        "print('pavan'in  b)\n",
        "print('PAVAN'in b)\n",
        "print('shiva' in a)\n"
      ],
      "metadata": {
        "colab": {
          "base_uri": "https://localhost:8080/"
        },
        "id": "MlbonQWa3r2I",
        "outputId": "cd80e1f8-3646-4bf2-f815-1aac23c6407b"
      },
      "execution_count": 30,
      "outputs": [
        {
          "output_type": "stream",
          "name": "stdout",
          "text": [
            "True\n",
            "False\n",
            "True\n",
            "False\n"
          ]
        }
      ]
    },
    {
      "cell_type": "code",
      "source": [
        "#not in (numbers)\n",
        "a=1,2,3,4\n",
        "b=5,6,7,8\n",
        "print(1 in a)\n",
        "print(2 not in  a)\n",
        "print(5,6 not in b)\n",
        "print(7,8 in b)\n"
      ],
      "metadata": {
        "colab": {
          "base_uri": "https://localhost:8080/"
        },
        "id": "iR22g-Sz4dF4",
        "outputId": "388cb55b-37be-435b-af96-08678fc7dd07"
      },
      "execution_count": 34,
      "outputs": [
        {
          "output_type": "stream",
          "name": "stdout",
          "text": [
            "True\n",
            "False\n",
            "5 False\n",
            "7 True\n"
          ]
        }
      ]
    },
    {
      "cell_type": "code",
      "source": [
        "#membership opareters\n",
        "#not in  is uses to it is true or false it identify\n",
        "#in is difined is aslo true or false identify\n",
        "s=\"bsc\"\n",
        "a=\"bcom\"\n",
        "print('bsc' in s)\n",
        "#in is defind to true whether it is true are not in variables or values\n",
        "print('bcom' not in a)\n",
        "#in this variable is their in value not is in identify whether it is true or false\n"
      ],
      "metadata": {
        "colab": {
          "base_uri": "https://localhost:8080/"
        },
        "id": "nGz1eMNZ69jo",
        "outputId": "df5dafae-4a32-4dca-890c-59e7f2b07d6a"
      },
      "execution_count": 35,
      "outputs": [
        {
          "output_type": "stream",
          "name": "stdout",
          "text": [
            "True\n",
            "False\n"
          ]
        }
      ]
    },
    {
      "cell_type": "code",
      "source": [],
      "metadata": {
        "id": "7NdaS-8w7jqb"
      },
      "execution_count": 34,
      "outputs": []
    }
  ]
}
{
  "nbformat": 4,
  "nbformat_minor": 0,
  "metadata": {
    "colab": {
      "provenance": []
    },
    "kernelspec": {
      "name": "python3",
      "display_name": "Python 3"
    },
    "language_info": {
      "name": "python"
    }
  },
  "cells": [
    {
      "cell_type": "markdown",
      "source": [
        "# **core data type**"
      ],
      "metadata": {
        "id": "FlYteri_dylm"
      }
    },
    {
      "cell_type": "code",
      "source": [
        "Restaurant={\n",
        "    \"name\":\"himalaya restaurant\",\n",
        "    \"years exp\":\"5years\",\n",
        "    \"rating\": \"4star\",\n",
        "    \"items\":108\n",
        "}\n",
        "Restaurant\n"
      ],
      "metadata": {
        "colab": {
          "base_uri": "https://localhost:8080/",
          "height": 0
        },
        "id": "8CzzHDO-yT7e",
        "outputId": "fa4ed3cd-1d42-44c4-c61f-644c321c3e97"
      },
      "execution_count": 5,
      "outputs": [
        {
          "output_type": "execute_result",
          "data": {
            "text/plain": [
              "{'name': 'himalaya restaurant',\n",
              " 'years exp': '5years',\n",
              " 'rating': '4star',\n",
              " 'items': 108}"
            ]
          },
          "metadata": {},
          "execution_count": 5
        }
      ]
    },
    {
      "cell_type": "code",
      "source": [
        "teks={\n",
        "    \"shiva\":\"degree\",\n",
        "    \"pavan\":\"btech\",\n",
        "    \"jeswanth\":\"btech final year\",\n",
        "    \"rohit\":\"betch\",\n",
        "    \"prasad\":\"betach\"\n",
        "}\n",
        "teks"
      ],
      "metadata": {
        "colab": {
          "base_uri": "https://localhost:8080/",
          "height": 0
        },
        "id": "M_LJGqFhz6Fz",
        "outputId": "9d72ed47-8524-486b-c3c3-762e5539cb5f"
      },
      "execution_count": 7,
      "outputs": [
        {
          "output_type": "execute_result",
          "data": {
            "text/plain": [
              "{'shiva': 'degree',\n",
              " 'pavan': 'btech',\n",
              " 'jeswanth': 'btech final year',\n",
              " 'rohit': 'betch',\n",
              " 'prasad': 'betach'}"
            ]
          },
          "metadata": {},
          "execution_count": 7
        }
      ]
    },
    {
      "cell_type": "code",
      "source": [
        "#person={\"key\":\"value\",\"key\":\"value\",\"key\":\"value\",}\n",
        "person={\n",
        "    \"name\":\"shiva\",\n",
        "    \"age\":24,\n",
        "    \"from\":\"ap\"\n",
        "}\n",
        "person1={\n",
        "    \"name\":\"pavan\",\n",
        "    \"age\":23,\n",
        "    \"from\":\"ap\"\n",
        "}\n",
        "person2={\n",
        "    \"name\":\"jaswanth\",\n",
        "    \"age\":24,\n",
        "    \"from\":\"local\"\n",
        "}\n",
        "print(person)\n",
        "print(person1)\n",
        "print(person2)\n"
      ],
      "metadata": {
        "colab": {
          "base_uri": "https://localhost:8080/",
          "height": 0
        },
        "id": "0mOoz3Ip1m6g",
        "outputId": "908049a6-c240-4fc2-82ef-dfb6a1e97933"
      },
      "execution_count": 11,
      "outputs": [
        {
          "output_type": "stream",
          "name": "stdout",
          "text": [
            "{'name': 'shiva', 'age': 24, 'from': 'ap'}\n",
            "{'name': 'pavan', 'age': 23, 'from': 'ap'}\n",
            "{'name': 'jaswanth', 'age': 24, 'from': 'local'}\n"
          ]
        }
      ]
    },
    {
      "cell_type": "markdown",
      "source": [
        "# **accessing value**"
      ],
      "metadata": {
        "id": "W03geFmh3AUC"
      }
    },
    {
      "cell_type": "code",
      "source": [
        "#you can acces the values in adictionary using the key\n",
        "Restaurant={\n",
        "    \"name\":\"himalaya restaurant\",\n",
        "    \"years exp\":\"5years\",\n",
        "    \"rating\": \"4star\",\n",
        "    \"items\":108\n",
        "}\n",
        "\n",
        "teks={\n",
        "    \"shiva\":\"degree\",\n",
        "    \"pavan\":\"btech\",\n",
        "    \"jeswanth\":\"btech final year\",\n",
        "    \"rohit\":\"betch\",\n",
        "    \"prasad\":\"betach\"\n",
        "}\n",
        "\n",
        "person={\n",
        "    \"name\":\"shiva\",\n",
        "    \"age\":24,\n",
        "    \"from\":\"ap\"\n",
        "}\n",
        "person1={\n",
        "    \"name\":\"pavan\",\n",
        "    \"age\":23,\n",
        "    \"from\":\"ap\"\n",
        "}\n",
        "person2={\n",
        "    \"name\":\"jaswanth\",\n",
        "    \"age\":24,\n",
        "    \"from\":\"local\"\n",
        "}\n",
        "print(Restaurant[\"name\"])\n",
        "print(teks[\"shiva\"])\n",
        "print(person[\"age\"])\n",
        "print(person1[\"from\"])\n",
        "print(person2[\"name\"])"
      ],
      "metadata": {
        "colab": {
          "base_uri": "https://localhost:8080/",
          "height": 0
        },
        "id": "ezJOK0V_3Foz",
        "outputId": "c3579a44-7a26-41b3-ca70-ab4aeb52dbab"
      },
      "execution_count": 12,
      "outputs": [
        {
          "output_type": "stream",
          "name": "stdout",
          "text": [
            "himalaya restaurant\n",
            "degree\n",
            "24\n",
            "ap\n",
            "jaswanth\n"
          ]
        }
      ]
    },
    {
      "cell_type": "markdown",
      "source": [
        "## **modifing and adding elements**\n",
        "dictionaries are mutable ,so you can modify exisiting or add new one"
      ],
      "metadata": {
        "id": "K6L09b2M5HGM"
      }
    },
    {
      "cell_type": "code",
      "source": [
        "Restaurant={\n",
        "    \"name\":\"himalaya restaurant\",\n",
        "    \"years exp\":\"5years\",\n",
        "    \"rating\": \"4star\",\n",
        "    \"items\":108\n",
        "}\n",
        "\n",
        "teks={\n",
        "    \"shiva\":\"degree\",\n",
        "    \"pavan\":\"btech\",\n",
        "    \"jeswanth\":\"btech final year\",\n",
        "    \"rohit\":\"btech\",\n",
        "    \"prasad\":\"btech\"\n",
        "}\n",
        "\n",
        "person={\n",
        "    \"name\":\"shiva\",\n",
        "    \"age\":24,\n",
        "    \"from\":\"ap\"\n",
        "}\n",
        "person1={\n",
        "    \"name\":\"pavan\",\n",
        "    \"age\":23,\n",
        "    \"from\":\"ap\"\n",
        "}\n",
        "person2={\n",
        "    \"name\":\"jaswanth\",\n",
        "    \"age\":24,\n",
        "    \"from\":\"local\"\n",
        "}\n",
        "#modify an entry\n",
        "Restaurant[\"rating\"]=\"5star\"\n",
        "teks[\"pavan\"]=\"degree\"\n",
        "person[\"name\"]=\"shiva prasad\"\n",
        "person1[\"age\"]=24\n",
        "person[\"from\"]=\"TS\"\n",
        "#adding an entry\n",
        "Restaurant[\"area\"]=\"hindhupur\"\n",
        "teks[\"age\"]=[24,23,24,23,24]\n",
        "person[\"area\"]=\"hightech city\"\n",
        "person1[\"area\"]=\"peddhamma gudi\"\n",
        "person2[\"area\"]=\"jublihills\"\n",
        "print(Restaurant)\n",
        "print(teks)\n",
        "print(person)\n",
        "print(person1)\n",
        "print(person2)"
      ],
      "metadata": {
        "colab": {
          "base_uri": "https://localhost:8080/",
          "height": 0
        },
        "id": "yUE9j5Xw5dLE",
        "outputId": "7e3b6203-1c51-4c90-e399-2508efe8eb43"
      },
      "execution_count": 26,
      "outputs": [
        {
          "output_type": "stream",
          "name": "stdout",
          "text": [
            "{'name': 'himalaya restaurant', 'years exp': '5years', 'rating': '5star', 'items': 108, 'area': 'hindhupur'}\n",
            "{'shiva': 'degree', 'pavan': 'degree', 'jeswanth': 'btech final year', 'rohit': 'btech', 'prasad': 'btech', 'age': [24, 23, 24, 23, 24]}\n",
            "{'name': 'shiva prasad', 'age': 24, 'from': 'TS', 'area': 'hightech city'}\n",
            "{'name': 'pavan', 'age': 24, 'from': 'ap', 'area': 'peddhamma gudi'}\n",
            "{'name': 'jaswanth', 'age': 24, 'from': 'local', 'area': 'jublihills'}\n"
          ]
        }
      ]
    },
    {
      "cell_type": "markdown",
      "source": [
        "# **Dictionary methods:**\n",
        "return the value for a specifide key it allow you to provide  a defult value if the key is not found."
      ],
      "metadata": {
        "id": "fB8RXT1t8BoW"
      }
    },
    {
      "cell_type": "code",
      "source": [
        "Restaurant={\n",
        "    \"name\":\"himalaya restaurant\",\n",
        "    \"years exp\":\"5years\",\n",
        "    \"rating\": \"4star\",\n",
        "    \"items\":108\n",
        "}\n",
        "\n",
        "teks={\n",
        "    \"shiva\":\"degree\",\n",
        "    \"pavan\":\"btech\",\n",
        "    \"jeswanth\":\"btech final year\",\n",
        "    \"rohit\":\"btech\",\n",
        "    \"prasad\":\"btech\"\n",
        "}\n",
        "\n",
        "person={\n",
        "    \"name\":\"shiva\",\n",
        "    \"age\":24,\n",
        "    \"from\":\"ap\"\n",
        "}\n",
        "person1={\n",
        "    \"name\":\"pavan\",\n",
        "    \"age\":23,\n",
        "    \"from\":\"ap\"\n",
        "}\n",
        "person2={\n",
        "    \"name\":\"jaswanth\",\n",
        "    \"age\":24,\n",
        "    \"from\":\"local\"\n",
        "}\n",
        "a=Restaurant.get(\"name\")\n",
        "b=teks.get(\"jeswanth\")\n",
        "c=person.get(\"local\",\"no value\")\n",
        "d=person1.get(\"from\")\n",
        "e=person2.get(\"gender\",\"no value\")\n",
        "print(a)\n",
        "print(b)\n",
        "print(c)\n",
        "print(d)\n",
        "print(e)"
      ],
      "metadata": {
        "colab": {
          "base_uri": "https://localhost:8080/",
          "height": 0
        },
        "id": "EAOK_vtX8g8c",
        "outputId": "a4ace61a-8cbe-41d6-9a81-100374b6a1b2"
      },
      "execution_count": 25,
      "outputs": [
        {
          "output_type": "stream",
          "name": "stdout",
          "text": [
            "himalaya restaurant\n",
            "btech final year\n",
            "no value\n",
            "ap\n",
            "no value\n"
          ]
        }
      ]
    },
    {
      "cell_type": "markdown",
      "source": [
        "# **key**\n",
        "returns a view of all the keys in the dicitonary"
      ],
      "metadata": {
        "id": "mRm8oOB1-BzV"
      }
    },
    {
      "cell_type": "code",
      "source": [
        "Restaurant={\n",
        "    \"name\":\"himalaya restaurant\",\n",
        "    \"years exp\":\"5years\",\n",
        "    \"rating\": \"4star\",\n",
        "    \"items\":108\n",
        "}\n",
        "\n",
        "teks={\n",
        "    \"shiva\":\"degree\",\n",
        "    \"pavan\":\"btech\",\n",
        "    \"jeswanth\":\"btech final year\",\n",
        "    \"rohit\":\"btech\",\n",
        "    \"prasad\":\"btech\"\n",
        "}\n",
        "\n",
        "person={\n",
        "    \"name\":\"shiva\",\n",
        "    \"age\":24,\n",
        "    \"from\":\"ap\"\n",
        "}\n",
        "person1={\n",
        "    \"name\":\"pavan\",\n",
        "    \"age\":23,\n",
        "    \"from\":\"ap\"\n",
        "}\n",
        "person2={\n",
        "    \"name\":\"jaswanth\",\n",
        "    \"age\":24,\n",
        "    \"from\":\"local\"\n",
        "}\n",
        "#keys\n",
        "a=Restaurant.keys()\n",
        "b=teks.keys()\n",
        "c=person.keys()\n",
        "d=person1.keys()\n",
        "e=person2.keys()\n",
        "print(a)\n",
        "print(b)\n",
        "print(c)\n",
        "print(d)\n",
        "print(e)"
      ],
      "metadata": {
        "colab": {
          "base_uri": "https://localhost:8080/",
          "height": 0
        },
        "id": "B7pWA_nL-MFE",
        "outputId": "7bd04522-00dd-4f8a-d645-4407a1dedf8a"
      },
      "execution_count": 24,
      "outputs": [
        {
          "output_type": "stream",
          "name": "stdout",
          "text": [
            "dict_keys(['name', 'years exp', 'rating', 'items'])\n",
            "dict_keys(['shiva', 'pavan', 'jeswanth', 'rohit', 'prasad'])\n",
            "dict_keys(['name', 'age', 'from'])\n",
            "dict_keys(['name', 'age', 'from'])\n",
            "dict_keys(['name', 'age', 'from'])\n"
          ]
        }
      ]
    },
    {
      "cell_type": "markdown",
      "source": [
        "# **values():**\n",
        "returns a view of all the values in the dicitionares"
      ],
      "metadata": {
        "id": "tn2lDQUl-xIr"
      }
    },
    {
      "cell_type": "code",
      "source": [
        "Restaurant={\n",
        "    \"name\":\"himalaya restaurant\",\n",
        "    \"years exp\":\"5years\",\n",
        "    \"rating\": \"4star\",\n",
        "    \"items\":108\n",
        "}\n",
        "\n",
        "teks={\n",
        "    \"shiva\":\"degree\",\n",
        "    \"pavan\":\"btech\",\n",
        "    \"jeswanth\":\"btech final year\",\n",
        "    \"rohit\":\"btech\",\n",
        "    \"prasad\":\"btech\"\n",
        "}\n",
        "\n",
        "person={\n",
        "    \"name\":\"shiva\",\n",
        "    \"age\":24,\n",
        "    \"from\":\"ap\"\n",
        "}\n",
        "person1={\n",
        "    \"name\":\"pavan\",\n",
        "    \"age\":23,\n",
        "    \"from\":\"ap\"\n",
        "}\n",
        "person2={\n",
        "    \"name\":\"jaswanth\",\n",
        "    \"age\":24,\n",
        "    \"from\":\"local\"\n",
        "}\n",
        "#values\n",
        "a=Restaurant.values()\n",
        "b=teks.values()\n",
        "c=person.values()\n",
        "d=person1.values()\n",
        "e=person2.values()\n",
        "print(a)\n",
        "print(b)\n",
        "print(c)\n",
        "print(d)\n",
        "print(e)"
      ],
      "metadata": {
        "colab": {
          "base_uri": "https://localhost:8080/",
          "height": 0
        },
        "id": "NWeaQ429_H7b",
        "outputId": "e4130f41-0fa4-4d75-dc3b-df589b184145"
      },
      "execution_count": 23,
      "outputs": [
        {
          "output_type": "stream",
          "name": "stdout",
          "text": [
            "dict_values(['himalaya restaurant', '5years', '4star', 108])\n",
            "dict_values(['degree', 'btech', 'btech final year', 'btech', 'btech'])\n",
            "dict_values(['shiva', 24, 'ap'])\n",
            "dict_values(['pavan', 23, 'ap'])\n",
            "dict_values(['jaswanth', 24, 'local'])\n"
          ]
        }
      ]
    },
    {
      "cell_type": "markdown",
      "source": [
        "# **items():**\n",
        "returns a view of all key- value pair of types\n",
        "\n"
      ],
      "metadata": {
        "id": "4DOkDLSU_egX"
      }
    },
    {
      "cell_type": "code",
      "source": [
        "Restaurant={\n",
        "    \"name\":\"himalaya restaurant\",\n",
        "    \"years exp\":\"5years\",\n",
        "    \"rating\": \"4star\",\n",
        "    \"items\":108\n",
        "}\n",
        "\n",
        "teks={\n",
        "    \"shiva\":\"degree\",\n",
        "    \"pavan\":\"btech\",\n",
        "    \"jeswanth\":\"btech final year\",\n",
        "    \"rohit\":\"btech\",\n",
        "    \"prasad\":\"btech\"\n",
        "}\n",
        "\n",
        "person={\n",
        "    \"name\":\"shiva\",\n",
        "    \"age\":24,\n",
        "    \"from\":\"ap\"\n",
        "}\n",
        "person1={\n",
        "    \"name\":\"pavan\",\n",
        "    \"age\":23,\n",
        "    \"from\":\"ap\"\n",
        "}\n",
        "person2={\n",
        "    \"name\":\"jaswanth\",\n",
        "    \"age\":24,\n",
        "    \"from\":\"local\"\n",
        "\n",
        "}\n",
        "#items\n",
        "a=Restaurant.items()\n",
        "b=teks.items()\n",
        "c=person.items()\n",
        "d=person1.items()\n",
        "e=person2.items()\n",
        "print(a)\n",
        "print(b)\n",
        "print(c)\n",
        "print(d)\n",
        "print(e)"
      ],
      "metadata": {
        "colab": {
          "base_uri": "https://localhost:8080/",
          "height": 0
        },
        "id": "y-1vJ6sU_voi",
        "outputId": "e23c4353-f772-420c-e8c0-1915db9beb39"
      },
      "execution_count": 21,
      "outputs": [
        {
          "output_type": "stream",
          "name": "stdout",
          "text": [
            "dict_items([('name', 'himalaya restaurant'), ('years exp', '5years'), ('rating', '4star'), ('items', 108)])\n",
            "dict_items([('shiva', 'degree'), ('pavan', 'btech'), ('jeswanth', 'btech final year'), ('rohit', 'btech'), ('prasad', 'btech')])\n",
            "dict_items([('name', 'shiva'), ('age', 24), ('from', 'ap')])\n",
            "dict_items([('name', 'pavan'), ('age', 23), ('from', 'ap')])\n",
            "dict_items([('name', 'jaswanth'), ('age', 24), ('from', 'local')])\n"
          ]
        }
      ]
    },
    {
      "cell_type": "markdown",
      "source": [
        "# **pop():**\n",
        "remove and returns the value for a specified\n",
        ""
      ],
      "metadata": {
        "id": "G135wqx0APxJ"
      }
    },
    {
      "cell_type": "code",
      "source": [
        "Restaurant={\n",
        "    \"name\":\"himalaya restaurant\",\n",
        "    \"years exp\":\"5years\",\n",
        "    \"rating\": \"4star\",\n",
        "    \"items\":108\n",
        "}\n",
        "\n",
        "teks={\n",
        "    \"shiva\":\"degree\",\n",
        "    \"pavan\":\"btech\",\n",
        "    \"jeswanth\":\"btech final year\",\n",
        "    \"rohit\":\"btech\",\n",
        "    \"prasad\":\"btech\"\n",
        "}\n",
        "\n",
        "person={\n",
        "    \"name\":\"shiva\",\n",
        "    \"age\":24,\n",
        "    \"from\":\"ap\"\n",
        "}\n",
        "person1={\n",
        "    \"name\":\"pavan\",\n",
        "    \"age\":23,\n",
        "    \"from\":\"ap\"\n",
        "}\n",
        "person2={\n",
        "    \"name\":\"jaswanth\",\n",
        "    \"age\":24,\n",
        "    \"from\":\"local\"\n",
        "}\n",
        "#slected item will removed in the key-value\n",
        "#pop():\n",
        "a=Restaurant.pop(\"items\")\n",
        "b=teks.pop(\"shiva\")\n",
        "c=person.pop(\"from\")\n",
        "d=person1.pop(\"age\")\n",
        "e=person2.pop(\"name\")\n",
        "print(a)\n",
        "print(b)\n",
        "print(c)\n",
        "print(d)\n",
        "print(e)"
      ],
      "metadata": {
        "colab": {
          "base_uri": "https://localhost:8080/",
          "height": 0
        },
        "id": "y1z5mBXzAfxS",
        "outputId": "2489e76d-3a24-4b1d-c5a4-22e2ca32dff9"
      },
      "execution_count": 22,
      "outputs": [
        {
          "output_type": "stream",
          "name": "stdout",
          "text": [
            "108\n",
            "degree\n",
            "ap\n",
            "23\n",
            "jaswanth\n"
          ]
        }
      ]
    },
    {
      "cell_type": "markdown",
      "source": [
        "# **popitem():**\n",
        "removes and returns the last insted key-value pair of a tuple"
      ],
      "metadata": {
        "id": "kxGKGPfbBOHC"
      }
    },
    {
      "cell_type": "code",
      "source": [
        "Restaurant={\n",
        "    \"name\":\"himalaya restaurant\",\n",
        "    \"years exp\":\"5years\",\n",
        "    \"rating\": \"4star\",\n",
        "    \"items\":108\n",
        "}\n",
        "\n",
        "teks={\n",
        "    \"shiva\":\"degree\",\n",
        "    \"pavan\":\"btech\",\n",
        "    \"jeswanth\":\"btech final year\",\n",
        "    \"rohit\":\"btech\",\n",
        "    \"prasad\":\"btech\"\n",
        "}\n",
        "\n",
        "person={\n",
        "    \"name\":\"shiva\",\n",
        "    \"age\":24,\n",
        "    \"from\":\"ap\"\n",
        "}\n",
        "person1={\n",
        "    \"name\":\"pavan\",\n",
        "    \"age\":23,\n",
        "    \"from\":\"ap\"\n",
        "}\n",
        "person2={\n",
        "    \"name\":\"jaswanth\",\n",
        "    \"age\":24,\n",
        "    \"from\":\"local\"\n",
        "}\n",
        "#last item will remove\n",
        "#popitem\n",
        "a=Restaurant.popitem()\n",
        "b=teks.popitem()\n",
        "c=person.popitem()\n",
        "d=person1.popitem()\n",
        "e=person2.popitem()\n",
        "print(a)\n",
        "print(b)\n",
        "print(c)\n",
        "print(d)\n",
        "print(e)"
      ],
      "metadata": {
        "colab": {
          "base_uri": "https://localhost:8080/",
          "height": 0
        },
        "id": "6JQdeL62BdSH",
        "outputId": "32e54362-16fe-4f38-f54c-0500bb365475"
      },
      "execution_count": 28,
      "outputs": [
        {
          "output_type": "stream",
          "name": "stdout",
          "text": [
            "('items', 108)\n",
            "('prasad', 'btech')\n",
            "('from', 'ap')\n",
            "('from', 'ap')\n",
            "('from', 'local')\n"
          ]
        }
      ]
    },
    {
      "cell_type": "markdown",
      "source": [
        "# **update():**\n"
      ],
      "metadata": {
        "id": "iayeeLUYCl6b"
      }
    },
    {
      "cell_type": "code",
      "source": [
        "Restaurant={\n",
        "    \"name\":\"himalaya restaurant\",\n",
        "    \"years exp\":\"5years\",\n",
        "    \"rating\": \"4star\",\n",
        "    \"items\":108\n",
        "}\n",
        "\n",
        "teks={\n",
        "    \"shiva\":\"degree\",\n",
        "    \"pavan\":\"btech\",\n",
        "    \"jeswanth\":\"btech final year\",\n",
        "    \"rohit\":\"btech\",\n",
        "    \"prasad\":\"btech\"\n",
        "}\n",
        "\n",
        "person={\n",
        "    \"name\":\"shiva\",\n",
        "    \"age\":24,\n",
        "    \"from\":\"ap\"\n",
        "}\n",
        "person1={\n",
        "    \"name\":\"pavan\",\n",
        "    \"age\":23,\n",
        "    \"from\":\"ap\"\n",
        "}\n",
        "person2={\n",
        "    \"name\":\"jaswanth\",\n",
        "    \"age\":24,\n",
        "    \"from\":\"local\"\n",
        "}\n",
        "#update any of mistake in previous date it will remove that place insert the correct data\n",
        "\n",
        "q={\"name\":\"sarigama family restaurant\",\n",
        "    \"years exp\":\"10years\",\n",
        "    \"rating\": \"5star\",\n",
        "    \"items\":150}\n",
        "w={\"shiva\":\"btech\",\n",
        "    \"pavan\":\"degree\",\n",
        "    \"jeswanth\":\"degree\",\n",
        "    \"rohit\":\"degree\",\n",
        "    \"prasad\":\"degree\"}\n",
        "e={\"name\":\"shiva prasad\",\n",
        "    \"age\":19,\n",
        "    \"from\":\"TS\"}\n",
        "r={\"name\":\"pavan kalyan\",\n",
        "    \"age\":21,\n",
        "    \"from\":\"TS\"}\n",
        "t={\"name\":\"jaswanth (hemanth)\",\n",
        "    \"age\":25,\n",
        "    \"from\":\"AP\"}\n",
        "Restaurant.update(q)\n",
        "teks.update(w)\n",
        "person.update(e)\n",
        "person1.update(r)\n",
        "person2.update(t)\n",
        "print(Restaurant)\n",
        "print(teks)\n",
        "print(person)\n",
        "print(person1)\n",
        "print(person2)"
      ],
      "metadata": {
        "colab": {
          "base_uri": "https://localhost:8080/"
        },
        "id": "AXYRV3KkC2-U",
        "outputId": "c9789cc4-d63f-4549-ce07-b32968f3196c"
      },
      "execution_count": 30,
      "outputs": [
        {
          "output_type": "stream",
          "name": "stdout",
          "text": [
            "{'name': 'sarigama family restaurant', 'years exp': '10years', 'rating': '5star', 'items': 150}\n",
            "{'shiva': 'btech', 'pavan': 'degree', 'jeswanth': 'degree', 'rohit': 'degree', 'prasad': 'degree'}\n",
            "{'name': 'shiva prasad', 'age': 19, 'from': 'TS'}\n",
            "{'name': 'pavan kalyan', 'age': 21, 'from': 'TS'}\n",
            "{'name': 'jaswanth (hemanth)', 'age': 25, 'from': 'AP'}\n"
          ]
        }
      ]
    },
    {
      "cell_type": "markdown",
      "source": [
        "# **python sets**\n",
        "\n",
        "\n",
        "1.   set not allowed in duplicte elements\n",
        "2.   using {}supprot by \",\"\n",
        "3. colloction of unique elements.\n",
        "\n"
      ],
      "metadata": {
        "id": "o_1jYpkeHkGY"
      }
    },
    {
      "cell_type": "markdown",
      "source": [
        "# **creating sets:**"
      ],
      "metadata": {
        "id": "tp2OUQguS3UA"
      }
    },
    {
      "cell_type": "code",
      "source": [
        "#creating an empty set\n",
        "#empty-set =set()\n",
        "#creating a set with elements\n",
        "\n",
        "names={\"shiva\",\"pavan\",\"jeswanth\",\"anil\",\"nithin\",\"prasad\",\"rohit\"}\n",
        "numbers={1,2,3,4,5,6,7,8,9,21,10}\n",
        "fruits={\"apple\",\"banana\",\"orange\",\"pineapple\",\"sapota\",\"pomogarate\"}\n",
        "course={\"java\",\"python\",\"data science\",\"data analyst\"}\n",
        "states={\"ap\",\"ts\",\"bihar\"}\n",
        "print(names)\n",
        "print(numbers)\n",
        "print(fruits)\n",
        "print(course)\n",
        "print(states)"
      ],
      "metadata": {
        "colab": {
          "base_uri": "https://localhost:8080/"
        },
        "id": "EFuOhe5oTEQY",
        "outputId": "a4aba209-f8fd-4c24-e52b-371dd534c5c3"
      },
      "execution_count": 32,
      "outputs": [
        {
          "output_type": "stream",
          "name": "stdout",
          "text": [
            "{'anil', 'prasad', 'jeswanth', 'nithin', 'shiva', 'rohit', 'pavan'}\n",
            "{1, 2, 3, 4, 5, 6, 7, 8, 9, 10, 21}\n",
            "('apple', 'banana', 'orange', 'pineapple', 'sapota', 'pomogarate')\n",
            "{'data science', 'python', 'data analyst', 'java'}\n",
            "{'ts', 'bihar', 'ap'}\n"
          ]
        }
      ]
    },
    {
      "cell_type": "markdown",
      "source": [
        "## **Duplicate**\n",
        "dupicates removes in set"
      ],
      "metadata": {
        "id": "JQIep5eDUyM0"
      }
    },
    {
      "cell_type": "code",
      "source": [
        "names={\"shiva\",\"pavan\",\"jeswanth\",\"anil\",\"nithin\",\"prasad\",\"rohit\",\"shiva\",\"pavan\",\"jeswanth\",\"anil\",\"nithin\",\"prasad\",\"rohit\"}\n",
        "numbers={1,2,3,4,5,6,7,8,9,21,101,2,3,4,5,6,7,8,9,21,10}\n",
        "fruits={\"apple\",\"banana\",\"orange\",\"pineapple\",\"sapota\",\"pomogarate\",\"apple\",\"banana\",\"orange\",\"pineapple\",\"sapota\",\"pomogarate\"}\n",
        "course={\"java\",\"python\",\"data science\",\"data analyst\",\"java\",\"python\",\"data science\",\"data analyst\"}\n",
        "states={\"ap\",\"ts\",\"bihar\",\"ap\",\"ts\",\"bihar\",\"ap\",\"ts\",\"bihar\",\"ap\",\"ts\",\"bihar\"}\n",
        "print(names)\n",
        "print(numbers)\n",
        "print(fruits)\n",
        "print(course)\n",
        "print(states)"
      ],
      "metadata": {
        "colab": {
          "base_uri": "https://localhost:8080/"
        },
        "id": "PrqvFb1YVBvk",
        "outputId": "091638c8-ed73-4fe9-85aa-b53f1ef1a014"
      },
      "execution_count": 36,
      "outputs": [
        {
          "output_type": "stream",
          "name": "stdout",
          "text": [
            "{'anil', 'prasad', 'jeswanth', 'nithin', 'shiva', 'rohit', 'pavan'}\n",
            "{1, 2, 3, 4, 5, 6, 7, 8, 9, 101, 10, 21}\n",
            "{'pineapple', 'apple', 'sapota', 'orange', 'banana', 'pomogarate'}\n",
            "{'data science', 'python', 'data analyst', 'java'}\n",
            "{'ts', 'bihar', 'ap'}\n"
          ]
        }
      ]
    },
    {
      "cell_type": "markdown",
      "source": [
        "# **add():**\n",
        "add items to a set in python in python we use the add() metod to add on ite to a set"
      ],
      "metadata": {
        "id": "YseTiN-5WAIc"
      }
    },
    {
      "cell_type": "code",
      "source": [
        "#add():\n",
        "names={\"shiva\",\"pavan\",\"jeswanth\",\"anil\"}\n",
        "numbers={1,2,3,4,5,6,7,8,9,21,10}\n",
        "fruits={\"apple\",\"banana\",\"orange\",\"pineapple\",\"sapota\",\"pomogarate\"}\n",
        "course={\"java\",\"python\",\"data science\",\"data analyst\"}\n",
        "states={\"ap\",\"ts\",\"bihar\"}\n",
        "\n",
        "names.add(\"nithin\")\n",
        "numbers.add(23)\n",
        "fruits.add(\"corn\")\n",
        "course.add(\"digital marketing\")\n",
        "states.add(\"utter pradesh\")\n",
        "\n",
        "print(\"updated set:\",names)\n",
        "print(\"updated set:\",numbers)\n",
        "print(\"updated set:\",fruits)\n",
        "print(\"updated set:\",course)\n",
        "print(\"updated set:\",states)"
      ],
      "metadata": {
        "colab": {
          "base_uri": "https://localhost:8080/"
        },
        "id": "i9E7kWLZWUR6",
        "outputId": "d588e97e-baab-4dc8-a322-abaa6cff51c0"
      },
      "execution_count": 45,
      "outputs": [
        {
          "output_type": "stream",
          "name": "stdout",
          "text": [
            "updated set: {'anil', 'pavan', 'jeswanth', 'shiva', 'nithin'}\n",
            "updated set: {1, 2, 3, 4, 5, 6, 7, 8, 9, 10, 21, 23}\n",
            "updated set: {'corn', 'pineapple', 'apple', 'sapota', 'orange', 'banana', 'pomogarate'}\n",
            "updated set: {'data science', 'data analyst', 'digital marketing', 'python', 'java'}\n",
            "updated set: {'ts', 'utter pradesh', 'bihar', 'ap'}\n"
          ]
        }
      ]
    },
    {
      "cell_type": "markdown",
      "source": [
        "## **add set in removing duplicates**"
      ],
      "metadata": {
        "id": "pAMri-yXZhum"
      }
    },
    {
      "cell_type": "code",
      "source": [
        "names={\"shiva\",\"pavan\",\"jeswanth\",\"anil\"}\n",
        "numbers={1,2,3,4,5,6,7,8,9,21,10}\n",
        "fruits={\"apple\",\"banana\",\"orange\"}\n",
        "course={\"java\",\"python\",\"data science\",\"data analyst\"}\n",
        "states={\"ap\",\"ts\",\"bihar\"}\n",
        "a={\"nithin\",\"prasad\",\"rohit\",\"pavan\",\"jeswanth\"}\n",
        "b={1,2,3,4,5,101,102,103,104,105}\n",
        "c={\"pineapple\",\"sapota\",\"pomogarate\",\"apple\",\"banana\"}\n",
        "d={\"java\",\"python\",\"data science\",\"data analyst\",\"digital marketing\"}\n",
        "e={\"ap\",\"ts\",\"bihar\",\"utter pradesh\"}\n",
        "q=names.update(a)\n",
        "w=numbers.update(b)\n",
        "r=fruits.update(c)\n",
        "t=course.update(d)\n",
        "y=states.update(d)\n",
        "print(names)\n",
        "print(numbers)\n",
        "print(fruits)\n",
        "print(course)\n",
        "print(states)\n"
      ],
      "metadata": {
        "colab": {
          "base_uri": "https://localhost:8080/"
        },
        "id": "cY3YPo1_aA9O",
        "outputId": "9091ec69-802e-4fea-eb7c-edbd498e24cb"
      },
      "execution_count": 46,
      "outputs": [
        {
          "output_type": "stream",
          "name": "stdout",
          "text": [
            "{'anil', 'prasad', 'nithin', 'jeswanth', 'shiva', 'rohit', 'pavan'}\n",
            "{1, 2, 3, 4, 5, 6, 7, 8, 9, 10, 21, 101, 102, 103, 104, 105}\n",
            "{'pineapple', 'pomogarate', 'sapota', 'apple', 'orange', 'banana'}\n",
            "{'data science', 'data analyst', 'digital marketing', 'python', 'java'}\n",
            "{'data science', 'ts', 'data analyst', 'ap', 'digital marketing', 'bihar', 'python', 'java'}\n"
          ]
        }
      ]
    },
    {
      "cell_type": "markdown",
      "source": [
        "# **remove an element from a set**\n",
        "we use the discard():(or)remove(): method to remove the specified element from a set"
      ],
      "metadata": {
        "id": "YuUGUNeDdH7c"
      }
    },
    {
      "cell_type": "code",
      "source": [
        "names={\"shiva\",\"pavan\",\"jeswanth\",\"anil\"}\n",
        "numbers={1,2,3,4,5,6,7,8,9,21,10}\n",
        "fruits={\"apple\",\"banana\",\"orange\"}\n",
        "course={\"java\",\"python\",\"data science\",\"data analyst\"}\n",
        "states={\"ap\",\"ts\",\"bihar\"}\n",
        "a=names.discard(\"shiva\")\n",
        "b=numbers.remove(10)\n",
        "c=fruits.remove(\"apple\")\n",
        "d=course.discard(\"python\")\n",
        "e=states.discard(\"bihar\")\n",
        "print(\"set after remove():\",names)\n",
        "print(\"set after remove():\",numbers)\n",
        "print(\"set after remove():\",fruits)\n",
        "print(\"set after remove():\",course)\n",
        "print(\"set after remove():\",states)\n",
        "\n"
      ],
      "metadata": {
        "colab": {
          "base_uri": "https://localhost:8080/"
        },
        "id": "HGV_RXyAdjTe",
        "outputId": "1c7062f5-4add-482e-b63e-33671b9dae36"
      },
      "execution_count": 49,
      "outputs": [
        {
          "output_type": "stream",
          "name": "stdout",
          "text": [
            "set after remove(): {'jeswanth', 'anil', 'pavan'}\n",
            "set after remove(): {1, 2, 3, 4, 5, 6, 7, 8, 9, 21}\n",
            "set after remove(): {'orange', 'banana'}\n",
            "set after remove(): {'data science', 'data analyst', 'java'}\n",
            "set after remove(): {'ts', 'ap'}\n"
          ]
        }
      ]
    },
    {
      "cell_type": "markdown",
      "source": [
        "## **even numbers**"
      ],
      "metadata": {
        "id": "bZRYIuzwe2DW"
      }
    },
    {
      "cell_type": "code",
      "source": [
        "numbers={2,4,6,8,10,12,14,16,18,20,20,20,24,16,18,28,30}\n",
        "num={2,4,6,8,10,12,14,16,18,20,20,20,24,16,18,28,30}\n",
        "number={2,4,6,8,10,12,14,16,18,20,20,20,24,16,18,28,30}\n",
        "numb={2,4,6,8,10,12,14,16,18,20,20,20,24,16,18,28,30}\n",
        "nu={2,4,6,8,10,12,14,16,18,20,20,20,24,16,18,28,30}\n",
        "print(\"total elements:\",len(numbers))\n",
        "print(\"total elements:\",len(num))\n",
        "print(\"total elements:\",len(number))\n",
        "print(\"total elements:\",len(numb))\n",
        "print(\"total elements:\",len(nu))\n",
        "#counting last remove the duplecate"
      ],
      "metadata": {
        "colab": {
          "base_uri": "https://localhost:8080/"
        },
        "id": "WunsZgywfHJx",
        "outputId": "833544b5-0916-43c5-9ab8-353cb696c443"
      },
      "execution_count": 50,
      "outputs": [
        {
          "output_type": "stream",
          "name": "stdout",
          "text": [
            "total elements: 13\n",
            "total elements: 13\n",
            "total elements: 13\n",
            "total elements: 13\n",
            "total elements: 13\n"
          ]
        }
      ]
    },
    {
      "cell_type": "markdown",
      "source": [
        "# **sets**\n",
        "## **fore types of oparetions**\n",
        "\n",
        "\n",
        "1.   set oparation\n",
        "2.   set intersection\n",
        "3.  difference between two sets\n",
        "4.set symmetric differnce\n",
        "\n"
      ],
      "metadata": {
        "id": "cyAOuo_6gTKd"
      }
    },
    {
      "cell_type": "markdown",
      "source": [
        "# **set oparation**"
      ],
      "metadata": {
        "id": "tjnYL0UdhFqH"
      }
    },
    {
      "cell_type": "code",
      "source": [
        "names={\"shiva\",\"pavan\",\"jeswanth\",\"anil\"}\n",
        "numbers={1,2,3,4,5,6,7,8,9,21,10}\n",
        "fruits={\"apple\",\"banana\",\"orange\"}\n",
        "course={\"java\",\"python\",\"data science\",\"data analyst\"}\n",
        "states={\"ap\",\"ts\",\"bihar\"}\n",
        "a={\"nithin\",\"prasad\",\"rohit\",\"pavan\",\"jeswanth\"}\n",
        "b={1,2,3,4,5,101,102,103,104,105}\n",
        "c={\"pineapple\",\"sapota\",\"pomogarate\",\"apple\",\"banana\"}\n",
        "d={\"java\",\"python\",\"data science\",\"data analyst\",\"digital marketing\"}\n",
        "e={\"ap\",\"ts\",\"bihar\",\"utter pradesh\"}\n",
        "print(\"union using |:\",names|a)\n",
        "print(\"union using union():\",names.union(a))\n",
        "print(\"union using |:\",numbers|b)\n",
        "print(\"union using union():\",numbers.union(b))\n",
        "print(\"union using |:\",fruits|c)\n",
        "print(\"union using union():\",fruits.union(c))\n",
        "print(\"union using |:\",course|d)\n",
        "print(\"union using union():\",course.union(d))\n",
        "print(\"union using |:\",states|e)\n",
        "print(\"union using union():\",states.union(e))"
      ],
      "metadata": {
        "colab": {
          "base_uri": "https://localhost:8080/"
        },
        "id": "OQ-PJ2pbhK2E",
        "outputId": "e1dbe473-e463-448d-a6a6-c28d5b4b4d5d"
      },
      "execution_count": 51,
      "outputs": [
        {
          "output_type": "stream",
          "name": "stdout",
          "text": [
            "union using |: {'anil', 'prasad', 'nithin', 'jeswanth', 'shiva', 'rohit', 'pavan'}\n",
            "union using union(): {'anil', 'prasad', 'nithin', 'jeswanth', 'shiva', 'rohit', 'pavan'}\n",
            "union using |: {1, 2, 3, 4, 5, 6, 7, 8, 9, 10, 21, 101, 102, 103, 104, 105}\n",
            "union using union(): {1, 2, 3, 4, 5, 6, 7, 8, 9, 10, 21, 101, 102, 103, 104, 105}\n",
            "union using |: {'pineapple', 'pomogarate', 'sapota', 'apple', 'orange', 'banana'}\n",
            "union using union(): {'pineapple', 'pomogarate', 'sapota', 'apple', 'orange', 'banana'}\n",
            "union using |: {'data science', 'data analyst', 'digital marketing', 'python', 'java'}\n",
            "union using union(): {'data science', 'data analyst', 'digital marketing', 'python', 'java'}\n",
            "union using |: {'ts', 'ap', 'bihar', 'utter pradesh'}\n",
            "union using union(): {'ts', 'ap', 'bihar', 'utter pradesh'}\n"
          ]
        }
      ]
    },
    {
      "cell_type": "markdown",
      "source": [
        "# **set intersection**"
      ],
      "metadata": {
        "id": "2njXjVAFjTzo"
      }
    },
    {
      "cell_type": "code",
      "source": [
        "#same elements will taken  in set intersection\n",
        "names={\"shiva\",\"pavan\",\"jeswanth\",\"anil\"}\n",
        "numbers={1,2,3,4,5,6,7,8,9,21,10}\n",
        "fruits={\"apple\",\"banana\",\"orange\"}\n",
        "course={\"java\",\"python\",\"data science\",\"data analyst\"}\n",
        "states={\"ap\",\"ts\",\"bihar\"}\n",
        "a={\"nithin\",\"prasad\",\"rohit\",\"pavan\",\"jeswanth\"}\n",
        "b={1,2,3,4,5,101,102,103,104,105}\n",
        "c={\"pineapple\",\"sapota\",\"pomogarate\",\"apple\",\"banana\"}\n",
        "d={\"java\",\"python\",\"data science\",\"data analyst\",\"digital marketing\"}\n",
        "e={\"ap\",\"ts\",\"bihar\",\"utter pradesh\"}\n",
        "print(\"intersection using:\",names&a)\n",
        "print(\"intersection using intersecion():\",names.intersection(a))\n",
        "print(\"intersection using:\",numbers&b)\n",
        "print(\"intersection using intersecion():\",numbers.intersection(b))\n",
        "print(\"intersection using:\",fruits&c)\n",
        "print(\"intersection using intersecion():\",fruits.intersection(c))\n",
        "print(\"intersection using:\",course&d)\n",
        "print(\"intersection using intersecion():\",course.intersection(d))\n",
        "print(\"intersection using:\",states&e)\n",
        "print(\"intersection using intersecion():\",states.intersection(e))"
      ],
      "metadata": {
        "colab": {
          "base_uri": "https://localhost:8080/"
        },
        "id": "tNl06w5Gjc7f",
        "outputId": "7bc60fe2-5728-4d0f-f186-b1f7e4bb14b2"
      },
      "execution_count": 53,
      "outputs": [
        {
          "output_type": "stream",
          "name": "stdout",
          "text": [
            "intersection using: {'jeswanth', 'pavan'}\n",
            "intersection using intersecion(): {'jeswanth', 'pavan'}\n",
            "intersection using: {1, 2, 3, 4, 5}\n",
            "intersection using intersecion(): {1, 2, 3, 4, 5}\n",
            "intersection using: {'banana', 'apple'}\n",
            "intersection using intersecion(): {'banana', 'apple'}\n",
            "intersection using: {'data science', 'python', 'data analyst', 'java'}\n",
            "intersection using intersecion(): {'data science', 'python', 'data analyst', 'java'}\n",
            "intersection using: {'ts', 'bihar', 'ap'}\n",
            "intersection using intersecion(): {'ts', 'bihar', 'ap'}\n"
          ]
        }
      ]
    },
    {
      "cell_type": "markdown",
      "source": [
        "# **difference between two sets**\n",
        "\n",
        "\n",
        "1.   the differnce between two sets a and b include elaments of a set a that are not present  on  set b\n",
        "2.   remove elements that are in the first set in the second\n",
        "\n"
      ],
      "metadata": {
        "id": "5-gmCjoElNNf"
      }
    },
    {
      "cell_type": "code",
      "source": [
        "names={\"shiva\",\"pavan\",\"jeswanth\",\"anil\"}\n",
        "numbers={1,2,3,4,5,6,7,8,9,21,10}\n",
        "fruits={\"apple\",\"banana\",\"orange\"}\n",
        "course={\"java\",\"python\",\"data science\",\"data analyst\"}\n",
        "states={\"ap\",\"ts\",\"bihar\"}\n",
        "a={\"nithin\",\"prasad\",\"rohit\",\"pavan\",\"jeswanth\"}\n",
        "b={1,2,3,4,5,101,102,103,104,105}\n",
        "c={\"pineapple\",\"sapota\",\"pomogarate\",\"apple\",\"banana\"}\n",
        "d={\"java\",\"python\",\"data science\",\"data analyst\",\"digital marketing\"}\n",
        "e={\"ap\",\"ts\",\"bihar\",\"utter pradesh\"}\n",
        "print(\"difference using-:\",names-a)\n",
        "print(\"difference using difference():\",names.difference(a))\n",
        "\n",
        "print(\"difference using-:\",numbers-b)\n",
        "print(\"difference using difference():\",numbers.difference(b))\n",
        "\n",
        "print(\"difference using-:\",fruits-c)\n",
        "print(\"difference using difference():\",fruits.difference(c))\n",
        "\n",
        "print(\"differnce using-:\",course-d)\n",
        "print(\"differnce using differnce():\",course.difference(d))\n",
        "\n",
        "print(\"difference using-:\",states-e)\n",
        "print(\"difference using difference():\",states.difference(e))\n"
      ],
      "metadata": {
        "colab": {
          "base_uri": "https://localhost:8080/"
        },
        "id": "o44oTK63ltdT",
        "outputId": "56a8f4f9-765f-4e34-8f27-3282c476eec5"
      },
      "execution_count": 56,
      "outputs": [
        {
          "output_type": "stream",
          "name": "stdout",
          "text": [
            "differnce using-: {'shiva', 'anil'}\n",
            "differnce using differnce(): {'shiva', 'anil'}\n",
            "differnce using-: {6, 7, 8, 9, 10, 21}\n",
            "differnce using differnce(): {6, 7, 8, 9, 10, 21}\n",
            "differnce using-: {'orange'}\n",
            "differnce using differnce(): {'orange'}\n",
            "differnce using-: set()\n",
            "differnce using differnce(): set()\n",
            "differnce using-: set()\n",
            "differnce using differnce(): set()\n"
          ]
        }
      ]
    },
    {
      "cell_type": "markdown",
      "source": [
        "# **set symmetric difference**\n",
        "\n",
        "\n",
        "1.  the symetric between two sets a and b includes all elements of a and b without the commen elements\n",
        "2.   return elements that one in either of the sets ,but not include\n",
        "\n"
      ],
      "metadata": {
        "id": "2eLSmvz1obH7"
      }
    },
    {
      "cell_type": "code",
      "source": [
        "names={\"shiva\",\"pavan\",\"jeswanth\",\"anil\"}\n",
        "numbers={1,2,3,4,5,6,7,8,9,21,10}\n",
        "fruits={\"apple\",\"banana\",\"orange\"}\n",
        "course={\"java\",\"python\",\"data science\",\"data analyst\"}\n",
        "states={\"ap\",\"ts\",\"bihar\"}\n",
        "a={\"nithin\",\"prasad\",\"rohit\",\"pavan\",\"jeswanth\"}\n",
        "b={1,2,3,4,5,101,102,103,104,105}\n",
        "c={\"pineapple\",\"sapota\",\"pomogarate\",\"apple\",\"banana\"}\n",
        "d={\"java\",\"python\",\"data science\",\"data analyst\",\"digital marketing\"}\n",
        "e={\"ap\",\"ts\",\"bihar\",\"utter pradesh\"}\n",
        "print(\" using ^:\",names^a)\n",
        "print(\" using symmetric-difference():\",names.symmetric_difference(a))\n",
        "\n",
        "print(\" using ^:\",numbers^b)\n",
        "print(\" using symmetric-difference():\",numbers.symmetric_difference(b))\n",
        "\n",
        "print(\" using ^:\",fruits^c)\n",
        "print(\" using symmetric-difference():\",fruits.symmetric_difference(c))\n",
        "\n",
        "print(\" using ^:\",course^d)\n",
        "print(\" using symmetric-difference():\",course.symmetric_difference(d))\n",
        "\n",
        "print(\" using ^:\",states^e)\n",
        "print(\" using symmetric-difference():\",states.symmetric_difference(e))\n"
      ],
      "metadata": {
        "colab": {
          "base_uri": "https://localhost:8080/"
        },
        "id": "cYeaCF4FpC4J",
        "outputId": "405efd9b-75f0-44e1-ac9c-567a6cb14f77"
      },
      "execution_count": 57,
      "outputs": [
        {
          "output_type": "stream",
          "name": "stdout",
          "text": [
            " using ^: {'anil', 'prasad', 'shiva', 'rohit', 'nithin'}\n",
            " using symmetric-difference(): {'anil', 'prasad', 'shiva', 'rohit', 'nithin'}\n",
            " using ^: {101, 102, 103, 104, 105, 6, 7, 8, 9, 10, 21}\n",
            " using symmetric-difference(): {101, 102, 103, 104, 105, 6, 7, 8, 9, 10, 21}\n",
            " using ^: {'pineapple', 'sapota', 'orange', 'pomogarate'}\n",
            " using symmetric-difference(): {'pineapple', 'sapota', 'orange', 'pomogarate'}\n",
            " using ^: {'digital marketing'}\n",
            " using symmetric-difference(): {'digital marketing'}\n",
            " using ^: {'utter pradesh'}\n",
            " using symmetric-difference(): {'utter pradesh'}\n"
          ]
        }
      ]
    }
  ]
}
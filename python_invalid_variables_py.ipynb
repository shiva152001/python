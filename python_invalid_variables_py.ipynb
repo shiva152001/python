{
  "nbformat": 4,
  "nbformat_minor": 0,
  "metadata": {
    "colab": {
      "provenance": []
    },
    "kernelspec": {
      "name": "python3",
      "display_name": "Python 3"
    },
    "language_info": {
      "name": "python"
    }
  },
  "cells": [
    {
      "cell_type": "code",
      "execution_count": null,
      "metadata": {
        "colab": {
          "base_uri": "https://localhost:8080/",
          "height": 110
        },
        "id": "_zdafBOhjtgy",
        "outputId": "be87c97f-d192-4158-e48f-127417ff808a"
      },
      "outputs": [
        {
          "output_type": "error",
          "ename": "SyntaxError",
          "evalue": "invalid syntax. Maybe you meant '==' or ':=' instead of '='? (<ipython-input-1-fcb236d3d154>, line 2)",
          "traceback": [
            "\u001b[0;36m  File \u001b[0;32m\"<ipython-input-1-fcb236d3d154>\"\u001b[0;36m, line \u001b[0;32m2\u001b[0m\n\u001b[0;31m    @delhi =\"it is a capital city\"\u001b[0m\n\u001b[0m     ^\u001b[0m\n\u001b[0;31mSyntaxError\u001b[0m\u001b[0;31m:\u001b[0m invalid syntax. Maybe you meant '==' or ':=' instead of '='?\n"
          ]
        }
      ],
      "source": [
        "#invalid variables , variable can't be created with spical charecters.\n",
        "@delhi =\"it is a capital city\"\n",
        "print(@delhi)\n",
        "#in this code spical charecter is \"@\" don't use this type of invalid variable."
      ]
    },
    {
      "cell_type": "code",
      "source": [
        "#variable can't be create kywords.\n",
        "class = \"2nd  match is begin after the break.\"\n",
        "for = \"it is soo for in my house.\"\n",
        "print(class,for)\n",
        " #in this code they are class, for  these are keywords."
      ],
      "metadata": {
        "colab": {
          "base_uri": "https://localhost:8080/",
          "height": 110
        },
        "id": "03iF5909lU2S",
        "outputId": "1dc7d216-9998-4501-bf95-f8bd97f5f13f"
      },
      "execution_count": null,
      "outputs": [
        {
          "output_type": "error",
          "ename": "SyntaxError",
          "evalue": "invalid syntax (<ipython-input-4-d13f975e1a07>, line 2)",
          "traceback": [
            "\u001b[0;36m  File \u001b[0;32m\"<ipython-input-4-d13f975e1a07>\"\u001b[0;36m, line \u001b[0;32m2\u001b[0m\n\u001b[0;31m    class = \"2nd  match is begin after the break.\"\u001b[0m\n\u001b[0m          ^\u001b[0m\n\u001b[0;31mSyntaxError\u001b[0m\u001b[0;31m:\u001b[0m invalid syntax\n"
          ]
        }
      ]
    },
    {
      "cell_type": "code",
      "source": [
        "#variables can't start with numbers.\n",
        "123=\"have a funny day 108\"\n",
        "879= 098432\n",
        "print(123,879)\n",
        "#in variables don't use this numbers"
      ],
      "metadata": {
        "colab": {
          "base_uri": "https://localhost:8080/",
          "height": 110
        },
        "id": "69Wki2PCmVvQ",
        "outputId": "d4b68573-638c-41a5-eb5b-929f56099441"
      },
      "execution_count": null,
      "outputs": [
        {
          "output_type": "error",
          "ename": "SyntaxError",
          "evalue": "leading zeros in decimal integer literals are not permitted; use an 0o prefix for octal integers (<ipython-input-5-3c97a96a9cfd>, line 3)",
          "traceback": [
            "\u001b[0;36m  File \u001b[0;32m\"<ipython-input-5-3c97a96a9cfd>\"\u001b[0;36m, line \u001b[0;32m3\u001b[0m\n\u001b[0;31m    879= 098432\u001b[0m\n\u001b[0m         ^\u001b[0m\n\u001b[0;31mSyntaxError\u001b[0m\u001b[0;31m:\u001b[0m leading zeros in decimal integer literals are not permitted; use an 0o prefix for octal integers\n"
          ]
        }
      ]
    },
    {
      "cell_type": "code",
      "source": [
        "#have some more examples of this invaid variables.\n",
        "234_institute  =\"teks is best plaft form of data science and data analyst. \"\n",
        "89 = \"num r not valid in the variables.\"\n",
        "print(234_institute,89)\n",
        "#numbers are digits are invalid in the variables.\n"
      ],
      "metadata": {
        "colab": {
          "base_uri": "https://localhost:8080/",
          "height": 110
        },
        "id": "6Zvc_ZguoUYq",
        "outputId": "68e89789-74a5-4055-88fd-9f2d2f16154f"
      },
      "execution_count": null,
      "outputs": [
        {
          "output_type": "error",
          "ename": "SyntaxError",
          "evalue": "invalid decimal literal (<ipython-input-6-9631bb2ebcd7>, line 2)",
          "traceback": [
            "\u001b[0;36m  File \u001b[0;32m\"<ipython-input-6-9631bb2ebcd7>\"\u001b[0;36m, line \u001b[0;32m2\u001b[0m\n\u001b[0;31m    234_institute  =\"teks is best plaft form of data science and data analyst. \"\u001b[0m\n\u001b[0m       ^\u001b[0m\n\u001b[0;31mSyntaxError\u001b[0m\u001b[0;31m:\u001b[0m invalid decimal literal\n"
          ]
        }
      ]
    },
    {
      "cell_type": "code",
      "source": [
        "#can't create with keywords in the variables.\n",
        "False = \"it is also one of the keyword \"\n",
        "True  = \"it is also one of the keyword\"\n",
        "continue = \"it is also one of the keyword.\"\n",
        "#in this code have keywords can't take a variables.\n",
        "print(False,True,continue)"
      ],
      "metadata": {
        "colab": {
          "base_uri": "https://localhost:8080/",
          "height": 110
        },
        "id": "ZRbtv5vtrHwH",
        "outputId": "823eff72-964e-4ed0-998b-e2f29bb40158"
      },
      "execution_count": null,
      "outputs": [
        {
          "output_type": "error",
          "ename": "SyntaxError",
          "evalue": "cannot assign to False (<ipython-input-7-7bc2807e3648>, line 2)",
          "traceback": [
            "\u001b[0;36m  File \u001b[0;32m\"<ipython-input-7-7bc2807e3648>\"\u001b[0;36m, line \u001b[0;32m2\u001b[0m\n\u001b[0;31m    False =\"it is also one of the keyword \"\u001b[0m\n\u001b[0m    ^\u001b[0m\n\u001b[0;31mSyntaxError\u001b[0m\u001b[0;31m:\u001b[0m cannot assign to False\n"
          ]
        }
      ]
    },
    {
      "cell_type": "code",
      "source": [
        "#invalid variables, it means can't create with digits or numbers.\n",
        "1_wicket = \"RCB gone  three wikets on 8:40pm\"\n",
        "11_CSK = \"near to win this match.\"\n",
        "print(1_wicket,11_CSK)\n",
        "#not aplicable in invalid variables in variables \"numbers\"\n"
      ],
      "metadata": {
        "colab": {
          "base_uri": "https://localhost:8080/",
          "height": 110
        },
        "id": "KvUfduuUspE6",
        "outputId": "7059db24-ccf6-456a-a915-2057d0f2b0be"
      },
      "execution_count": null,
      "outputs": [
        {
          "output_type": "error",
          "ename": "SyntaxError",
          "evalue": "invalid decimal literal (<ipython-input-8-4259297b4c4e>, line 2)",
          "traceback": [
            "\u001b[0;36m  File \u001b[0;32m\"<ipython-input-8-4259297b4c4e>\"\u001b[0;36m, line \u001b[0;32m2\u001b[0m\n\u001b[0;31m    1_wicket = \"RCB gone  three wikets on 8:40pm\"\u001b[0m\n\u001b[0m     ^\u001b[0m\n\u001b[0;31mSyntaxError\u001b[0m\u001b[0;31m:\u001b[0m invalid decimal literal\n"
          ]
        }
      ]
    },
    {
      "cell_type": "code",
      "source": [
        "#spical charecters not aplicable in variables (invalid variables)\n",
        "@devin = \"it  is updated new varsion for software enginers \"\n",
        "$devin =\"devin is like devil for all softer enginers\"\n",
        "print(@devin,$devin)\n"
      ],
      "metadata": {
        "colab": {
          "base_uri": "https://localhost:8080/",
          "height": 110
        },
        "id": "9p4oIJcuxDHU",
        "outputId": "218a4299-90e7-427e-9535-94b24b033f7f"
      },
      "execution_count": null,
      "outputs": [
        {
          "output_type": "error",
          "ename": "SyntaxError",
          "evalue": "invalid syntax. Maybe you meant '==' or ':=' instead of '='? (<ipython-input-9-847a2b57d537>, line 2)",
          "traceback": [
            "\u001b[0;36m  File \u001b[0;32m\"<ipython-input-9-847a2b57d537>\"\u001b[0;36m, line \u001b[0;32m2\u001b[0m\n\u001b[0;31m    @devin = \"it  is updated new varsion for software enginers \"\u001b[0m\n\u001b[0m     ^\u001b[0m\n\u001b[0;31mSyntaxError\u001b[0m\u001b[0;31m:\u001b[0m invalid syntax. Maybe you meant '==' or ':=' instead of '='?\n"
          ]
        }
      ]
    },
    {
      "cell_type": "code",
      "source": [
        "#invalid variables examples\n",
        "@shiva=\"it is an spical charecter\"#spical is invalid variable\n",
        "1pavan=\"it is an digit\"#digis also invalid in the variables.\n",
        "form=\"it is the keywords of python\"#python keywords have not valid in the variables.\n",
        "print(@shiva,1pavan,form)"
      ],
      "metadata": {
        "colab": {
          "base_uri": "https://localhost:8080/",
          "height": 110
        },
        "id": "8AsMmX6pynEJ",
        "outputId": "fb711e4e-e261-4147-906d-aaca0f1176b1"
      },
      "execution_count": null,
      "outputs": [
        {
          "output_type": "error",
          "ename": "SyntaxError",
          "evalue": "invalid decimal literal (<ipython-input-10-d2418e7dd2ed>, line 3)",
          "traceback": [
            "\u001b[0;36m  File \u001b[0;32m\"<ipython-input-10-d2418e7dd2ed>\"\u001b[0;36m, line \u001b[0;32m3\u001b[0m\n\u001b[0;31m    1pavan=\"it is an digit\"#digis also invalid in the variables.\u001b[0m\n\u001b[0m    ^\u001b[0m\n\u001b[0;31mSyntaxError\u001b[0m\u001b[0;31m:\u001b[0m invalid decimal literal\n"
          ]
        }
      ]
    },
    {
      "cell_type": "code",
      "source": [
        "#five examples of the in valid variables \"spical charecters\"\n",
        "@=\"one spical charecter\"\n",
        "$=\"2nd spical charecter\"\n",
        "&=\"3rd spical charecter\"\n",
        "*=\"4th spical charecter\"\n",
        "!=\"5th spical charecter\"\n",
        "print(@,$,&,*,!)"
      ],
      "metadata": {
        "colab": {
          "base_uri": "https://localhost:8080/",
          "height": 110
        },
        "id": "0Dctsi7J0XYd",
        "outputId": "40dcaf44-c37c-4f77-c498-1143db17f4cc"
      },
      "execution_count": null,
      "outputs": [
        {
          "output_type": "error",
          "ename": "SyntaxError",
          "evalue": "invalid syntax (<ipython-input-11-d1f28ffb6aab>, line 2)",
          "traceback": [
            "\u001b[0;36m  File \u001b[0;32m\"<ipython-input-11-d1f28ffb6aab>\"\u001b[0;36m, line \u001b[0;32m2\u001b[0m\n\u001b[0;31m    @=\"one spical charecter\"\u001b[0m\n\u001b[0m    ^\u001b[0m\n\u001b[0;31mSyntaxError\u001b[0m\u001b[0;31m:\u001b[0m invalid syntax\n"
          ]
        }
      ]
    },
    {
      "cell_type": "code",
      "source": [
        "#five examples of the invakid variables \"keywords\"\n",
        "await = \"await some time\"\n",
        "finally = \"finally she accpeted me.\"\n",
        "class =\"some i can't lift the phone whyi because i am in class.\"\n",
        "if =\"if there is possible are not\"\n",
        "and = \"what about you and your friend\"\n",
        "print(await,finally ,class,if,and )"
      ],
      "metadata": {
        "colab": {
          "base_uri": "https://localhost:8080/",
          "height": 110
        },
        "id": "CnUGyF8I1bpm",
        "outputId": "354cf841-1677-48ad-d7a9-8b7238c4a6c9"
      },
      "execution_count": null,
      "outputs": [
        {
          "output_type": "error",
          "ename": "SyntaxError",
          "evalue": "invalid syntax (<ipython-input-13-ff7e3460b7a1>, line 2)",
          "traceback": [
            "\u001b[0;36m  File \u001b[0;32m\"<ipython-input-13-ff7e3460b7a1>\"\u001b[0;36m, line \u001b[0;32m2\u001b[0m\n\u001b[0;31m    await = \"await some time\"\u001b[0m\n\u001b[0m          ^\u001b[0m\n\u001b[0;31mSyntaxError\u001b[0m\u001b[0;31m:\u001b[0m invalid syntax\n"
          ]
        }
      ]
    },
    {
      "cell_type": "code",
      "source": [
        "#ill give five examples of the numbers (or) digits\n",
        "123 =\"it is an  digit it is not vaild \"\n",
        "6_py =\"it is an  digit it is not vaild\"\n",
        "90 =\"it is an  digit it is not vaild\"\n",
        "678=\"it is an  digit it is not vaild\"\n",
        "034=\"it is an  digit it is not vaild\"\n",
        "#digits are not valid in variables\n",
        "print(123,6_py,90,678,034)"
      ],
      "metadata": {
        "colab": {
          "base_uri": "https://localhost:8080/",
          "height": 110
        },
        "id": "46hWYwF92nSm",
        "outputId": "e1f586fc-e736-4fcd-8250-2a4e268c8487"
      },
      "execution_count": null,
      "outputs": [
        {
          "output_type": "error",
          "ename": "SyntaxError",
          "evalue": "invalid decimal literal (<ipython-input-14-e348f42747c7>, line 3)",
          "traceback": [
            "\u001b[0;36m  File \u001b[0;32m\"<ipython-input-14-e348f42747c7>\"\u001b[0;36m, line \u001b[0;32m3\u001b[0m\n\u001b[0;31m    6_py =\"it is an  digit it is not vaild\"\u001b[0m\n\u001b[0m     ^\u001b[0m\n\u001b[0;31mSyntaxError\u001b[0m\u001b[0;31m:\u001b[0m invalid decimal literal\n"
          ]
        }
      ]
    }
  ]
}
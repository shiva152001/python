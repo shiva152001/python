{
  "nbformat": 4,
  "nbformat_minor": 0,
  "metadata": {
    "colab": {
      "provenance": []
    },
    "kernelspec": {
      "name": "python3",
      "display_name": "Python 3"
    },
    "language_info": {
      "name": "python"
    }
  },
  "cells": [
    {
      "cell_type": "markdown",
      "source": [
        "# **python strings**\n",
        "# three types of formates\n",
        "\n",
        "\n",
        "\n",
        "\n",
        "1.   % operater\n",
        "2.   {} format\n",
        "3.   string interpolation f-string\n"
      ],
      "metadata": {
        "id": "zQY1-3szYoGz"
      }
    },
    {
      "cell_type": "markdown",
      "source": [
        "# **satistically**"
      ],
      "metadata": {
        "id": "h6fNCFQZZcBW"
      }
    },
    {
      "cell_type": "code",
      "source": [
        "# % oparater placeholds\n",
        "name=\"siva prasad\"\n",
        "age=24\n",
        "education=\"B.com computers\"\n",
        "address=\"hindhupur(M),anathapur(D),Andhra pradash\"\n",
        "file1=\"my name is %s and i am %d years old i completed my degree course %s and iam from %s\" %(name,age,education,address)\n",
        "app=\"amazon\"\n",
        "order=\"shoes\"\n",
        "placed=\"5/4/24\"\n",
        "address=\"hindhupur(M),anathapur(D),Andhra pradash,\"\n",
        "pincode=\"515201\"\n",
        "file2=\"app name is %s and i order this %s and it will placed in %s and i used this adders %s and this pincode %s\" %(app,order,placed,address,pincode)\n",
        "company=\"infosis\"\n",
        "role=\"data analyst\"\n",
        "timings=\"9:00,5:00.\"\n",
        "file3=\"company name %s and in this  company my role %s and last company timings %s \" %(company,role,timings)\n",
        "print(file3)\n",
        "print(file2)\n",
        "print(file1)"
      ],
      "metadata": {
        "colab": {
          "base_uri": "https://localhost:8080/"
        },
        "id": "K1_1fy42Zono",
        "outputId": "281d7ac5-ce76-4033-e674-dbf635b61354"
      },
      "execution_count": null,
      "outputs": [
        {
          "output_type": "stream",
          "name": "stdout",
          "text": [
            "company name infosis and in this  company my role data analyst and last company timings 9:00,5:00. \n",
            "app name is amazon and i order this shoes and it will placed in 5/4/24 and i used this adders hindhupur(M),anathapur(D),Andhra pradash, and this pincode 515201\n",
            "my name is siva prasad and i am 24 years old i completed my degree course B.com computers and iam from hindhupur(M),anathapur(D),Andhra pradash\n"
          ]
        }
      ]
    },
    {
      "cell_type": "code",
      "source": [
        "#{}format,(uses the format {} method with placeholders)\n",
        "name=\"siva prasad\"\n",
        "age=24\n",
        "education=\"B.com computers\"\n",
        "address=\"hindhupur(M),anathapur(D),Andhra pradash\"\n",
        "file1=\"my name is {} and i am {} years old i completed my degree course {} and iam from {}\".format(name,age,education,address)\n",
        "app=\"amazon\"\n",
        "order=\"shoes\"\n",
        "placed=\"5/4/24\"\n",
        "address=\"hindhupur(M),anathapur(D),Andhra pradash,\"\n",
        "pincode=\"515201\"\n",
        "file2=\"app name is {} and i order this {} and it will placed in {} and i used this adders {} and this pincode {}\".format(app,order,placed,address,pincode)\n",
        "company=\"infosis\"\n",
        "role=\"data analyst\"\n",
        "timings=\"9:00,5:00.\"\n",
        "file3=\"company name {} and in this  company my role {} and last company timings {} \".format(company,role,timings)\n",
        "print(file3)\n",
        "print(file2)\n",
        "print(file1)"
      ],
      "metadata": {
        "colab": {
          "base_uri": "https://localhost:8080/"
        },
        "id": "eThIg1BdZtPc",
        "outputId": "d32b40f6-9412-481f-cc36-e32b5176364a"
      },
      "execution_count": null,
      "outputs": [
        {
          "output_type": "stream",
          "name": "stdout",
          "text": [
            "company name infosis and in this  company my role data analyst and last company timings 9:00,5:00. \n",
            "app name is amazon and i order this shoes and it will placed in 5/4/24 and i used this adders hindhupur(M),anathapur(D),Andhra pradash, and this pincode 515201\n",
            "my name is siva prasad and i am 24 years old i completed my degree course B.com computers and iam from hindhupur(M),anathapur(D),Andhra pradash\n"
          ]
        }
      ]
    },
    {
      "cell_type": "code",
      "source": [
        "#string interpolation(f_strings)\n",
        "name=\"siva prasad\"\n",
        "age=24\n",
        "education=\"B.com computers\"\n",
        "address=\"hindhupur(M),anathapur(D),Andhra pradash\"\n",
        "file1=f\"my name is {name} and i am {age} years old i completed my degree course {education} and iam from {address}\"\n",
        "app=\"amazon\"\n",
        "order=\"shoes\"\n",
        "placed=\"5/4/24\"\n",
        "address=\"hindhupur(M),anathapur(D),Andhra pradash,\"\n",
        "pincode=\"515201\"\n",
        "file2=f\"app name is {app} and i order this {order} and it will placed in {placed} and i used this adders {address} and this pincode {pincode}\"\n",
        "company=\"infosis\"\n",
        "role=\"data analyst\"\n",
        "timings=\"9:00,5:00.\"\n",
        "file3=f\"company name {company} and in this  company my role {role} and last company timings {timings} \"\n",
        "print(file3)\n",
        "print(file2)\n",
        "print(file1)"
      ],
      "metadata": {
        "colab": {
          "base_uri": "https://localhost:8080/"
        },
        "id": "Bv8KGeC2a51n",
        "outputId": "d7bb5518-2151-4260-a940-66e6ccb924f7"
      },
      "execution_count": null,
      "outputs": [
        {
          "output_type": "stream",
          "name": "stdout",
          "text": [
            "company name infosis and in this  company my role data analyst and last company timings 9:00,5:00. \n",
            "app name is amazon and i order this shoes and it will placed in 5/4/24 and i used this adders hindhupur(M),anathapur(D),Andhra pradash, and this pincode 515201\n",
            "my name is siva prasad and i am 24 years old i completed my degree course B.com computers and iam from hindhupur(M),anathapur(D),Andhra pradash\n"
          ]
        }
      ]
    },
    {
      "cell_type": "markdown",
      "source": [
        "# **Dynamically**"
      ],
      "metadata": {
        "id": "QxUj96nCbJWg"
      }
    },
    {
      "cell_type": "code",
      "source": [
        "name=input(\"enter your name= \")\n",
        "age=int(input(\"enter your age=\" ))\n",
        "gender=input(\"enter your gender=\")\n",
        "education=input(\"qualification=\")\n",
        "address= input(\"enter your address=\")\n"
      ],
      "metadata": {
        "colab": {
          "base_uri": "https://localhost:8080/"
        },
        "id": "9ONpDOKacDIs",
        "outputId": "88746778-310e-4909-fec5-91ebeb084f94"
      },
      "execution_count": null,
      "outputs": [
        {
          "name": "stdout",
          "output_type": "stream",
          "text": [
            "enter your name= shiva\n",
            "enter your age=24\n",
            "enter your gender=male\n",
            "qualification=degree\n",
            "enter your address=hindhupur(M),anathapur(D),Andhra pradash\n"
          ]
        }
      ]
    },
    {
      "cell_type": "code",
      "source": [
        "name=input(\"enter your name= \")\n",
        "age=int(input(\"enter your age=\" ))\n",
        "gender=input(\"enter your gender=\")\n",
        "education=input(\"qualification=\")\n",
        "address= input(\"enter your address=\")\n",
        "\n",
        "print(name)\n",
        "print(age)\n",
        "print(gender)\n",
        "print(education)\n",
        "print(address)"
      ],
      "metadata": {
        "colab": {
          "base_uri": "https://localhost:8080/"
        },
        "id": "ZN20OmbocUIv",
        "outputId": "d635b820-b2d4-48c5-f49c-82fce3b9e7d1"
      },
      "execution_count": null,
      "outputs": [
        {
          "output_type": "stream",
          "name": "stdout",
          "text": [
            "enter your name= akhila\n",
            "enter your age=19\n",
            "enter your gender=female\n",
            "qualification=lab-tecnician\n",
            "enter your address=hindhupur(M),anathapur(D),Andhra pradash\n",
            "akhila\n",
            "19\n",
            "female\n",
            "lab-tecnician\n",
            "hindhupur(M),anathapur(D),Andhra pradash\n"
          ]
        }
      ]
    },
    {
      "cell_type": "code",
      "source": [
        "app=input(\"app name =\")\n",
        "order=input(\"enter your order name =\")\n",
        "placed=input(\"order will send this date =\")\n",
        "address=input(\"mention your address =\")\n",
        "pincode= input(\"mention your correct pincode =\")\n"
      ],
      "metadata": {
        "colab": {
          "base_uri": "https://localhost:8080/"
        },
        "id": "gmqEIsyidwSE",
        "outputId": "0618e6a9-9b9e-4dba-b569-2252cce03d81"
      },
      "execution_count": null,
      "outputs": [
        {
          "name": "stdout",
          "output_type": "stream",
          "text": [
            "app name =amazon\n",
            "enter your order name =shoes\n",
            "order will send this date =5/4/24\n",
            "mention your address =hindhupur(M),anathapur(D),Andhra pradash\n",
            "mention your correct pincode =515201\n"
          ]
        }
      ]
    },
    {
      "cell_type": "code",
      "source": [
        "app=input(\"app name =\")\n",
        "order=input(\"enter your order name =\")\n",
        "placed=input(\"order will send this date =\")\n",
        "address=input(\"mention your address =\")\n",
        "pincode= input(\"mention your correct pincode =\")\n",
        "print(app)\n",
        "print(order)\n",
        "print(placed)\n",
        "print(address)\n",
        "print(pincode)"
      ],
      "metadata": {
        "colab": {
          "base_uri": "https://localhost:8080/"
        },
        "id": "kEExqQGOe_Rn",
        "outputId": "bf56caf7-3475-4791-fb2e-3e3f1ed22fff"
      },
      "execution_count": null,
      "outputs": [
        {
          "output_type": "stream",
          "name": "stdout",
          "text": [
            "app name =flipkart\n",
            "enter your order name =rolex watch\n",
            "order will send this date =5/4/24\n",
            "mention your address =hindhupur(M),anathapur(D),Andhra pradash\n",
            "mention your correct pincode =515201\n",
            "flipkart\n",
            "rolex watch\n",
            "5/4/24\n",
            "hindhupur(M),anathapur(D),Andhra pradash\n",
            "515201\n"
          ]
        }
      ]
    },
    {
      "cell_type": "code",
      "source": [
        "company=input(\"what is the company name =\")\n",
        "role=input(\"what is your role in that company =\")\n",
        "timings= input(\"whatis that company timings = \")\n",
        "qualification= input(\"what is your qualification =\")\n"
      ],
      "metadata": {
        "colab": {
          "base_uri": "https://localhost:8080/"
        },
        "id": "AbIwoiRQgZ55",
        "outputId": "78ee11c6-81d4-4fb4-a4f9-c9b1e3503e68"
      },
      "execution_count": null,
      "outputs": [
        {
          "name": "stdout",
          "output_type": "stream",
          "text": [
            "what is the company name =infosis\n",
            "what is your role in that company =data analyst\n",
            "whatis that company timings = 10:00 to 5:00 \n",
            "what is your qualification =any degree / btech\n"
          ]
        }
      ]
    },
    {
      "cell_type": "code",
      "source": [
        "company=input(\"what is the company name =\")\n",
        "role=input(\"what is your role in that company =\")\n",
        "timings= input(\"whatis that company timings = \")\n",
        "qualification= input(\"what is your qualification =\")\n",
        "print(company)\n",
        "print(role)\n",
        "print(timings)\n",
        "print(qualification)"
      ],
      "metadata": {
        "colab": {
          "base_uri": "https://localhost:8080/"
        },
        "id": "WXLPzwHAhiIg",
        "outputId": "04a99c4c-576c-46b1-fcb6-1f10529b0764"
      },
      "execution_count": null,
      "outputs": [
        {
          "output_type": "stream",
          "name": "stdout",
          "text": [
            "what is the company name =mahindra  tech\n",
            "what is your role in that company = graphic diginer\n",
            "whatis that company timings = 10:00 to 6:00\n",
            "what is your qualification =any degree / btech\n",
            "mahindra  tech\n",
            " graphic diginer\n",
            "10:00 to 6:00\n",
            "any degree / btech\n"
          ]
        }
      ]
    },
    {
      "cell_type": "markdown",
      "source": [
        "#**string method**"
      ],
      "metadata": {
        "id": "zvjgHNgOxMoM"
      }
    },
    {
      "cell_type": "markdown",
      "source": [
        "## **some types of in this string**\n",
        "\n",
        "\n",
        "1.   len():\n",
        "2.   lower()/upper():\n",
        "3. strip():\n",
        "4.replace():\n",
        "5.split():\n",
        "6.join():"
      ],
      "metadata": {
        "id": "kQCcUlboxoz2"
      }
    },
    {
      "cell_type": "code",
      "source": [
        "#length\n",
        "#this string uses to messure the words length\n",
        "name=\"html\"\n",
        "tags=\"Bold text,button,title\"\n",
        "course=len(name)\n",
        "name1=len(tags)\n",
        "print(course)\n",
        "print(name1)"
      ],
      "metadata": {
        "id": "oa78i8WmyrZ-",
        "colab": {
          "base_uri": "https://localhost:8080/"
        },
        "outputId": "c457c940-e4de-4094-9f44-270725bbec25"
      },
      "execution_count": null,
      "outputs": [
        {
          "output_type": "stream",
          "name": "stdout",
          "text": [
            "4\n",
            "22\n"
          ]
        }
      ]
    },
    {
      "cell_type": "code",
      "source": [
        "english=\"it is an important language\"\n",
        "king =\"ruling their kingdom\"\n",
        "queen=\"she is a king wife\"\n",
        "language=len(english)\n",
        "rule=len(king)\n",
        "she=len(queen)\n",
        "print(language)\n",
        "print(rule)\n",
        "print(she)"
      ],
      "metadata": {
        "colab": {
          "base_uri": "https://localhost:8080/"
        },
        "id": "3Tp5b2J824sk",
        "outputId": "bd76db86-4f76-4789-9d8f-f14fd180a8e6"
      },
      "execution_count": null,
      "outputs": [
        {
          "output_type": "stream",
          "name": "stdout",
          "text": [
            "27\n",
            "20\n",
            "18\n"
          ]
        }
      ]
    },
    {
      "cell_type": "code",
      "source": [
        "drive=\"it is a storage inbox type\"\n",
        "passage=\"But some attributes go unnoticed in most users experience\"\n",
        "passage1=\"Chances are that you don't get to see the difference between the previous example and the one below. However, many user agents use this information at some level. For example, voice browsers, commonly used by visually impaired people, use this attribute to adjust the pronunciation of the voice synthesizer to the specified language.\"\n",
        "storage=len(drive)\n",
        "pas=len(passage)\n",
        "pas1=len(passage1)\n",
        "print(storage)\n",
        "print(pas)\n",
        "print(pas1)"
      ],
      "metadata": {
        "colab": {
          "base_uri": "https://localhost:8080/"
        },
        "id": "pxusVYB_4_yv",
        "outputId": "d712ce1c-8877-4198-af85-002066fc72a0"
      },
      "execution_count": null,
      "outputs": [
        {
          "output_type": "stream",
          "name": "stdout",
          "text": [
            "26\n",
            "57\n",
            "333\n"
          ]
        }
      ]
    },
    {
      "cell_type": "markdown",
      "source": [
        "## **lower()/upper()**"
      ],
      "metadata": {
        "id": "gxt61_Lx9zRG"
      }
    },
    {
      "cell_type": "code",
      "source": [
        "#converts the string to lower case/uppercase\n",
        "english=\"1.it is an important language\"\n",
        "king =\"2.ruling their kingdom\"\n",
        "queen=\"3.she is a king wife\"\n",
        "print(english.upper())\n",
        "print(king.upper())\n",
        "print(queen.upper())\n",
        "\n",
        "\n",
        "english=\"a.IT IS AN IMPORTANT LANGUAGE\"\n",
        "king=\"b.RULING THEIR KINGDOM\"\n",
        "queen=\"c.SHE IS A KING WIFE\"\n",
        "print(english.lower())\n",
        "print(king.lower())\n",
        "print(queen.lower())"
      ],
      "metadata": {
        "colab": {
          "base_uri": "https://localhost:8080/"
        },
        "id": "N7xI5kDp9-gA",
        "outputId": "e2161c48-d215-4cf5-bbb6-41d591b62709"
      },
      "execution_count": null,
      "outputs": [
        {
          "output_type": "stream",
          "name": "stdout",
          "text": [
            "1.IT IS AN IMPORTANT LANGUAGE\n",
            "2.RULING THEIR KINGDOM\n",
            "3.SHE IS A KING WIFE\n",
            "a.it is an important language\n",
            "b.ruling their kingdom\n",
            "c.she is a king wife\n"
          ]
        }
      ]
    },
    {
      "cell_type": "code",
      "source": [
        "drive=\"1.it is a storage inbox type\"\n",
        "passage=\"2.But some attributes go unnoticed in most users experience\"\n",
        "passage1=\"3.Chances are that you don't get to see the difference between the previous example and the one below. However, many user agents use this information at some level. For example, voice browsers, commonly used by visually impaired people, use this attribute to adjust the pronunciation of the voice synthesizer to the specified language.\"\n",
        "print(drive.upper())\n",
        "print(passage.upper())\n",
        "print(passage1.upper())\n",
        "drive1=\"a.IT IS A STORAGE INBOX TYPE\"\n",
        "passage3=\"b.BUT SOME ATTRIBUTES GO UNNOTICED IN MOST USERS EXPERIENCE\"\n",
        "passage4=\"c.CHANCES ARE THAT YOU DON'T GET TO SEE THE DIFFERENCE BETWEEN THE PREVIOUS EXAMPLE AND THE ONE BELOW. HOWEVER, MANY USER AGENTS USE THIS INFORMATION AT SOME LEVEL. FOR EXAMPLE, VOICE BROWSERS, COMMONLY USED BY VISUALLY IMPAIRED PEOPLE, USE THIS ATTRIBUTE TO ADJUST THE PRONUNCIATION OF THE VOICE SYNTHESIZER TO THE SPECIFIED LANGUAGE.\"\n",
        "print(drive1.lower())\n",
        "print(passage3.lower())\n",
        "print(passage4.lower())"
      ],
      "metadata": {
        "colab": {
          "base_uri": "https://localhost:8080/"
        },
        "id": "_ioLiorx-7Xh",
        "outputId": "e49a7a06-5bd1-4de3-dfab-4d69a3213264"
      },
      "execution_count": null,
      "outputs": [
        {
          "output_type": "stream",
          "name": "stdout",
          "text": [
            "1.IT IS A STORAGE INBOX TYPE\n",
            "2.BUT SOME ATTRIBUTES GO UNNOTICED IN MOST USERS EXPERIENCE\n",
            "3.CHANCES ARE THAT YOU DON'T GET TO SEE THE DIFFERENCE BETWEEN THE PREVIOUS EXAMPLE AND THE ONE BELOW. HOWEVER, MANY USER AGENTS USE THIS INFORMATION AT SOME LEVEL. FOR EXAMPLE, VOICE BROWSERS, COMMONLY USED BY VISUALLY IMPAIRED PEOPLE, USE THIS ATTRIBUTE TO ADJUST THE PRONUNCIATION OF THE VOICE SYNTHESIZER TO THE SPECIFIED LANGUAGE.\n",
            "a.it is a storage inbox type\n",
            "b.but some attributes go unnoticed in most users experience\n",
            "c.chances are that you don't get to see the difference between the previous example and the one below. however, many user agents use this information at some level. for example, voice browsers, commonly used by visually impaired people, use this attribute to adjust the pronunciation of the voice synthesizer to the specified language.\n"
          ]
        }
      ]
    },
    {
      "cell_type": "markdown",
      "source": [
        "## **strip():**"
      ],
      "metadata": {
        "id": "r4f42-R1BIM5"
      }
    },
    {
      "cell_type": "code",
      "source": [
        "#remove leading and trailing whitespace\n",
        "english=\"      1.it is an important language           \"\n",
        "king =\"        2.ruling their kingdom                  \"\n",
        "queen=\"        3.she is a king wife                     \"\n",
        "drive=\"        a.it is a storage inbox type              \"\n",
        "passage=\"      b.But some attributes go unnoticed in most users experience                   \"\n",
        "passage1=\"                 c.Chances are that you don't get to see the difference between the previous example and the one below. However, many user agents use this information at some level. For example, voice browsers, commonly used by visually impaired people, use this attribute to adjust the pronunciation of the voice synthesizer to the specified language.                                     \"\n",
        "print(english.strip())\n",
        "print(king.strip())\n",
        "print(queen.strip())\n",
        "print(drive.strip())\n",
        "print(passage.strip())\n",
        "print(passage1.strip())"
      ],
      "metadata": {
        "colab": {
          "base_uri": "https://localhost:8080/"
        },
        "id": "DFZMdS7GBQFx",
        "outputId": "fea3ef00-57f5-44a4-95ed-c6b47c4f38bc"
      },
      "execution_count": null,
      "outputs": [
        {
          "output_type": "stream",
          "name": "stdout",
          "text": [
            "1.it is an important language\n",
            "2.ruling their kingdom\n",
            "3.she is a king wife\n",
            "a.it is a storage inbox type\n",
            "b.But some attributes go unnoticed in most users experience\n",
            "c.Chances are that you don't get to see the difference between the previous example and the one below. However, many user agents use this information at some level. For example, voice browsers, commonly used by visually impaired people, use this attribute to adjust the pronunciation of the voice synthesizer to the specified language.\n"
          ]
        }
      ]
    },
    {
      "cell_type": "markdown",
      "source": [
        "## **Replace():**\n"
      ],
      "metadata": {
        "id": "p72x-E5pDkrk"
      }
    },
    {
      "cell_type": "code",
      "source": [
        "#Replace a subsrting  to another substring\n",
        "english=\"1.it is an important language\"\n",
        "king =\"2.ruling their kingdom\"\n",
        "queen=\"3.she is a king wife\"\n",
        "drive=\"a.it is a storage inbox type\"\n",
        "passage=\"b.But some attributes go unnoticed in most users experience\"\n",
        "passage1=\"c.Chances are that you don't get to see the difference between the previous example and the one below. However, many user agents use this information at some level. For example, voice browsers, commonly used by visually impaired people, use this attribute to adjust the pronunciation of the voice synthesizer to the specified language.\"\n",
        "english1=english.replace(\"language\",\"fluant english\")\n",
        "king1=king.replace(\"kingdom\",\"people\")\n",
        "queen1=queen.replace(\"wife\",\"feyancy\")\n",
        "drive1=drive.replace(\"inbox type\",\"saving data\")\n",
        "passage2=passage.replace(\"attributes\",\"elements\")\n",
        "passage3=passage1.replace(\"However, many user agents use this information at some level.\",\"only that this time we're providing a language tag as value of the attribute.\")\n",
        "print(english1)\n",
        "print(king1)\n",
        "print(queen1)\n",
        "print(drive1)\n",
        "print(passage2)\n",
        "print(passage3)"
      ],
      "metadata": {
        "colab": {
          "base_uri": "https://localhost:8080/"
        },
        "id": "hhgETf0TDs_G",
        "outputId": "9ce131b2-8e58-4328-c6fb-e0bb83d22833"
      },
      "execution_count": null,
      "outputs": [
        {
          "output_type": "stream",
          "name": "stdout",
          "text": [
            "1.it is an important fluant english\n",
            "2.ruling their people\n",
            "3.she is a king feyancy\n",
            "a.it is a storage saving data\n",
            "b.But some elements go unnoticed in most users experience\n",
            "c.Chances are that you don't get to see the difference between the previous example and the one below. only that this time we're providing a language tag as value of the attribute. For example, voice browsers, commonly used by visually impaired people, use this attribute to adjust the pronunciation of the voice synthesizer to the specified language.\n"
          ]
        }
      ]
    },
    {
      "cell_type": "markdown",
      "source": [
        "## **split():**"
      ],
      "metadata": {
        "id": "tPCue1VgIXMb"
      }
    },
    {
      "cell_type": "code",
      "source": [
        "#split the strik into a list substring\n",
        "english=\"1.it is an important language\"\n",
        "king =\"2.ruling their kingdom\"\n",
        "queen=\"3.she is a king wife\"\n",
        "drive=\"a.it is a storage inbox type\"\n",
        "passage=\"b.But some attributes go unnoticed in most users experience\"\n",
        "passage1=\"c.Chances are that you don't get to see the difference between the previous example and the one below. However, many user agents use this information at some level. For example, voice browsers, commonly used by visually impaired people, use this attribute to adjust the pronunciation of the voice synthesizer to the specified language.\"\n",
        "english1=english.split()\n",
        "king1=king.split()\n",
        "queen1=queen.split()\n",
        "drive1=drive.split()\n",
        "passage3=passage.split()\n",
        "passage4=passage1.split()\n",
        "print(english1)\n",
        "print(king1)\n",
        "print(drive1)\n",
        "print(queen1)\n",
        "print(passage3)\n",
        "print(passage4)"
      ],
      "metadata": {
        "colab": {
          "base_uri": "https://localhost:8080/"
        },
        "id": "4i5UZWWdIfgA",
        "outputId": "b1bb3978-d906-4740-da23-14ede358e5e8"
      },
      "execution_count": null,
      "outputs": [
        {
          "output_type": "stream",
          "name": "stdout",
          "text": [
            "['1.it', 'is', 'an', 'important', 'language']\n",
            "['2.ruling', 'their', 'kingdom']\n",
            "['a.it', 'is', 'a', 'storage', 'inbox', 'type']\n",
            "['3.she', 'is', 'a', 'king', 'wife']\n",
            "['b.But', 'some', 'attributes', 'go', 'unnoticed', 'in', 'most', 'users', 'experience']\n",
            "['c.Chances', 'are', 'that', 'you', \"don't\", 'get', 'to', 'see', 'the', 'difference', 'between', 'the', 'previous', 'example', 'and', 'the', 'one', 'below.', 'However,', 'many', 'user', 'agents', 'use', 'this', 'information', 'at', 'some', 'level.', 'For', 'example,', 'voice', 'browsers,', 'commonly', 'used', 'by', 'visually', 'impaired', 'people,', 'use', 'this', 'attribute', 'to', 'adjust', 'the', 'pronunciation', 'of', 'the', 'voice', 'synthesizer', 'to', 'the', 'specified', 'language.']\n"
          ]
        }
      ]
    },
    {
      "cell_type": "markdown",
      "source": [
        "## **join():**"
      ],
      "metadata": {
        "id": "6-90zVoIKeie"
      }
    },
    {
      "cell_type": "code",
      "source": [
        "#join a list of strings\n",
        "english= ['1.it', 'is', 'an', 'important', 'language']\n",
        "king=['2.ruling', 'their', 'kingdom']\n",
        "queen=['a.it', 'is', 'a', 'storage', 'inbox', 'type']\n",
        "drive=['3.she', 'is', 'a', 'king', 'wife']\n",
        "passage=['b.But', 'some', 'attributes', 'go', 'unnoticed', 'in', 'most', 'users', 'experience']\n",
        "passage2=['c.Chances', 'are', 'that', 'you', \"don't\", 'get', 'to', 'see', 'the', 'difference', 'between', 'the', 'previous', 'example', 'and', 'the', 'one', 'below.', 'However,', 'many', 'user', 'agents', 'use', 'this', 'information', 'at', 'some', 'level.', 'For', 'example,', 'voice', 'browsers,', 'commonly', 'used', 'by', 'visually', 'impaired', 'people,', 'use', 'this', 'attribute', 'to', 'adjust', 'the', 'pronunciation', 'of', 'the', 'voice', 'synthesizer', 'to', 'the', 'specified', 'language.']\n",
        "english1=\" \".join(english)\n",
        "king1=\" \".join(king)\n",
        "queen1=\" \".join(queen)\n",
        "drive1=\" \".join(drive)\n",
        "passage3=\" \".join(passage)\n",
        "passage4=\" \".join(passage2)\n",
        "print(english1)\n",
        "print(king1)\n",
        "print(queen1)\n",
        "print(drive1)\n",
        "print(passage3)\n",
        "print(passage4)"
      ],
      "metadata": {
        "colab": {
          "base_uri": "https://localhost:8080/"
        },
        "id": "T7HE7ygMKa5b",
        "outputId": "f3667936-dce8-428f-c34a-6445f33eae49"
      },
      "execution_count": null,
      "outputs": [
        {
          "output_type": "stream",
          "name": "stdout",
          "text": [
            "1.it is an important language\n",
            "2.ruling their kingdom\n",
            "a.it is a storage inbox type\n",
            "3.she is a king wife\n",
            "b.But some attributes go unnoticed in most users experience\n",
            "c.Chances are that you don't get to see the difference between the previous example and the one below. However, many user agents use this information at some level. For example, voice browsers, commonly used by visually impaired people, use this attribute to adjust the pronunciation of the voice synthesizer to the specified language.\n"
          ]
        }
      ]
    },
    {
      "cell_type": "markdown",
      "source": [
        "# **extra string methods**\n",
        "\n",
        "\n",
        "1.   capitalize()\tConverts the first character to upper case\n",
        "2.  casefold()\tConverts string into lower case\n",
        "3.center()\tReturns a centered string\n",
        "4.count()\tReturns the number of times a specified value occurs in a string\n",
        "5.encode()\tReturns an encoded version of the string\n",
        "6.endswith()\tReturns true if the string ends with the specified value\n",
        "7.expandtabs()\tSets the tab size of the string\n",
        "8.find()\tSearches the string for a specified value and returns the position of where it was found\n",
        "9.format()\tFormats specified values in a string\n",
        "10.format_map()\tFormats specified values in a string\n",
        "11.index()\tSearches the string for a specified value and returns the position of where it was found\n",
        "12.isalnum()\tReturns True if all characters in the string are alphanumeric\n",
        "13.isalpha()\tReturns True if all characters in the string are in the alphabet\n",
        "14.isascii()\tReturns True if all characters in the string are ascii characters\n",
        "15.isdecimal()\tReturns True if all characters in the string are decimals\n",
        "16.isdigit()\tReturns True if all characters in the string are digits\n",
        "17.isidentifier()\tReturns True if the string is an identifier\n",
        "18.islower()\tReturns True if all characters in the string are lower case\n",
        "19.isnumeric()\tReturns True if all characters in the string are numeric\n",
        "20isprintable()\tReturns True if all characters in the string are printable\n",
        "21.isspace()\tReturns True if all characters in the string are whitespaces\n",
        "22.istitle()\tReturns True if the string follows the rules of a title\n",
        "23.isupper()\tReturns True if all characters in the string are upper case\n",
        "24.join()\tConverts the elements of an iterable into a string\n",
        "25.ljust()\tReturns a left justified version of the string\n",
        "26.lower()\tConverts a string into lower case\n",
        "27.lstrip()\tReturns a left trim version of the string\n",
        "28.maketrans()\tReturns a translation table to be used in translations\n",
        "29.partition()\tReturns a tuple where the string is parted into three parts\n",
        "30.replace()\tReturns a string where a specified value is replaced with a specified value\n",
        "31.rfind()\tSearches the string for a specified value and returns the last 32.position of where it was found\n",
        "32.rindex()\tSearches the string for a specified value and returns the last position of where it was found\n",
        "33.rjust()\tReturns a right justified version of the string\n",
        "34.rpartition()\tReturns a tuple where the string is parted into three parts\n",
        "35.rsplit()\tSplits the string at the specified separator, and returns a list\n",
        "36.rstrip()\tReturns a right trim version of the string\n",
        "37.split()\tSplits the string at the specified separator, and returns a list\n",
        "38.splitlines()\tSplits the string at line breaks and returns a list\n",
        "39.startswith()\tReturns true if the string starts with the specified value\n",
        "40.strip()\tReturns a trimmed version of the string\n",
        "41.swapcase()\tSwaps cases, lower case becomes upper case and vice versa\n",
        "42.title()\tConverts the first character of each word to upper case\n",
        "43.translate()\tReturns a translated string\n",
        "44.upper()\tConverts a string into upper case\n",
        "45.zfill()\tFills the string with a specified number of 0 values at the beginning\n",
        "\n"
      ],
      "metadata": {
        "id": "0jCq4YbkOVcX"
      }
    },
    {
      "cell_type": "code",
      "source": [
        "#capitalize() Converts the first character to upper case\n",
        "english=\"it is an important language\"\n",
        "english1=(english.capitalize())\n",
        "print(english1)"
      ],
      "metadata": {
        "colab": {
          "base_uri": "https://localhost:8080/"
        },
        "id": "kculOrlDMlb9",
        "outputId": "6d78f45c-81fa-49be-a781-d37a1a4e33bf"
      },
      "execution_count": null,
      "outputs": [
        {
          "output_type": "stream",
          "name": "stdout",
          "text": [
            "It is an important language\n"
          ]
        }
      ]
    },
    {
      "cell_type": "code",
      "source": [
        "#casefold() Converts string into lower case\n",
        "english=\"It is an important language\"\n",
        "english1=(english.casefold())\n",
        "print(english1)"
      ],
      "metadata": {
        "colab": {
          "base_uri": "https://localhost:8080/"
        },
        "id": "rbFg8C2jmMeo",
        "outputId": "190fe9bc-c0cb-49bf-a9ec-90930bdc2718"
      },
      "execution_count": null,
      "outputs": [
        {
          "output_type": "stream",
          "name": "stdout",
          "text": [
            "it is an important language\n"
          ]
        }
      ]
    },
    {
      "cell_type": "code",
      "source": [
        "#center() Returns a centered string\n",
        "english=\"important\"\n",
        "english1=english.center(20)\n",
        "print(english1)\n",
        "#giving charecters in the value place."
      ],
      "metadata": {
        "colab": {
          "base_uri": "https://localhost:8080/"
        },
        "id": "DVcgT5_eoIqR",
        "outputId": "f3dbb463-093e-40b0-c68c-df2a32d9bb0d"
      },
      "execution_count": null,
      "outputs": [
        {
          "output_type": "stream",
          "name": "stdout",
          "text": [
            "     important      \n"
          ]
        }
      ]
    },
    {
      "cell_type": "code",
      "source": [
        "#count() Returns the number of times a specified value occurs in a string\n",
        "english=\"eeeeeeeeeeeeeeeeeeeeeeeeeeeeeeeeeeeeeeeeeeeeeeeeeeeeeeeeeeeeeeeeeeeeeeeeeeeeeeeeeeeeeeeeeeeeeeeeeeeeeeeeeeeeeeeeeeeeeeeeeeeeeeeeeeeeeeeeeeeeeeeeeeeee\"\n",
        "e=english.count(\"e\")\n",
        "print(e)"
      ],
      "metadata": {
        "colab": {
          "base_uri": "https://localhost:8080/"
        },
        "id": "7R0XMIuBoqzi",
        "outputId": "0ee1dba9-7c10-4bae-dd17-16ea61de2e39"
      },
      "execution_count": null,
      "outputs": [
        {
          "output_type": "stream",
          "name": "stdout",
          "text": [
            "149\n"
          ]
        }
      ]
    },
    {
      "cell_type": "code",
      "source": [
        "#encode() Returns an encoded version of the string\n",
        "english=\"It is an important \"\n",
        "english1=english.encode()\n",
        "print(english1)"
      ],
      "metadata": {
        "colab": {
          "base_uri": "https://localhost:8080/"
        },
        "id": "ud7ERmhWrBFV",
        "outputId": "8eddeaa9-09de-46e1-b136-09f713c5c31a"
      },
      "execution_count": null,
      "outputs": [
        {
          "output_type": "stream",
          "name": "stdout",
          "text": [
            "b'It is an important '\n"
          ]
        }
      ]
    },
    {
      "cell_type": "code",
      "source": [
        "#endswith() Returns true if the string ends with the specified value\n",
        "english=\"It is an important language.\"\n",
        "english1=english.endswith(\".\")\n",
        "print(english1)"
      ],
      "metadata": {
        "colab": {
          "base_uri": "https://localhost:8080/"
        },
        "id": "Wnv6vVwDrOaM",
        "outputId": "b591064d-2888-4bec-9e11-82e32d7acfaf"
      },
      "execution_count": null,
      "outputs": [
        {
          "output_type": "stream",
          "name": "stdout",
          "text": [
            "True\n"
          ]
        }
      ]
    },
    {
      "cell_type": "code",
      "source": [
        "#expandtabs() Sets the tab size of the string\n",
        "english=\"I\\tt \\ti\\ts \\ta\\tn \\ti\\tm\\tp\\to\\tr\\tt\\ta\\tn\\tt \\tl\\ta\\tn\\tg\\tu\\ta\\tg\\te\"\n",
        "english3=\"It \\tis \\tan \\timportant \\tlanguage.\"\n",
        "english1=english.expandtabs(5)\n",
        "english2=english3.expandtabs(5)\n",
        "print(english1)\n",
        "print(english2)\n",
        "#using t is give sapces to the expandtabs. anf before t give a \\   it  is applecable to code run"
      ],
      "metadata": {
        "colab": {
          "base_uri": "https://localhost:8080/"
        },
        "id": "hmh8KrNHr-mR",
        "outputId": "54797e7b-7c37-458b-d6de-2cdc69c25eee"
      },
      "execution_count": null,
      "outputs": [
        {
          "output_type": "stream",
          "name": "stdout",
          "text": [
            "I    t    i    s    a    n    i    m    p    o    r    t    a    n    t    l    a    n    g    u    a    g    e\n",
            "It   is   an   important      language.\n"
          ]
        }
      ]
    },
    {
      "cell_type": "code",
      "source": [
        "#find() Searches the string for a specified value and returns the position of where it was found\n",
        "english=\"It is an important language\"\n",
        "#        0123\n",
        "english1=english.find(\"i\")\n",
        "print(english1)\n",
        "#taking positive 0 1 2 3 4 like this"
      ],
      "metadata": {
        "colab": {
          "base_uri": "https://localhost:8080/"
        },
        "id": "aJEnYthqs8Ds",
        "outputId": "4c3fa0b0-e5de-4d55-983f-231bc736ab69"
      },
      "execution_count": null,
      "outputs": [
        {
          "output_type": "stream",
          "name": "stdout",
          "text": [
            "3\n"
          ]
        }
      ]
    },
    {
      "cell_type": "markdown",
      "source": [
        "# **python tuple**\n",
        "\n",
        "\n",
        "1.  one of the data type\n",
        "2.     it is immutable\n",
        "3.    it is supported by \",\"    \n",
        "\n"
      ],
      "metadata": {
        "id": "aV5HDVPBtEPX"
      }
    },
    {
      "cell_type": "markdown",
      "source": [
        "## **creating tuple**"
      ],
      "metadata": {
        "id": "TxYTX8NIuiOq"
      }
    },
    {
      "cell_type": "code",
      "source": [
        "countries=(\"india\",\"japan\",\"Afghanistan\",\"china\")\n",
        "states=(\"andhra pradesh\",\"arunachal pradesh\",\"assam\",\"bihar\")\n",
        "areas=(\"ntrcolony\",\"bapuji nagar\",\"mukkuda peta\",\"rahamathpur\")\n",
        "mandal=(\"hindhupur\",\"rapthadu\",\"nizambad\",\"lepakshi\")\n",
        "people=(2345,5432.6543,7654,9876)\n",
        "all=(108,\"shiva\",2.3,\"anythig\")# this is mixid tuple\n",
        "one=(98,)   #compalsary we should mention the \",\" and pranthasis\"()\" this is single tuple\n",
        "print(countries)\n",
        "print(type(countries))\n",
        "print(states)\n",
        "print(type(states))\n",
        "print(areas)\n",
        "print(type(areas))\n",
        "print(mandal)\n",
        "print(type(mandal))\n",
        "print(people)\n",
        "print(type(people))\n",
        "print(all)\n",
        "print(type(all))\n",
        "print(one)\n",
        "print(type(one))"
      ],
      "metadata": {
        "colab": {
          "base_uri": "https://localhost:8080/"
        },
        "id": "OUuRR3IPulxH",
        "outputId": "ca198ead-d839-417c-ae2a-394d460f1778"
      },
      "execution_count": 4,
      "outputs": [
        {
          "output_type": "stream",
          "name": "stdout",
          "text": [
            "('india', 'japan', 'Afghanistan', 'china')\n",
            "<class 'tuple'>\n",
            "('andhra pradesh', 'arunachal pradesh', 'assam', 'bihar')\n",
            "<class 'tuple'>\n",
            "('ntrcolony', 'bapuji nagar', 'mukkuda peta', 'rahamathpur')\n",
            "<class 'tuple'>\n",
            "('hindhupur', 'rapthadu', 'nizambad', 'lepakshi')\n",
            "<class 'tuple'>\n",
            "(2345, 5432.6543, 7654, 9876)\n",
            "<class 'tuple'>\n",
            "(108, 'shiva', 2.3, 'anythig')\n",
            "<class 'tuple'>\n",
            "(98,)\n",
            "<class 'tuple'>\n"
          ]
        }
      ]
    },
    {
      "cell_type": "markdown",
      "source": [
        "## **accessing tuple**"
      ],
      "metadata": {
        "id": "piH4q6Za2Kb4"
      }
    },
    {
      "cell_type": "code",
      "source": [
        "countries=(\"india\",\"japan\",\"Afghanistan\",\"china\")\n",
        "states=(\"andhra pradesh\",\"arunachal pradesh\",\"assam\",\"bihar\")\n",
        "areas=(\"ntrcolony\",\"bapuji nagar\",\"mukkuda peta\",\"rahamathpur\")\n",
        "mandal=(\"hindhupur\",\"rapthadu\",\"nizambad\",\"lepakshi\")\n",
        "people=(2345,5432,6543,7654,9876)\n",
        "#index\n",
        "print(\"-------------------------->index\")\n",
        "print(countries[0])\n",
        "print(states[1])\n",
        "print(areas[2])\n",
        "print(mandal[3])\n",
        "print(people[4])\n",
        "#slicing\n",
        "print(\"-------------------------->slicing\")\n",
        "print(countries[-2])\n",
        "print(states[-3])\n",
        "print(areas[-1])\n",
        "print(mandal[2:4])\n",
        "print(people[1:4])\n"
      ],
      "metadata": {
        "colab": {
          "base_uri": "https://localhost:8080/"
        },
        "id": "BJ5EYWSk2Q7G",
        "outputId": "1621535e-b5ca-4a9d-cd8c-1d5525d4de55"
      },
      "execution_count": 11,
      "outputs": [
        {
          "output_type": "stream",
          "name": "stdout",
          "text": [
            "-------------------------->index\n",
            "india\n",
            "arunachal pradesh\n",
            "mukkuda peta\n",
            "lepakshi\n",
            "9876\n",
            "-------------------------->slicing\n",
            "Afghanistan\n",
            "arunachal pradesh\n",
            "rahamathpur\n",
            "('nizambad', 'lepakshi')\n",
            "(5432, 6543, 7654)\n"
          ]
        }
      ]
    },
    {
      "cell_type": "markdown",
      "source": [
        "## ***immutable***\n",
        "*can't change strings in this immutable\n",
        "### *once a tuple is created you cannot change into element or add /remove elements*"
      ],
      "metadata": {
        "id": "YXm-Dm-J4gor"
      }
    },
    {
      "cell_type": "code",
      "source": [
        "#'tuple' object does not support item assignment\n",
        "countries['africa']=(\"india\",\"japan\",\"Afghanistan\",\"china\")\n",
        "states['telangana']=(\"andhra pradesh\",\"arunachal pradesh\",\"assam\",\"bihar\")\n",
        "areas[\"sai nagar\"]=(\"ntrcolony\",\"bapuji nagar\",\"mukkuda peta\",\"rahamathpur\")\n",
        "mandal[\"chilukuluru peta\"]=(\"hindhupur\",\"rapthadu\",\"nizambad\",\"lepakshi\")\n",
        "people[2984]=(2345,5432,6543,7654,9876)\n",
        "#'tuple' object does not support item assignment\n"
      ],
      "metadata": {
        "colab": {
          "base_uri": "https://localhost:8080/",
          "height": 219
        },
        "id": "6yRafQz65hXw",
        "outputId": "31143236-adc4-48f1-b1ed-7a52f7d377db"
      },
      "execution_count": 12,
      "outputs": [
        {
          "output_type": "error",
          "ename": "TypeError",
          "evalue": "'tuple' object does not support item assignment",
          "traceback": [
            "\u001b[0;31m---------------------------------------------------------------------------\u001b[0m",
            "\u001b[0;31mTypeError\u001b[0m                                 Traceback (most recent call last)",
            "\u001b[0;32m<ipython-input-12-a74444b21d6b>\u001b[0m in \u001b[0;36m<cell line: 1>\u001b[0;34m()\u001b[0m\n\u001b[0;32m----> 1\u001b[0;31m \u001b[0mcountries\u001b[0m\u001b[0;34m[\u001b[0m\u001b[0;34m'africa'\u001b[0m\u001b[0;34m]\u001b[0m\u001b[0;34m=\u001b[0m\u001b[0;34m(\u001b[0m\u001b[0;34m\"india\"\u001b[0m\u001b[0;34m,\u001b[0m\u001b[0;34m\"japan\"\u001b[0m\u001b[0;34m,\u001b[0m\u001b[0;34m\"Afghanistan\"\u001b[0m\u001b[0;34m,\u001b[0m\u001b[0;34m\"china\"\u001b[0m\u001b[0;34m)\u001b[0m\u001b[0;34m\u001b[0m\u001b[0;34m\u001b[0m\u001b[0m\n\u001b[0m\u001b[1;32m      2\u001b[0m \u001b[0mstates\u001b[0m\u001b[0;34m[\u001b[0m\u001b[0;34m'telangana'\u001b[0m\u001b[0;34m]\u001b[0m\u001b[0;34m=\u001b[0m\u001b[0;34m(\u001b[0m\u001b[0;34m\"andhra pradesh\"\u001b[0m\u001b[0;34m,\u001b[0m\u001b[0;34m\"arunachal pradesh\"\u001b[0m\u001b[0;34m,\u001b[0m\u001b[0;34m\"assam\"\u001b[0m\u001b[0;34m,\u001b[0m\u001b[0;34m\"bihar\"\u001b[0m\u001b[0;34m)\u001b[0m\u001b[0;34m\u001b[0m\u001b[0;34m\u001b[0m\u001b[0m\n\u001b[1;32m      3\u001b[0m \u001b[0mareas\u001b[0m\u001b[0;34m[\u001b[0m\u001b[0;34m\"sai nagar\"\u001b[0m\u001b[0;34m]\u001b[0m\u001b[0;34m=\u001b[0m\u001b[0;34m(\u001b[0m\u001b[0;34m\"ntrcolony\"\u001b[0m\u001b[0;34m,\u001b[0m\u001b[0;34m\"bapuji nagar\"\u001b[0m\u001b[0;34m,\u001b[0m\u001b[0;34m\"mukkuda peta\"\u001b[0m\u001b[0;34m,\u001b[0m\u001b[0;34m\"rahamathpur\"\u001b[0m\u001b[0;34m)\u001b[0m\u001b[0;34m\u001b[0m\u001b[0;34m\u001b[0m\u001b[0m\n\u001b[1;32m      4\u001b[0m \u001b[0mmandal\u001b[0m\u001b[0;34m[\u001b[0m\u001b[0;34m\"chilukuluru peta\"\u001b[0m\u001b[0;34m]\u001b[0m\u001b[0;34m=\u001b[0m\u001b[0;34m(\u001b[0m\u001b[0;34m\"hindhupur\"\u001b[0m\u001b[0;34m,\u001b[0m\u001b[0;34m\"rapthadu\"\u001b[0m\u001b[0;34m,\u001b[0m\u001b[0;34m\"nizambad\"\u001b[0m\u001b[0;34m,\u001b[0m\u001b[0;34m\"lepakshi\"\u001b[0m\u001b[0;34m)\u001b[0m\u001b[0;34m\u001b[0m\u001b[0;34m\u001b[0m\u001b[0m\n\u001b[1;32m      5\u001b[0m \u001b[0mpeople\u001b[0m\u001b[0;34m[\u001b[0m\u001b[0;36m2984\u001b[0m\u001b[0;34m]\u001b[0m\u001b[0;34m=\u001b[0m\u001b[0;34m(\u001b[0m\u001b[0;36m2345\u001b[0m\u001b[0;34m,\u001b[0m\u001b[0;36m5432\u001b[0m\u001b[0;34m,\u001b[0m\u001b[0;36m6543\u001b[0m\u001b[0;34m,\u001b[0m\u001b[0;36m7654\u001b[0m\u001b[0;34m,\u001b[0m\u001b[0;36m9876\u001b[0m\u001b[0;34m)\u001b[0m\u001b[0;34m\u001b[0m\u001b[0;34m\u001b[0m\u001b[0m\n",
            "\u001b[0;31mTypeError\u001b[0m: 'tuple' object does not support item assignment"
          ]
        }
      ]
    },
    {
      "cell_type": "markdown",
      "source": [
        "# **tuple opperations**\n",
        "\n",
        "\n",
        "1.   concantination\n",
        "2.   repetion\n",
        "\n"
      ],
      "metadata": {
        "id": "og1Bz62h6Lje"
      }
    },
    {
      "cell_type": "code",
      "source": [
        "#concantination\n",
        "countries=(\"india\",\"japan\",\"Afghanistan\",\"china\")\n",
        "states=(\"andhra pradesh\",\"arunachal pradesh\",\"assam\",\"bihar\")\n",
        "areas=(\"ntrcolony\",\"bapuji nagar\",\"mukkuda peta\",\"rahamathpur\")\n",
        "mandal=(\"hindhupur\",\"rapthadu\",\"nizambad\",\"lepakshi\")\n",
        "people=(2345,5432,6543,7654,9876)\n",
        "countries1=(\"india\",\"japan\",\"Afghanistan\",\"china\")\n",
        "states2=(\"andhra pradesh\",\"arunachal pradesh\",\"assam\",\"bihar\")\n",
        "areas3=(\"ntrcolony\",\"bapuji nagar\",\"mukkuda peta\",\"rahamathpur\")\n",
        "mandal4=(\"hindhupur\",\"rapthadu\",\"nizambad\",\"lepakshi\")\n",
        "people5=(2345,5432,6543,7654,9876)\n",
        "a=countries+countries1\n",
        "b=states+states2\n",
        "c=areas+areas3\n",
        "d=mandal+mandal4\n",
        "e=people+people5\n",
        "print(a)\n",
        "print(b)\n",
        "print(c)\n",
        "print(d)\n",
        "print(e)"
      ],
      "metadata": {
        "colab": {
          "base_uri": "https://localhost:8080/"
        },
        "id": "lFdlUJSl6iEI",
        "outputId": "baf780b1-7fab-45e2-dd43-1d9e951068e0"
      },
      "execution_count": 14,
      "outputs": [
        {
          "output_type": "stream",
          "name": "stdout",
          "text": [
            "('india', 'japan', 'Afghanistan', 'china', 'india', 'japan', 'Afghanistan', 'china')\n",
            "('andhra pradesh', 'arunachal pradesh', 'assam', 'bihar', 'andhra pradesh', 'arunachal pradesh', 'assam', 'bihar')\n",
            "('ntrcolony', 'bapuji nagar', 'mukkuda peta', 'rahamathpur', 'ntrcolony', 'bapuji nagar', 'mukkuda peta', 'rahamathpur')\n",
            "('hindhupur', 'rapthadu', 'nizambad', 'lepakshi', 'hindhupur', 'rapthadu', 'nizambad', 'lepakshi')\n",
            "(2345, 5432, 6543, 7654, 9876, 2345, 5432, 6543, 7654, 9876)\n"
          ]
        }
      ]
    },
    {
      "cell_type": "code",
      "source": [
        "#repetion\n",
        "countries=(\"india\",\"japan\",\"Afghanistan\",\"china\")\n",
        "states=(\"andhra pradesh\",\"arunachal pradesh\",\"assam\",\"bihar\")\n",
        "areas=(\"ntrcolony\",\"bapuji nagar\",\"mukkuda peta\",\"rahamathpur\")\n",
        "mandal=(\"hindhupur\",\"rapthadu\",\"nizambad\",\"lepakshi\")\n",
        "people=(2345,5432,6543,7654,9876)\n",
        "a=countries*5\n",
        "b=states*6\n",
        "c=areas*7\n",
        "d=mandal*8\n",
        "e=people*9\n",
        "print(a)\n",
        "print(b)\n",
        "print(c)\n",
        "print(d)\n",
        "print(e)"
      ],
      "metadata": {
        "colab": {
          "base_uri": "https://localhost:8080/"
        },
        "id": "Z5OoD66X7ZY3",
        "outputId": "6d9c22e1-cd97-4f55-eadb-878e61a76c45"
      },
      "execution_count": 15,
      "outputs": [
        {
          "output_type": "stream",
          "name": "stdout",
          "text": [
            "('india', 'japan', 'Afghanistan', 'china', 'india', 'japan', 'Afghanistan', 'china', 'india', 'japan', 'Afghanistan', 'china', 'india', 'japan', 'Afghanistan', 'china', 'india', 'japan', 'Afghanistan', 'china')\n",
            "('andhra pradesh', 'arunachal pradesh', 'assam', 'bihar', 'andhra pradesh', 'arunachal pradesh', 'assam', 'bihar', 'andhra pradesh', 'arunachal pradesh', 'assam', 'bihar', 'andhra pradesh', 'arunachal pradesh', 'assam', 'bihar', 'andhra pradesh', 'arunachal pradesh', 'assam', 'bihar', 'andhra pradesh', 'arunachal pradesh', 'assam', 'bihar')\n",
            "('ntrcolony', 'bapuji nagar', 'mukkuda peta', 'rahamathpur', 'ntrcolony', 'bapuji nagar', 'mukkuda peta', 'rahamathpur', 'ntrcolony', 'bapuji nagar', 'mukkuda peta', 'rahamathpur', 'ntrcolony', 'bapuji nagar', 'mukkuda peta', 'rahamathpur', 'ntrcolony', 'bapuji nagar', 'mukkuda peta', 'rahamathpur', 'ntrcolony', 'bapuji nagar', 'mukkuda peta', 'rahamathpur', 'ntrcolony', 'bapuji nagar', 'mukkuda peta', 'rahamathpur')\n",
            "('hindhupur', 'rapthadu', 'nizambad', 'lepakshi', 'hindhupur', 'rapthadu', 'nizambad', 'lepakshi', 'hindhupur', 'rapthadu', 'nizambad', 'lepakshi', 'hindhupur', 'rapthadu', 'nizambad', 'lepakshi', 'hindhupur', 'rapthadu', 'nizambad', 'lepakshi', 'hindhupur', 'rapthadu', 'nizambad', 'lepakshi', 'hindhupur', 'rapthadu', 'nizambad', 'lepakshi', 'hindhupur', 'rapthadu', 'nizambad', 'lepakshi')\n",
            "(2345, 5432, 6543, 7654, 9876, 2345, 5432, 6543, 7654, 9876, 2345, 5432, 6543, 7654, 9876, 2345, 5432, 6543, 7654, 9876, 2345, 5432, 6543, 7654, 9876, 2345, 5432, 6543, 7654, 9876, 2345, 5432, 6543, 7654, 9876, 2345, 5432, 6543, 7654, 9876, 2345, 5432, 6543, 7654, 9876)\n"
          ]
        }
      ]
    },
    {
      "cell_type": "markdown",
      "source": [
        "# **tuple method**\n",
        "tuples have limited methods compared to lists due to their immutablity\n",
        "## count():\n",
        "returns the number of occurrences of specified value\n"
      ],
      "metadata": {
        "id": "abGPQLEE8FeS"
      }
    },
    {
      "cell_type": "code",
      "source": [
        "#count\n",
        "countries=('india', 'japan', 'Afghanistan', 'china', 'india', 'japan', 'Afghanistan', 'china', 'india', 'japan', 'Afghanistan', 'china', 'india', 'japan', 'Afghanistan', 'china', 'india', 'japan', 'Afghanistan', 'china')\n",
        "states=('andhra pradesh', 'arunachal pradesh', 'assam', 'bihar', 'andhra pradesh', 'arunachal pradesh', 'assam', 'bihar', 'andhra pradesh', 'arunachal pradesh', 'assam', 'bihar', 'andhra pradesh', 'arunachal pradesh', 'assam', 'bihar', 'andhra pradesh', 'arunachal pradesh', 'assam', 'bihar', 'andhra pradesh', 'arunachal pradesh', 'assam', 'bihar')\n",
        "areas=('ntrcolony', 'bapuji nagar', 'mukkuda peta', 'rahamathpur', 'ntrcolony', 'bapuji nagar', 'mukkuda peta', 'rahamathpur', 'ntrcolony', 'bapuji nagar', 'mukkuda peta', 'rahamathpur', 'ntrcolony', 'bapuji nagar', 'mukkuda peta', 'rahamathpur', 'ntrcolony', 'bapuji nagar', 'mukkuda peta', 'rahamathpur', 'ntrcolony', 'bapuji nagar', 'mukkuda peta', 'rahamathpur', 'ntrcolony', 'bapuji nagar', 'mukkuda peta', 'rahamathpur')\n",
        "mandal=('hindhupur', 'rapthadu', 'nizambad', 'lepakshi', 'hindhupur', 'rapthadu', 'nizambad', 'lepakshi', 'hindhupur', 'rapthadu', 'nizambad', 'lepakshi', 'hindhupur', 'rapthadu', 'nizambad', 'lepakshi', 'hindhupur', 'rapthadu', 'nizambad', 'lepakshi', 'hindhupur', 'rapthadu', 'nizambad', 'lepakshi', 'hindhupur', 'rapthadu', 'nizambad', 'lepakshi', 'hindhupur', 'rapthadu', 'nizambad', 'lepakshi')\n",
        "people=(2345, 5432, 6543, 7654, 9876, 2345, 5432, 6543, 7654, 9876, 2345, 5432, 6543, 7654, 9876, 2345, 5432, 6543, 7654, 9876, 2345, 5432, 6543, 7654, 9876, 2345, 5432, 6543, 7654, 9876, 2345, 5432, 6543, 7654, 9876, 2345, 5432, 6543, 7654, 9876, 2345, 5432, 6543, 7654, 9876)\n",
        "a=countries.count(\"japan\")\n",
        "b=states.count(\"andhra pradesh\")\n",
        "c=areas.count(\"ntrcolony\")\n",
        "d=mandal.count(\"hindhupur\")\n",
        "e=people.count(2345)\n",
        "print(a)\n",
        "print(b)\n",
        "print(c)\n",
        "print(d)\n",
        "print(e)\n"
      ],
      "metadata": {
        "colab": {
          "base_uri": "https://localhost:8080/"
        },
        "id": "9O7ZgLwy9BrQ",
        "outputId": "443cb557-9e07-4813-9b80-4c068b8e9dd5"
      },
      "execution_count": 17,
      "outputs": [
        {
          "output_type": "stream",
          "name": "stdout",
          "text": [
            "5\n",
            "6\n",
            "7\n",
            "8\n",
            "9\n"
          ]
        }
      ]
    },
    {
      "cell_type": "markdown",
      "source": [
        "# **index**\n",
        "returns the index of the first occurrence of a specified value"
      ],
      "metadata": {
        "id": "SL1GCDDR-a2D"
      }
    },
    {
      "cell_type": "code",
      "source": [
        "#index\n",
        "countries=(\"india\",\"japan\",\"Afghanistan\",\"china\")\n",
        "states=(\"andhra pradesh\",\"arunachal pradesh\",\"assam\",\"bihar\")\n",
        "areas=(\"ntrcolony\",\"bapuji nagar\",\"mukkuda peta\",\"rahamathpur\")\n",
        "mandal=(\"hindhupur\",\"rapthadu\",\"nizambad\",\"lepakshi\")\n",
        "people=(2345,5432,6543,7654,9876)\n",
        "a=countries.index(\"japan\")\n",
        "b=states.index(\"assam\")\n",
        "c=areas.index(\"mukkuda peta\")\n",
        "d=mandal.index(\"lepakshi\")\n",
        "e=people.index(7654)\n",
        "print(a)\n",
        "print(b)\n",
        "print(c)\n",
        "print(d)\n",
        "print(e)"
      ],
      "metadata": {
        "colab": {
          "base_uri": "https://localhost:8080/"
        },
        "id": "aclB3Vb--pz-",
        "outputId": "098b54b5-f098-4a8a-cc91-9b3e450989c4"
      },
      "execution_count": 19,
      "outputs": [
        {
          "output_type": "stream",
          "name": "stdout",
          "text": [
            "1\n",
            "2\n",
            "2\n",
            "3\n",
            "3\n"
          ]
        }
      ]
    }
  ]
}
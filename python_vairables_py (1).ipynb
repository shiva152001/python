{
  "nbformat": 4,
  "nbformat_minor": 0,
  "metadata": {
    "colab": {
      "provenance": []
    },
    "kernelspec": {
      "name": "python3",
      "display_name": "Python 3"
    },
    "language_info": {
      "name": "python"
    }
  },
  "cells": [
    {
      "cell_type": "code",
      "execution_count": null,
      "metadata": {
        "colab": {
          "base_uri": "https://localhost:8080/"
        },
        "id": "9OIjA4ILGJzY",
        "outputId": "bd23f1e9-4956-4a60-eb0d-68b17d15282f"
      },
      "outputs": [
        {
          "output_type": "stream",
          "name": "stdout",
          "text": [
            "87453\n"
          ]
        }
      ],
      "source": [
        "Shiva = 87453\n",
        "print(Shiva)\n",
        "#it is an valid variable using alfabets."
      ]
    },
    {
      "cell_type": "code",
      "source": [
        "apple123 = \"it is my fav fruit\"\n",
        "print (apple123)\n",
        "#it is an valid variable using alfabets after num also."
      ],
      "metadata": {
        "colab": {
          "base_uri": "https://localhost:8080/"
        },
        "id": "Q1xhQXQpHWQv",
        "outputId": "34b92203-98a6-41f7-8639-20b7cef83010"
      },
      "execution_count": null,
      "outputs": [
        {
          "output_type": "stream",
          "name": "stdout",
          "text": [
            "it is my fav fruit\n"
          ]
        }
      ]
    },
    {
      "cell_type": "code",
      "source": [
        "#in valid varibles also give under score.\n",
        "_who = \"my name is shiva.\"\n",
        "print(_who)"
      ],
      "metadata": {
        "colab": {
          "base_uri": "https://localhost:8080/"
        },
        "id": "A599t-uJHpmd",
        "outputId": "5889747c-c831-4659-9c1e-ebdf587dd53a"
      },
      "execution_count": null,
      "outputs": [
        {
          "output_type": "stream",
          "name": "stdout",
          "text": [
            "my name is shiva.\n"
          ]
        }
      ]
    },
    {
      "cell_type": "code",
      "source": [
        "#without under score u will run this code in variables\n",
        "whatsapp = \"it is most usefull app in now a days\"\n",
        "print(whatsapp)"
      ],
      "metadata": {
        "colab": {
          "base_uri": "https://localhost:8080/"
        },
        "id": "oIdBk7LKI3Ru",
        "outputId": "b82a5c41-301f-42a7-8d5d-376f885f9603"
      },
      "execution_count": null,
      "outputs": [
        {
          "output_type": "stream",
          "name": "stdout",
          "text": [
            "it is most usefull app in now a days\n"
          ]
        }
      ]
    },
    {
      "cell_type": "code",
      "source": [
        "#one of the another example we usethree in one code alfabets, underscore,num\n",
        "python_123 =\"python is a easy to understanding language\"\n",
        "print(python_123)\n"
      ],
      "metadata": {
        "colab": {
          "base_uri": "https://localhost:8080/"
        },
        "id": "PS017qCSJ002",
        "outputId": "3690762d-8c17-4ba9-c9a5-7423379d3961"
      },
      "execution_count": null,
      "outputs": [
        {
          "output_type": "stream",
          "name": "stdout",
          "text": [
            "python is a easy to understanding language\n"
          ]
        }
      ]
    },
    {
      "cell_type": "code",
      "source": [
        "#another example   variables in underscore.\n",
        "_coffee = \"i dont drink coffee.\"\n",
        "print(_coffee)"
      ],
      "metadata": {
        "colab": {
          "base_uri": "https://localhost:8080/"
        },
        "id": "6mBAWS78KtzS",
        "outputId": "036a766b-7d01-41d3-c84e-b9ebe6f1a4ac"
      },
      "execution_count": null,
      "outputs": [
        {
          "output_type": "stream",
          "name": "stdout",
          "text": [
            "i dont drink coffee.\n"
          ]
        }
      ]
    },
    {
      "cell_type": "code",
      "source": [
        "#health issue eaxmple in valid variables\n",
        "person = \"docter i am suffering form fever.\"\n",
        "\n",
        "doctor = \" i can cure u r problem dont worry\"\n",
        "\n",
        "print(person,doctor)\n",
        "#here u can use inside the braket two words between + or , it 2 will be aplecable"
      ],
      "metadata": {
        "colab": {
          "base_uri": "https://localhost:8080/"
        },
        "id": "RQeCoYC_NWI7",
        "outputId": "9184ebdd-871e-44f6-cd4b-dd3c6c9ac5dd"
      },
      "execution_count": null,
      "outputs": [
        {
          "output_type": "stream",
          "name": "stdout",
          "text": [
            "docter i am suffering form fever.  i can cure u r problem dont worry\n"
          ]
        }
      ]
    },
    {
      "cell_type": "code",
      "source": [
        " #for bussiness perpose to give one example in vaid variables\n",
        " manager =\"i want this work immidetly.\"\n",
        " employe = \"   yes sure sir ill do immidetly sir.\"\n",
        " print (manager+ employe)\n",
        " #variables and values between \"=\" is mandatory\n",
        " #have to code run print and braket and inside braket we need variables also important to get a code."
      ],
      "metadata": {
        "colab": {
          "base_uri": "https://localhost:8080/"
        },
        "id": "vYzocQX8OevV",
        "outputId": "3d08f106-d971-41fa-a7e6-013c81981641"
      },
      "execution_count": null,
      "outputs": [
        {
          "output_type": "stream",
          "name": "stdout",
          "text": [
            "i want this work immidetly.   yes sure sir ill do immidetly sir.\n"
          ]
        }
      ]
    },
    {
      "cell_type": "code",
      "source": [
        "#next example underscore in varibles\n",
        "_happy = \"i am so happy today.\"\n",
        "#it \"_\" is an underscore\n",
        "print(_happy)"
      ],
      "metadata": {
        "colab": {
          "base_uri": "https://localhost:8080/"
        },
        "id": "7WdQxbnnP5sN",
        "outputId": "37011201-7c9e-4b2c-d1cb-747820b581e8"
      },
      "execution_count": null,
      "outputs": [
        {
          "output_type": "stream",
          "name": "stdout",
          "text": [
            "i am so happy today.\n"
          ]
        }
      ]
    },
    {
      "cell_type": "code",
      "source": [
        "#we see all example in one code like alfabets,underscore\n",
        "kohli =\"easali cup namde.\"\n",
        "_dhoni =\"  i ready to win.\"\n",
        "rohit_124 =\"  i am born to win. \"\n",
        "#like this some examples\n",
        "print(kohli,_dhoni,rohit_124)\n"
      ],
      "metadata": {
        "colab": {
          "base_uri": "https://localhost:8080/"
        },
        "id": "WrabM-DfRfvF",
        "outputId": "9136d192-6336-455a-b71f-2e915a22ea2e"
      },
      "execution_count": null,
      "outputs": [
        {
          "output_type": "stream",
          "name": "stdout",
          "text": [
            "easali cup namde.   i ready to win.   i am born to win. \n"
          ]
        }
      ]
    },
    {
      "cell_type": "code",
      "source": [],
      "metadata": {
        "id": "LlfkM5UQS3j5"
      },
      "execution_count": null,
      "outputs": []
    }
  ]
}